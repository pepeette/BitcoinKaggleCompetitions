{
 "cells": [
  {
   "cell_type": "code",
   "execution_count": null,
   "metadata": {
    "id": "tZRSiDYNQLSr"
   },
   "outputs": [],
   "source": [
    "# "
   ]
  },
  {
   "cell_type": "code",
   "execution_count": null,
   "metadata": {
    "colab": {
     "base_uri": "https://localhost:8080/"
    },
    "id": "87T5BetZQYQv",
    "outputId": "f85cf423-dfdc-46c1-c68c-8023fa3cf45b"
   },
   "outputs": [
    {
     "name": "stdout",
     "output_type": "stream",
     "text": [
      "[nltk_data] Downloading package punkt to /root/nltk_data...\n",
      "[nltk_data]   Package punkt is already up-to-date!\n",
      "[nltk_data] Downloading package averaged_perceptron_tagger to\n",
      "[nltk_data]     /root/nltk_data...\n",
      "[nltk_data]   Package averaged_perceptron_tagger is already up-to-\n",
      "[nltk_data]       date!\n",
      "[nltk_data] Downloading package stopwords to /root/nltk_data...\n",
      "[nltk_data]   Package stopwords is already up-to-date!\n"
     ]
    }
   ],
   "source": [
    "\n",
    "from time import time\n",
    "import pandas as pd\n",
    "import numpy as np\n",
    "import re\n",
    "import sys\n",
    "import csv\n",
    "csv.field_size_limit(sys.maxsize)\n",
    "\n",
    "import matplotlib.pyplot as plt\n",
    "from matplotlib import rcParams\n",
    "import seaborn as sns\n",
    "\n",
    "import nltk\n",
    "nltk.download('punkt')\n",
    "nltk.download('averaged_perceptron_tagger')\n",
    "nltk.download('stopwords')\n",
    "stopwords = nltk.corpus.stopwords.words('english')\n",
    "from nltk.corpus import stopwords\n",
    "from nltk.tokenize import word_tokenize\n",
    "\n",
    "import itertools\n",
    "import datetime\n",
    "\n",
    "import pprint\n",
    "import warnings\n",
    "warnings.filterwarnings('ignore')\n",
    "\n",
    "from sklearn.feature_extraction.text import CountVectorizer\n",
    "from sklearn.naive_bayes import MultinomialNB\n",
    "from sklearn.feature_extraction.text import TfidfTransformer\n",
    "from sklearn.ensemble import RandomForestClassifier, ExtraTreesClassifier,AdaBoostClassifier\n",
    "from sklearn.tree import DecisionTreeClassifier"
   ]
  },
  {
   "cell_type": "code",
   "execution_count": null,
   "metadata": {
    "colab": {
     "base_uri": "https://localhost:8080/"
    },
    "id": "YOckP_sYQcda",
    "outputId": "ec573a69-6969-441d-8887-785f32ae3c22"
   },
   "outputs": [
    {
     "name": "stdout",
     "output_type": "stream",
     "text": [
      "Drive already mounted at /content/drive; to attempt to forcibly remount, call drive.mount(\"/content/drive\", force_remount=True).\n"
     ]
    }
   ],
   "source": [
    "#being able to read csv stored in google drive \n",
    "from google.colab import drive\n",
    "drive.mount(\"/content/drive\")"
   ]
  },
  {
   "cell_type": "code",
   "execution_count": null,
   "metadata": {
    "colab": {
     "base_uri": "https://localhost:8080/",
     "height": 289
    },
    "id": "_F9FfyFSQl_5",
    "outputId": "009cf927-7470-45c5-eed0-4458ffc55b13"
   },
   "outputs": [
    {
     "data": {
      "text/html": [
       "<div>\n",
       "<style scoped>\n",
       "    .dataframe tbody tr th:only-of-type {\n",
       "        vertical-align: middle;\n",
       "    }\n",
       "\n",
       "    .dataframe tbody tr th {\n",
       "        vertical-align: top;\n",
       "    }\n",
       "\n",
       "    .dataframe thead th {\n",
       "        text-align: right;\n",
       "    }\n",
       "</style>\n",
       "<table border=\"1\" class=\"dataframe\">\n",
       "  <thead>\n",
       "    <tr style=\"text-align: right;\">\n",
       "      <th></th>\n",
       "      <th>id</th>\n",
       "      <th>user</th>\n",
       "      <th>fullname</th>\n",
       "      <th>url</th>\n",
       "      <th>timestamp</th>\n",
       "      <th>replies</th>\n",
       "      <th>likes</th>\n",
       "      <th>retweets</th>\n",
       "      <th>text\\r</th>\n",
       "    </tr>\n",
       "  </thead>\n",
       "  <tbody>\n",
       "    <tr>\n",
       "      <th>0</th>\n",
       "      <td>1.132977e+18</td>\n",
       "      <td>KamdemAbdiel</td>\n",
       "      <td>Abdiel kamdem</td>\n",
       "      <td>NaN</td>\n",
       "      <td>2019-05-27 11:49:14+00</td>\n",
       "      <td>0</td>\n",
       "      <td>0</td>\n",
       "      <td>0</td>\n",
       "      <td>È appena uscito un nuovo video! LES CRYPTOMONN...</td>\n",
       "    </tr>\n",
       "    <tr>\n",
       "      <th>1</th>\n",
       "      <td>1.132977e+18</td>\n",
       "      <td>bitcointe</td>\n",
       "      <td>Bitcointe</td>\n",
       "      <td>NaN</td>\n",
       "      <td>2019-05-27 11:49:18+00</td>\n",
       "      <td>0</td>\n",
       "      <td>0</td>\n",
       "      <td>0</td>\n",
       "      <td>Cardano: Digitize Currencies; EOS https://t.co...</td>\n",
       "    </tr>\n",
       "    <tr>\n",
       "      <th>2</th>\n",
       "      <td>1.132977e+18</td>\n",
       "      <td>3eyedbran</td>\n",
       "      <td>Bran - 3 Eyed Raven</td>\n",
       "      <td>NaN</td>\n",
       "      <td>2019-05-27 11:49:06+00</td>\n",
       "      <td>0</td>\n",
       "      <td>2</td>\n",
       "      <td>1</td>\n",
       "      <td>Another Test tweet that wasn't caught in the s...</td>\n",
       "    </tr>\n",
       "    <tr>\n",
       "      <th>3</th>\n",
       "      <td>1.132977e+18</td>\n",
       "      <td>DetroitCrypto</td>\n",
       "      <td>J. Scardina</td>\n",
       "      <td>NaN</td>\n",
       "      <td>2019-05-27 11:49:22+00</td>\n",
       "      <td>0</td>\n",
       "      <td>0</td>\n",
       "      <td>0</td>\n",
       "      <td>Current Crypto Prices! \\n\\nBTC: $8721.99 USD\\n...</td>\n",
       "    </tr>\n",
       "    <tr>\n",
       "      <th>4</th>\n",
       "      <td>1.132977e+18</td>\n",
       "      <td>mmursaleen72</td>\n",
       "      <td>Muhammad Mursaleen</td>\n",
       "      <td>NaN</td>\n",
       "      <td>2019-05-27 11:49:23+00</td>\n",
       "      <td>0</td>\n",
       "      <td>0</td>\n",
       "      <td>0</td>\n",
       "      <td>Spiv (Nosar Baz): BITCOIN Is An Asset &amp;amp; NO...</td>\n",
       "    </tr>\n",
       "  </tbody>\n",
       "</table>\n",
       "</div>"
      ],
      "text/plain": [
       "             id  ...                                             text\\r\n",
       "0  1.132977e+18  ...  È appena uscito un nuovo video! LES CRYPTOMONN...\n",
       "1  1.132977e+18  ...  Cardano: Digitize Currencies; EOS https://t.co...\n",
       "2  1.132977e+18  ...  Another Test tweet that wasn't caught in the s...\n",
       "3  1.132977e+18  ...  Current Crypto Prices! \\n\\nBTC: $8721.99 USD\\n...\n",
       "4  1.132977e+18  ...  Spiv (Nosar Baz): BITCOIN Is An Asset &amp; NO...\n",
       "\n",
       "[5 rows x 9 columns]"
      ]
     },
     "execution_count": 21,
     "metadata": {
      "tags": []
     },
     "output_type": "execute_result"
    }
   ],
   "source": [
    "# Reading the dataset with no columns titles and with latin encoding \n",
    "df_raw = pd.read_csv('/content/drive/MyDrive/Colab Notebooks/NLP/tweets.csv', delimiter=';', skiprows=0, lineterminator='\\n' )\n",
    "df_raw.head()"
   ]
  },
  {
   "cell_type": "code",
   "execution_count": null,
   "metadata": {
    "colab": {
     "base_uri": "https://localhost:8080/",
     "height": 289
    },
    "id": "xalsFDNyQp66",
    "outputId": "28146aec-56e6-4d89-a514-f01e15350255"
   },
   "outputs": [
    {
     "data": {
      "text/html": [
       "<div>\n",
       "<style scoped>\n",
       "    .dataframe tbody tr th:only-of-type {\n",
       "        vertical-align: middle;\n",
       "    }\n",
       "\n",
       "    .dataframe tbody tr th {\n",
       "        vertical-align: top;\n",
       "    }\n",
       "\n",
       "    .dataframe thead th {\n",
       "        text-align: right;\n",
       "    }\n",
       "</style>\n",
       "<table border=\"1\" class=\"dataframe\">\n",
       "  <thead>\n",
       "    <tr style=\"text-align: right;\">\n",
       "      <th></th>\n",
       "      <th>id</th>\n",
       "      <th>user</th>\n",
       "      <th>fullname</th>\n",
       "      <th>url</th>\n",
       "      <th>timestamp</th>\n",
       "      <th>replies</th>\n",
       "      <th>likes</th>\n",
       "      <th>retweets</th>\n",
       "      <th>text</th>\n",
       "    </tr>\n",
       "  </thead>\n",
       "  <tbody>\n",
       "    <tr>\n",
       "      <th>0</th>\n",
       "      <td>1.132977e+18</td>\n",
       "      <td>KamdemAbdiel</td>\n",
       "      <td>Abdiel kamdem</td>\n",
       "      <td>NaN</td>\n",
       "      <td>2019-05-27 11:49:14+00</td>\n",
       "      <td>0</td>\n",
       "      <td>0</td>\n",
       "      <td>0</td>\n",
       "      <td>È appena uscito un nuovo video! LES CRYPTOMONN...</td>\n",
       "    </tr>\n",
       "    <tr>\n",
       "      <th>1</th>\n",
       "      <td>1.132977e+18</td>\n",
       "      <td>bitcointe</td>\n",
       "      <td>Bitcointe</td>\n",
       "      <td>NaN</td>\n",
       "      <td>2019-05-27 11:49:18+00</td>\n",
       "      <td>0</td>\n",
       "      <td>0</td>\n",
       "      <td>0</td>\n",
       "      <td>Cardano: Digitize Currencies; EOS https://t.co...</td>\n",
       "    </tr>\n",
       "    <tr>\n",
       "      <th>2</th>\n",
       "      <td>1.132977e+18</td>\n",
       "      <td>3eyedbran</td>\n",
       "      <td>Bran - 3 Eyed Raven</td>\n",
       "      <td>NaN</td>\n",
       "      <td>2019-05-27 11:49:06+00</td>\n",
       "      <td>0</td>\n",
       "      <td>2</td>\n",
       "      <td>1</td>\n",
       "      <td>Another Test tweet that wasn't caught in the s...</td>\n",
       "    </tr>\n",
       "    <tr>\n",
       "      <th>3</th>\n",
       "      <td>1.132977e+18</td>\n",
       "      <td>DetroitCrypto</td>\n",
       "      <td>J. Scardina</td>\n",
       "      <td>NaN</td>\n",
       "      <td>2019-05-27 11:49:22+00</td>\n",
       "      <td>0</td>\n",
       "      <td>0</td>\n",
       "      <td>0</td>\n",
       "      <td>Current Crypto Prices! \\n\\nBTC: $8721.99 USD\\n...</td>\n",
       "    </tr>\n",
       "    <tr>\n",
       "      <th>4</th>\n",
       "      <td>1.132977e+18</td>\n",
       "      <td>mmursaleen72</td>\n",
       "      <td>Muhammad Mursaleen</td>\n",
       "      <td>NaN</td>\n",
       "      <td>2019-05-27 11:49:23+00</td>\n",
       "      <td>0</td>\n",
       "      <td>0</td>\n",
       "      <td>0</td>\n",
       "      <td>Spiv (Nosar Baz): BITCOIN Is An Asset &amp;amp; NO...</td>\n",
       "    </tr>\n",
       "  </tbody>\n",
       "</table>\n",
       "</div>"
      ],
      "text/plain": [
       "             id  ...                                               text\n",
       "0  1.132977e+18  ...  È appena uscito un nuovo video! LES CRYPTOMONN...\n",
       "1  1.132977e+18  ...  Cardano: Digitize Currencies; EOS https://t.co...\n",
       "2  1.132977e+18  ...  Another Test tweet that wasn't caught in the s...\n",
       "3  1.132977e+18  ...  Current Crypto Prices! \\n\\nBTC: $8721.99 USD\\n...\n",
       "4  1.132977e+18  ...  Spiv (Nosar Baz): BITCOIN Is An Asset &amp; NO...\n",
       "\n",
       "[5 rows x 9 columns]"
      ]
     },
     "execution_count": 22,
     "metadata": {
      "tags": []
     },
     "output_type": "execute_result"
    }
   ],
   "source": [
    " # As the data has no column titles, we will add our own\n",
    "df_raw.columns = [\"id\", \"user\", \"fullname\", \"url\", \"timestamp\", \"replies\",\"likes\",\"retweets\",\"text\"]\n",
    "\n",
    "# Show the first 5 rows of the dataframe.\n",
    "# You can specify the number of rows to be shown as follows: df_raw.head(10)\n",
    "df_raw.head()"
   ]
  },
  {
   "cell_type": "code",
   "execution_count": null,
   "metadata": {
    "colab": {
     "base_uri": "https://localhost:8080/",
     "height": 202
    },
    "id": "XryjXIYhQ_gM",
    "outputId": "7025e54a-998a-4ebf-fdfb-70ab7acc62d5"
   },
   "outputs": [
    {
     "data": {
      "text/html": [
       "<div>\n",
       "<style scoped>\n",
       "    .dataframe tbody tr th:only-of-type {\n",
       "        vertical-align: middle;\n",
       "    }\n",
       "\n",
       "    .dataframe tbody tr th {\n",
       "        vertical-align: top;\n",
       "    }\n",
       "\n",
       "    .dataframe thead th {\n",
       "        text-align: right;\n",
       "    }\n",
       "</style>\n",
       "<table border=\"1\" class=\"dataframe\">\n",
       "  <thead>\n",
       "    <tr style=\"text-align: right;\">\n",
       "      <th></th>\n",
       "      <th>timestamp</th>\n",
       "      <th>text</th>\n",
       "    </tr>\n",
       "  </thead>\n",
       "  <tbody>\n",
       "    <tr>\n",
       "      <th>13899466</th>\n",
       "      <td>2019-10-04 17:42:23+00</td>\n",
       "      <td>$ZRX. Push! Push! Push! Its Rising! $BTC marke...</td>\n",
       "    </tr>\n",
       "    <tr>\n",
       "      <th>12704221</th>\n",
       "      <td>2019-09-16 04:55:05+00</td>\n",
       "      <td>🔵 El bitcoin traerá consecuencias devastadoras...</td>\n",
       "    </tr>\n",
       "    <tr>\n",
       "      <th>4843375</th>\n",
       "      <td>2019-05-29 14:57:57+00</td>\n",
       "      <td>Dm for safe secure and guarantee investment @B...</td>\n",
       "    </tr>\n",
       "    <tr>\n",
       "      <th>4097033</th>\n",
       "      <td>2018-04-07 19:30:13+00</td>\n",
       "      <td>1 #bitcoin está custando R$23990.98 na FoxBit....</td>\n",
       "    </tr>\n",
       "    <tr>\n",
       "      <th>9186367</th>\n",
       "      <td>2019-07-26 16:15:28+00</td>\n",
       "      <td>$xojenn2 @Kiddanny8\\r</td>\n",
       "    </tr>\n",
       "  </tbody>\n",
       "</table>\n",
       "</div>"
      ],
      "text/plain": [
       "                       timestamp                                               text\n",
       "13899466  2019-10-04 17:42:23+00  $ZRX. Push! Push! Push! Its Rising! $BTC marke...\n",
       "12704221  2019-09-16 04:55:05+00  🔵 El bitcoin traerá consecuencias devastadoras...\n",
       "4843375   2019-05-29 14:57:57+00  Dm for safe secure and guarantee investment @B...\n",
       "4097033   2018-04-07 19:30:13+00  1 #bitcoin está custando R$23990.98 na FoxBit....\n",
       "9186367   2019-07-26 16:15:28+00                              $xojenn2 @Kiddanny8\\r"
      ]
     },
     "execution_count": 23,
     "metadata": {
      "tags": []
     },
     "output_type": "execute_result"
    }
   ],
   "source": [
    "\n",
    "# Ommiting every column except for the text and the date, as we won't need any of the other information\n",
    "df = df_raw[['timestamp','text']]\n",
    "df.sample(5)"
   ]
  },
  {
   "cell_type": "code",
   "execution_count": null,
   "metadata": {
    "colab": {
     "base_uri": "https://localhost:8080/"
    },
    "id": "VrHGg9p0zibg",
    "outputId": "cb40950a-d4cb-436d-b02c-c189164c7685"
   },
   "outputs": [
    {
     "data": {
      "text/plain": [
       "dtype('O')"
      ]
     },
     "execution_count": 24,
     "metadata": {
      "tags": []
     },
     "output_type": "execute_result"
    }
   ],
   "source": [
    "#Create split by dates \n",
    "df.timestamp.dtypes"
   ]
  },
  {
   "cell_type": "code",
   "execution_count": null,
   "metadata": {
    "colab": {
     "base_uri": "https://localhost:8080/"
    },
    "id": "UvHVJhiJzsBC",
    "outputId": "6736dff0-25a7-4230-a48f-c851b71405aa"
   },
   "outputs": [
    {
     "data": {
      "text/plain": [
       "0           2019-05-27\n",
       "1           2019-05-27\n",
       "2           2019-05-27\n",
       "3           2019-05-27\n",
       "4           2019-05-27\n",
       "               ...    \n",
       "16889760    2019-11-23\n",
       "16889761    2019-11-23\n",
       "16889762    2019-11-23\n",
       "16889763    2019-11-23\n",
       "16889764    2019-11-23\n",
       "Name: date, Length: 16889765, dtype: object"
      ]
     },
     "execution_count": 25,
     "metadata": {
      "tags": []
     },
     "output_type": "execute_result"
    }
   ],
   "source": [
    "df['date'] = pd.to_datetime(df['timestamp'],format= '%Y-%m-%d').dt.date\n",
    "df['date']"
   ]
  },
  {
   "cell_type": "code",
   "execution_count": null,
   "metadata": {
    "colab": {
     "base_uri": "https://localhost:8080/",
     "height": 202
    },
    "id": "gWUPTcwyzu1h",
    "outputId": "aa4704ca-b149-4228-df1f-f87b0a71858c"
   },
   "outputs": [
    {
     "data": {
      "text/html": [
       "<div>\n",
       "<style scoped>\n",
       "    .dataframe tbody tr th:only-of-type {\n",
       "        vertical-align: middle;\n",
       "    }\n",
       "\n",
       "    .dataframe tbody tr th {\n",
       "        vertical-align: top;\n",
       "    }\n",
       "\n",
       "    .dataframe thead th {\n",
       "        text-align: right;\n",
       "    }\n",
       "</style>\n",
       "<table border=\"1\" class=\"dataframe\">\n",
       "  <thead>\n",
       "    <tr style=\"text-align: right;\">\n",
       "      <th></th>\n",
       "      <th>timestamp</th>\n",
       "      <th>text</th>\n",
       "      <th>date</th>\n",
       "    </tr>\n",
       "  </thead>\n",
       "  <tbody>\n",
       "    <tr>\n",
       "      <th>11291156</th>\n",
       "      <td>2007-04-19 07:14:38+00</td>\n",
       "      <td>is happily mugging at BTC where she will hook ...</td>\n",
       "      <td>2007-04-19</td>\n",
       "    </tr>\n",
       "    <tr>\n",
       "      <th>21</th>\n",
       "      <td>2009-01-11 03:33:52+00</td>\n",
       "      <td>Running bitcoin\\r</td>\n",
       "      <td>2009-01-11</td>\n",
       "    </tr>\n",
       "    <tr>\n",
       "      <th>5164467</th>\n",
       "      <td>2009-01-21 17:29:40+00</td>\n",
       "      <td>Looking at ways to add more anonymity to bitco...</td>\n",
       "      <td>2009-01-21</td>\n",
       "    </tr>\n",
       "    <tr>\n",
       "      <th>5210398</th>\n",
       "      <td>2009-01-27 20:14:10+00</td>\n",
       "      <td>Thinking about how to reduce CO2 emissions fro...</td>\n",
       "      <td>2009-01-27</td>\n",
       "    </tr>\n",
       "    <tr>\n",
       "      <th>5269667</th>\n",
       "      <td>2009-01-29 13:37:53+00</td>\n",
       "      <td>From: Satoshi Nakamoto - 2009-01-11 22:32 Bitc...</td>\n",
       "      <td>2009-01-29</td>\n",
       "    </tr>\n",
       "  </tbody>\n",
       "</table>\n",
       "</div>"
      ],
      "text/plain": [
       "                       timestamp  ...        date\n",
       "11291156  2007-04-19 07:14:38+00  ...  2007-04-19\n",
       "21        2009-01-11 03:33:52+00  ...  2009-01-11\n",
       "5164467   2009-01-21 17:29:40+00  ...  2009-01-21\n",
       "5210398   2009-01-27 20:14:10+00  ...  2009-01-27\n",
       "5269667   2009-01-29 13:37:53+00  ...  2009-01-29\n",
       "\n",
       "[5 rows x 3 columns]"
      ]
     },
     "execution_count": 26,
     "metadata": {
      "tags": []
     },
     "output_type": "execute_result"
    }
   ],
   "source": [
    "#new df is now SORTED by DATE\n",
    "df = df.sort_values(by='date')\n",
    "df.head()"
   ]
  },
  {
   "cell_type": "code",
   "execution_count": null,
   "metadata": {
    "colab": {
     "base_uri": "https://localhost:8080/",
     "height": 233
    },
    "id": "yTA7XWXpzyCv",
    "outputId": "08646d9b-1664-41ec-c941-eb7f35981acb"
   },
   "outputs": [
    {
     "data": {
      "text/html": [
       "<div>\n",
       "<style scoped>\n",
       "    .dataframe tbody tr th:only-of-type {\n",
       "        vertical-align: middle;\n",
       "    }\n",
       "\n",
       "    .dataframe tbody tr th {\n",
       "        vertical-align: top;\n",
       "    }\n",
       "\n",
       "    .dataframe thead th {\n",
       "        text-align: right;\n",
       "    }\n",
       "</style>\n",
       "<table border=\"1\" class=\"dataframe\">\n",
       "  <thead>\n",
       "    <tr style=\"text-align: right;\">\n",
       "      <th></th>\n",
       "      <th>timestamp</th>\n",
       "      <th>text</th>\n",
       "    </tr>\n",
       "    <tr>\n",
       "      <th>date</th>\n",
       "      <th></th>\n",
       "      <th></th>\n",
       "    </tr>\n",
       "  </thead>\n",
       "  <tbody>\n",
       "    <tr>\n",
       "      <th>2007-04-19</th>\n",
       "      <td>2007-04-19 07:14:38+00</td>\n",
       "      <td>is happily mugging at BTC where she will hook ...</td>\n",
       "    </tr>\n",
       "    <tr>\n",
       "      <th>2009-01-11</th>\n",
       "      <td>2009-01-11 03:33:52+00</td>\n",
       "      <td>Running bitcoin\\r</td>\n",
       "    </tr>\n",
       "    <tr>\n",
       "      <th>2009-01-21</th>\n",
       "      <td>2009-01-21 17:29:40+00</td>\n",
       "      <td>Looking at ways to add more anonymity to bitco...</td>\n",
       "    </tr>\n",
       "    <tr>\n",
       "      <th>2009-01-27</th>\n",
       "      <td>2009-01-27 20:14:10+00</td>\n",
       "      <td>Thinking about how to reduce CO2 emissions fro...</td>\n",
       "    </tr>\n",
       "    <tr>\n",
       "      <th>2009-01-29</th>\n",
       "      <td>2009-01-29 13:37:53+00</td>\n",
       "      <td>From: Satoshi Nakamoto - 2009-01-11 22:32 Bitc...</td>\n",
       "    </tr>\n",
       "  </tbody>\n",
       "</table>\n",
       "</div>"
      ],
      "text/plain": [
       "                         timestamp                                               text\n",
       "date                                                                                 \n",
       "2007-04-19  2007-04-19 07:14:38+00  is happily mugging at BTC where she will hook ...\n",
       "2009-01-11  2009-01-11 03:33:52+00                                  Running bitcoin\\r\n",
       "2009-01-21  2009-01-21 17:29:40+00  Looking at ways to add more anonymity to bitco...\n",
       "2009-01-27  2009-01-27 20:14:10+00  Thinking about how to reduce CO2 emissions fro...\n",
       "2009-01-29  2009-01-29 13:37:53+00  From: Satoshi Nakamoto - 2009-01-11 22:32 Bitc..."
      ]
     },
     "execution_count": 27,
     "metadata": {
      "tags": []
     },
     "output_type": "execute_result"
    }
   ],
   "source": [
    "df = df.set_index('date')\n",
    "df.head()"
   ]
  },
  {
   "cell_type": "code",
   "execution_count": null,
   "metadata": {
    "colab": {
     "base_uri": "https://localhost:8080/",
     "height": 233
    },
    "id": "o1LfHRb8z1Ng",
    "outputId": "ab48a079-e4ba-4603-d35d-34fede102179"
   },
   "outputs": [
    {
     "data": {
      "text/html": [
       "<div>\n",
       "<style scoped>\n",
       "    .dataframe tbody tr th:only-of-type {\n",
       "        vertical-align: middle;\n",
       "    }\n",
       "\n",
       "    .dataframe tbody tr th {\n",
       "        vertical-align: top;\n",
       "    }\n",
       "\n",
       "    .dataframe thead th {\n",
       "        text-align: right;\n",
       "    }\n",
       "</style>\n",
       "<table border=\"1\" class=\"dataframe\">\n",
       "  <thead>\n",
       "    <tr style=\"text-align: right;\">\n",
       "      <th></th>\n",
       "      <th>timestamp</th>\n",
       "      <th>text</th>\n",
       "    </tr>\n",
       "    <tr>\n",
       "      <th>date</th>\n",
       "      <th></th>\n",
       "      <th></th>\n",
       "    </tr>\n",
       "  </thead>\n",
       "  <tbody>\n",
       "    <tr>\n",
       "      <th>2019-11-23</th>\n",
       "      <td>2019-11-23 05:47:01+00</td>\n",
       "      <td>Bitcoin:$7231.27732436\\nEthereum:$150.48909214...</td>\n",
       "    </tr>\n",
       "    <tr>\n",
       "      <th>2019-11-23</th>\n",
       "      <td>2019-11-23 05:40:05+00</td>\n",
       "      <td>BTC\\n\\nfinexの乖離がまだ異常水域です。\\n\\nペナントの収束タイミングに合わせた...</td>\n",
       "    </tr>\n",
       "    <tr>\n",
       "      <th>2019-11-23</th>\n",
       "      <td>2019-11-23 05:40:05+00</td>\n",
       "      <td>#BTC New Hub, we have relaunch our #NEWYORKCOI...</td>\n",
       "    </tr>\n",
       "    <tr>\n",
       "      <th>2019-11-23</th>\n",
       "      <td>2019-11-23 05:39:55+00</td>\n",
       "      <td>トランザクション収入がまともにないBitcoinさんのマイナーは単価に依存するからこうなるん...</td>\n",
       "    </tr>\n",
       "    <tr>\n",
       "      <th>2019-11-23</th>\n",
       "      <td>2019-11-23 15:45:06+00</td>\n",
       "      <td>$BTC - an update on the longer term view for B...</td>\n",
       "    </tr>\n",
       "  </tbody>\n",
       "</table>\n",
       "</div>"
      ],
      "text/plain": [
       "                         timestamp                                               text\n",
       "date                                                                                 \n",
       "2019-11-23  2019-11-23 05:47:01+00  Bitcoin:$7231.27732436\\nEthereum:$150.48909214...\n",
       "2019-11-23  2019-11-23 05:40:05+00  BTC\\n\\nfinexの乖離がまだ異常水域です。\\n\\nペナントの収束タイミングに合わせた...\n",
       "2019-11-23  2019-11-23 05:40:05+00  #BTC New Hub, we have relaunch our #NEWYORKCOI...\n",
       "2019-11-23  2019-11-23 05:39:55+00  トランザクション収入がまともにないBitcoinさんのマイナーは単価に依存するからこうなるん...\n",
       "2019-11-23  2019-11-23 15:45:06+00  $BTC - an update on the longer term view for B..."
      ]
     },
     "execution_count": 28,
     "metadata": {
      "tags": []
     },
     "output_type": "execute_result"
    }
   ],
   "source": [
    "# df.date.year > '2017'\n",
    "startdate = pd.to_datetime(\"2017-01-01\").date()\n",
    "df = df.loc[startdate:]\n",
    "df.tail()"
   ]
  },
  {
   "cell_type": "code",
   "execution_count": null,
   "metadata": {
    "colab": {
     "base_uri": "https://localhost:8080/"
    },
    "id": "P1puOePuoynq",
    "outputId": "18865d82-8ecd-4639-9f55-f2d015badcdc"
   },
   "outputs": [
    {
     "name": "stdout",
     "output_type": "stream",
     "text": [
      "Requirement already satisfied: whatthelang in /usr/local/lib/python3.6/dist-packages (1.0.1)\n",
      "Requirement already satisfied: cysignals in /usr/local/lib/python3.6/dist-packages (from whatthelang) (1.10.2)\n",
      "Requirement already satisfied: Cython in /usr/local/lib/python3.6/dist-packages (from whatthelang) (0.29.21)\n",
      "Requirement already satisfied: pyfasttext in /usr/local/lib/python3.6/dist-packages (from whatthelang) (0.4.6)\n",
      "Requirement already satisfied: future in /usr/local/lib/python3.6/dist-packages (from pyfasttext->whatthelang) (0.16.0)\n",
      "Requirement already satisfied: numpy in /usr/local/lib/python3.6/dist-packages (from pyfasttext->whatthelang) (1.18.5)\n"
     ]
    }
   ],
   "source": [
    "!pip install whatthelang"
   ]
  },
  {
   "cell_type": "code",
   "execution_count": null,
   "metadata": {
    "colab": {
     "base_uri": "https://localhost:8080/",
     "height": 233
    },
    "id": "P2iz8w9Pmnhq",
    "outputId": "f19af320-7033-49ff-e0dd-071680512fa5"
   },
   "outputs": [
    {
     "data": {
      "text/html": [
       "<div>\n",
       "<style scoped>\n",
       "    .dataframe tbody tr th:only-of-type {\n",
       "        vertical-align: middle;\n",
       "    }\n",
       "\n",
       "    .dataframe tbody tr th {\n",
       "        vertical-align: top;\n",
       "    }\n",
       "\n",
       "    .dataframe thead th {\n",
       "        text-align: right;\n",
       "    }\n",
       "</style>\n",
       "<table border=\"1\" class=\"dataframe\">\n",
       "  <thead>\n",
       "    <tr style=\"text-align: right;\">\n",
       "      <th></th>\n",
       "      <th>timestamp</th>\n",
       "      <th>text</th>\n",
       "      <th>lang</th>\n",
       "    </tr>\n",
       "    <tr>\n",
       "      <th>date</th>\n",
       "      <th></th>\n",
       "      <th></th>\n",
       "      <th></th>\n",
       "    </tr>\n",
       "  </thead>\n",
       "  <tbody>\n",
       "    <tr>\n",
       "      <th>2017-01-01</th>\n",
       "      <td>2017-01-01 10:30:10+00</td>\n",
       "      <td>$975.00 at 11:30 UTC [24h Range: $950.81 - $97...</td>\n",
       "      <td>en</td>\n",
       "    </tr>\n",
       "    <tr>\n",
       "      <th>2017-01-01</th>\n",
       "      <td>2017-01-01 10:30:06+00</td>\n",
       "      <td>#Bitcoin\\nUltima: R$ 3440.00 Alta: R$ 3440.00 ...</td>\n",
       "      <td>en</td>\n",
       "    </tr>\n",
       "    <tr>\n",
       "      <th>2017-01-01</th>\n",
       "      <td>2017-01-01 10:30:04+00</td>\n",
       "      <td>One Bitcoin now worth $975.00@bitstamp. High $...</td>\n",
       "      <td>en</td>\n",
       "    </tr>\n",
       "    <tr>\n",
       "      <th>2017-01-01</th>\n",
       "      <td>2017-01-01 10:30:06+00</td>\n",
       "      <td>#8BitCoin #8BIT $0.011464 (0.86%) 0.00001195 B...</td>\n",
       "      <td>en</td>\n",
       "    </tr>\n",
       "    <tr>\n",
       "      <th>2017-01-01</th>\n",
       "      <td>2017-01-01 10:23:44+00</td>\n",
       "      <td>#Bitcoin last trade\\n\\n@bitfinex $976.81\\n@btc...</td>\n",
       "      <td>en</td>\n",
       "    </tr>\n",
       "  </tbody>\n",
       "</table>\n",
       "</div>"
      ],
      "text/plain": [
       "                         timestamp  ... lang\n",
       "date                                ...     \n",
       "2017-01-01  2017-01-01 10:30:10+00  ...   en\n",
       "2017-01-01  2017-01-01 10:30:06+00  ...   en\n",
       "2017-01-01  2017-01-01 10:30:04+00  ...   en\n",
       "2017-01-01  2017-01-01 10:30:06+00  ...   en\n",
       "2017-01-01  2017-01-01 10:23:44+00  ...   en\n",
       "\n",
       "[5 rows x 3 columns]"
      ]
     },
     "execution_count": 30,
     "metadata": {
      "tags": []
     },
     "output_type": "execute_result"
    }
   ],
   "source": [
    "from whatthelang import WhatTheLang\n",
    "wtl = WhatTheLang()\n",
    "result = [wtl.predict_lang(row) for row in df['text']]\n",
    "df['lang'] = result\n",
    "df.head()"
   ]
  },
  {
   "cell_type": "code",
   "execution_count": null,
   "metadata": {
    "colab": {
     "base_uri": "https://localhost:8080/",
     "height": 386
    },
    "id": "fIjw7nQN0G0b",
    "outputId": "5f60eb81-acfc-4b44-a356-72e42d8f2450"
   },
   "outputs": [
    {
     "data": {
      "text/html": [
       "<div>\n",
       "<style scoped>\n",
       "    .dataframe tbody tr th:only-of-type {\n",
       "        vertical-align: middle;\n",
       "    }\n",
       "\n",
       "    .dataframe tbody tr th {\n",
       "        vertical-align: top;\n",
       "    }\n",
       "\n",
       "    .dataframe thead th {\n",
       "        text-align: right;\n",
       "    }\n",
       "</style>\n",
       "<table border=\"1\" class=\"dataframe\">\n",
       "  <thead>\n",
       "    <tr style=\"text-align: right;\">\n",
       "      <th></th>\n",
       "      <th>timestamp</th>\n",
       "      <th>text</th>\n",
       "      <th>lang</th>\n",
       "    </tr>\n",
       "    <tr>\n",
       "      <th>date</th>\n",
       "      <th></th>\n",
       "      <th></th>\n",
       "      <th></th>\n",
       "    </tr>\n",
       "  </thead>\n",
       "  <tbody>\n",
       "    <tr>\n",
       "      <th>2019-10-21</th>\n",
       "      <td>2019-10-21 08:31:09+00</td>\n",
       "      <td>Chainlink is gaining fast.\\n\\nhttps://t.co/LQS...</td>\n",
       "      <td>en</td>\n",
       "    </tr>\n",
       "    <tr>\n",
       "      <th>2019-06-21</th>\n",
       "      <td>2019-06-21 21:02:12+00</td>\n",
       "      <td>Bitcoin turned 10 in January. A decade after S...</td>\n",
       "      <td>en</td>\n",
       "    </tr>\n",
       "    <tr>\n",
       "      <th>2019-06-07</th>\n",
       "      <td>2019-06-07 09:15:22+00</td>\n",
       "      <td>RT wiz: I can see a future where everyone has ...</td>\n",
       "      <td>en</td>\n",
       "    </tr>\n",
       "    <tr>\n",
       "      <th>2019-09-19</th>\n",
       "      <td>2019-09-19 14:28:59+00</td>\n",
       "      <td>If Bitcoin ETF's are being rejected.. what are...</td>\n",
       "      <td>en</td>\n",
       "    </tr>\n",
       "    <tr>\n",
       "      <th>2019-09-15</th>\n",
       "      <td>2019-09-15 20:52:33+00</td>\n",
       "      <td>@NYC | Immediate Hire - Customer Service Oppor...</td>\n",
       "      <td>en</td>\n",
       "    </tr>\n",
       "    <tr>\n",
       "      <th>2018-03-26</th>\n",
       "      <td>2018-03-26 20:07:47+00</td>\n",
       "      <td>#BTC Average: 7981.22$\\n\\n#Bitfinex - 7910.00$...</td>\n",
       "      <td>en</td>\n",
       "    </tr>\n",
       "    <tr>\n",
       "      <th>2019-09-20</th>\n",
       "      <td>2019-09-20 18:01:18+00</td>\n",
       "      <td>₿ Actual #Bitcoin #BTC price is \\n1 BTC = 9.20...</td>\n",
       "      <td>en</td>\n",
       "    </tr>\n",
       "    <tr>\n",
       "      <th>2019-11-06</th>\n",
       "      <td>2019-11-06 17:06:30+00</td>\n",
       "      <td>Explainer: Central Bank Digital Currencies: Ed...</td>\n",
       "      <td>en</td>\n",
       "    </tr>\n",
       "    <tr>\n",
       "      <th>2019-05-16</th>\n",
       "      <td>2019-05-16 03:30:39+00</td>\n",
       "      <td>https://t.co/6Szi9FmjcK\\n\\nBTC/USD - HEDEF BÖL...</td>\n",
       "      <td>en</td>\n",
       "    </tr>\n",
       "    <tr>\n",
       "      <th>2019-10-06</th>\n",
       "      <td>2019-10-06 01:05:18+00</td>\n",
       "      <td>BTC\\n\\nこの保ち合いの後\\n#プレ企画 #企画 #仮想通貨 #貰える #プレゼント #...</td>\n",
       "      <td>en</td>\n",
       "    </tr>\n",
       "  </tbody>\n",
       "</table>\n",
       "</div>"
      ],
      "text/plain": [
       "                         timestamp  ... lang\n",
       "date                                ...     \n",
       "2019-10-21  2019-10-21 08:31:09+00  ...   en\n",
       "2019-06-21  2019-06-21 21:02:12+00  ...   en\n",
       "2019-06-07  2019-06-07 09:15:22+00  ...   en\n",
       "2019-09-19  2019-09-19 14:28:59+00  ...   en\n",
       "2019-09-15  2019-09-15 20:52:33+00  ...   en\n",
       "2018-03-26  2018-03-26 20:07:47+00  ...   en\n",
       "2019-09-20  2019-09-20 18:01:18+00  ...   en\n",
       "2019-11-06  2019-11-06 17:06:30+00  ...   en\n",
       "2019-05-16  2019-05-16 03:30:39+00  ...   en\n",
       "2019-10-06  2019-10-06 01:05:18+00  ...   en\n",
       "\n",
       "[10 rows x 3 columns]"
      ]
     },
     "execution_count": 14,
     "metadata": {
      "tags": []
     },
     "output_type": "execute_result"
    }
   ],
   "source": [
    "#ATTENTION, we will take only text, date and lang column FOR THE texts in ENglish and below DATES starting 2017 jan\n",
    "en_df = df[df[\"lang\"] == 'en']\n",
    "en_df.sample(10, random_state = 5)"
   ]
  },
  {
   "cell_type": "code",
   "execution_count": null,
   "metadata": {
    "colab": {
     "base_uri": "https://localhost:8080/"
    },
    "id": "C9ZfTG2_zIgo",
    "outputId": "ed515833-92cb-40a3-b388-f3e8b2e8b203"
   },
   "outputs": [
    {
     "data": {
      "text/plain": [
       "timestamp    0\n",
       "text         0\n",
       "lang         0\n",
       "dtype: int64"
      ]
     },
     "execution_count": 31,
     "metadata": {
      "tags": []
     },
     "output_type": "execute_result"
    }
   ],
   "source": [
    "# checking for null values, if any\n",
    "en_df.isnull().sum()"
   ]
  },
  {
   "cell_type": "code",
   "execution_count": null,
   "metadata": {
    "colab": {
     "base_uri": "https://localhost:8080/",
     "height": 171
    },
    "id": "12t8D98azL06",
    "outputId": "d67d66fd-6dc9-4087-8548-b5375bf31497"
   },
   "outputs": [
    {
     "data": {
      "text/html": [
       "<div>\n",
       "<style scoped>\n",
       "    .dataframe tbody tr th:only-of-type {\n",
       "        vertical-align: middle;\n",
       "    }\n",
       "\n",
       "    .dataframe tbody tr th {\n",
       "        vertical-align: top;\n",
       "    }\n",
       "\n",
       "    .dataframe thead th {\n",
       "        text-align: right;\n",
       "    }\n",
       "</style>\n",
       "<table border=\"1\" class=\"dataframe\">\n",
       "  <thead>\n",
       "    <tr style=\"text-align: right;\">\n",
       "      <th></th>\n",
       "      <th>timestamp</th>\n",
       "      <th>text</th>\n",
       "      <th>lang</th>\n",
       "    </tr>\n",
       "    <tr>\n",
       "      <th>date</th>\n",
       "      <th></th>\n",
       "      <th></th>\n",
       "      <th></th>\n",
       "    </tr>\n",
       "  </thead>\n",
       "  <tbody>\n",
       "    <tr>\n",
       "      <th>2019-07-09</th>\n",
       "      <td>2019-07-09 19:12:17+00</td>\n",
       "      <td>The only chart I care about. RIP bcash via /r/...</td>\n",
       "      <td>en</td>\n",
       "    </tr>\n",
       "    <tr>\n",
       "      <th>2019-08-22</th>\n",
       "      <td>2019-08-22 15:55:06+00</td>\n",
       "      <td>Yeah don't listen to this clown.\\r</td>\n",
       "      <td>en</td>\n",
       "    </tr>\n",
       "    <tr>\n",
       "      <th>2019-09-05</th>\n",
       "      <td>2019-09-05 01:30:20+00</td>\n",
       "      <td>$Bitcoin https://t.co/BYWuBBJUEp https://t.co/...</td>\n",
       "      <td>en</td>\n",
       "    </tr>\n",
       "  </tbody>\n",
       "</table>\n",
       "</div>"
      ],
      "text/plain": [
       "                         timestamp  ... lang\n",
       "date                                ...     \n",
       "2019-07-09  2019-07-09 19:12:17+00  ...   en\n",
       "2019-08-22  2019-08-22 15:55:06+00  ...   en\n",
       "2019-09-05  2019-09-05 01:30:20+00  ...   en\n",
       "\n",
       "[3 rows x 3 columns]"
      ]
     },
     "execution_count": 32,
     "metadata": {
      "tags": []
     },
     "output_type": "execute_result"
    }
   ],
   "source": [
    "#ditching all row when text is null, as need text for analysis\n",
    "en_df.dropna(how='any', inplace=True)\n",
    "en_df.sample(3)"
   ]
  },
  {
   "cell_type": "code",
   "execution_count": null,
   "metadata": {
    "colab": {
     "base_uri": "https://localhost:8080/"
    },
    "id": "Kwv4zQimpoyQ",
    "outputId": "d616e0db-d58c-4945-cf84-5de37abaf57e"
   },
   "outputs": [
    {
     "name": "stdout",
     "output_type": "stream",
     "text": [
      "<class 'pandas.core.frame.DataFrame'>\n",
      "Index: 12343033 entries, 2017-01-01 to 2019-11-23\n",
      "Data columns (total 3 columns):\n",
      " #   Column     Dtype \n",
      "---  ------     ----- \n",
      " 0   timestamp  object\n",
      " 1   text       object\n",
      " 2   lang       object\n",
      "dtypes: object(3)\n",
      "memory usage: 376.7+ MB\n"
     ]
    }
   ],
   "source": [
    "en_df.info()"
   ]
  },
  {
   "cell_type": "code",
   "execution_count": null,
   "metadata": {
    "id": "QOR9q5_dYPn7"
   },
   "outputs": [],
   "source": [
    "# import pickle\n",
    "# en_df.to_pickle('/content/drive/MyDrive/Colab Notebooks/NLP/tweetsENdates.pkl')\n",
    "#  to load your pickle file to a new notebook and use the dataframe:\n",
    "# with open(\"/content/drive/MyDrive/Colab Notebooks/NLP/tweetsClean.pkl\", \"rb\") as file:\n",
    "#         df = pickle.load(file)"
   ]
  },
  {
   "cell_type": "code",
   "execution_count": null,
   "metadata": {
    "id": "cAR9882Zz2NA"
   },
   "outputs": [],
   "source": [
    "#export to new CSV as it crashes otherwise\n",
    "en_df.to_csv('/content/drive/MyDrive/Colab Notebooks/NLP/tweetsENdates.csv')"
   ]
  }
 ],
 "metadata": {
  "colab": {
   "collapsed_sections": [],
   "machine_shape": "hm",
   "name": "NLP1 import data to cut",
   "provenance": []
  },
  "kernelspec": {
   "display_name": "Python 3",
   "language": "python",
   "name": "python3"
  },
  "language_info": {
   "codemirror_mode": {
    "name": "ipython",
    "version": 3
   },
   "file_extension": ".py",
   "mimetype": "text/x-python",
   "name": "python",
   "nbconvert_exporter": "python",
   "pygments_lexer": "ipython3",
   "version": "3.7.7"
  }
 },
 "nbformat": 4,
 "nbformat_minor": 1
}
