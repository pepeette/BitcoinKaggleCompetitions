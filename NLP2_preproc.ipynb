{
 "cells": [
  {
   "cell_type": "code",
   "execution_count": 1,
   "metadata": {
    "id": "tZRSiDYNQLSr"
   },
   "outputs": [],
   "source": [
    "# "
   ]
  },
  {
   "cell_type": "markdown",
   "metadata": {
    "id": "tvTemFCOPqr4"
   },
   "source": [
    "applying deep learning on twitter’s sentiment analysis\n",
    "\n",
    "*   Prepare Data - download and prepare 21 millions tweets dat\n",
    "*   Perform Pre-processing - use NLP techniques to pre-process the tweets\n",
    "\n",
    "*   Discover Important Words - use tf-idf and counting to find important words\n",
    "*   Convert Word Representation - download word2vec and apply to the important word\n",
    "\n",
    "*   Train Model - use keras to build and train a deep neural network model\n",
    "\n",
    "*   Evaluate Model - measure the accuracy of the predictive model, and suggest further improvements\n"
   ]
  },
  {
   "cell_type": "markdown",
   "metadata": {
    "id": "83bZgjYjwUZk"
   },
   "source": [
    "IMPORTING DATASET\n"
   ]
  },
  {
   "cell_type": "code",
   "execution_count": 2,
   "metadata": {
    "colab": {
     "base_uri": "https://localhost:8080/"
    },
    "id": "87T5BetZQYQv",
    "outputId": "631ec586-e4ab-400e-f10e-72b6349ea4c3"
   },
   "outputs": [
    {
     "name": "stdout",
     "output_type": "stream",
     "text": [
      "Collecting contractions\n",
      "  Downloading https://files.pythonhosted.org/packages/ce/ad/d1c685967945a04f8596128b15a1ab56c51488f53312e953341af6ff22d1/contractions-0.0.43-py2.py3-none-any.whl\n",
      "Collecting textsearch\n",
      "  Downloading https://files.pythonhosted.org/packages/42/a8/03407021f9555043de5492a2bd7a35c56cc03c2510092b5ec018cae1bbf1/textsearch-0.0.17-py2.py3-none-any.whl\n",
      "Collecting Unidecode\n",
      "\u001b[?25l  Downloading https://files.pythonhosted.org/packages/d0/42/d9edfed04228bacea2d824904cae367ee9efd05e6cce7ceaaedd0b0ad964/Unidecode-1.1.1-py2.py3-none-any.whl (238kB)\n",
      "\u001b[K     |████████████████████████████████| 245kB 4.3MB/s \n",
      "\u001b[?25hCollecting pyahocorasick\n",
      "\u001b[?25l  Downloading https://files.pythonhosted.org/packages/f4/9f/f0d8e8850e12829eea2e778f1c90e3c53a9a799b7f412082a5d21cd19ae1/pyahocorasick-1.4.0.tar.gz (312kB)\n",
      "\u001b[K     |████████████████████████████████| 317kB 6.6MB/s \n",
      "\u001b[?25hBuilding wheels for collected packages: pyahocorasick\n",
      "  Building wheel for pyahocorasick (setup.py) ... \u001b[?25l\u001b[?25hdone\n",
      "  Created wheel for pyahocorasick: filename=pyahocorasick-1.4.0-cp36-cp36m-linux_x86_64.whl size=81701 sha256=77d89fd47b6e13ebcb72334f893d87d4125c76c68bb360497f358f017ccf949a\n",
      "  Stored in directory: /root/.cache/pip/wheels/0a/90/61/87a55f5b459792fbb2b7ba6b31721b06ff5cf6bde541b40994\n",
      "Successfully built pyahocorasick\n",
      "Installing collected packages: Unidecode, pyahocorasick, textsearch, contractions\n",
      "Successfully installed Unidecode-1.1.1 contractions-0.0.43 pyahocorasick-1.4.0 textsearch-0.0.17\n"
     ]
    }
   ],
   "source": [
    "!pip install contractions\n",
    "from time import time\n",
    "import pandas as pd\n",
    "import numpy as np\n",
    "import re\n",
    "import sys\n",
    "import csv\n",
    "import matplotlib.pyplot as plt\n",
    "from matplotlib import rcParams\n",
    "import seaborn as sns\n",
    "\n",
    "import nltk\n",
    "from nltk.corpus import stopwords\n",
    "from nltk.tokenize import word_tokenize\n",
    "from nltk.tokenize import casual\n",
    "\n",
    "import itertools\n",
    "import datetime\n",
    "\n",
    "import pprint\n",
    "import warnings\n",
    "warnings.filterwarnings('ignore')\n",
    "\n",
    "from sklearn.feature_extraction.text import CountVectorizer\n",
    "from sklearn.naive_bayes import MultinomialNB\n",
    "from sklearn.feature_extraction.text import TfidfTransformer\n",
    "from sklearn.ensemble import RandomForestClassifier, ExtraTreesClassifier,AdaBoostClassifier\n",
    "from sklearn.tree import DecisionTreeClassifier"
   ]
  },
  {
   "cell_type": "code",
   "execution_count": 3,
   "metadata": {
    "colab": {
     "base_uri": "https://localhost:8080/"
    },
    "id": "vGgPw6lXwgIK",
    "outputId": "3deb2668-3ac1-48d2-dbb7-4914a05af8e3"
   },
   "outputs": [
    {
     "name": "stdout",
     "output_type": "stream",
     "text": [
      "Mounted at /content/drive\n"
     ]
    }
   ],
   "source": [
    "#being able to read csv stored in google drive \n",
    "from google.colab import drive\n",
    "drive.mount(\"/content/drive\")"
   ]
  },
  {
   "cell_type": "code",
   "execution_count": 4,
   "metadata": {
    "colab": {
     "base_uri": "https://localhost:8080/",
     "height": 137
    },
    "id": "fMujS02_wcVJ",
    "outputId": "d2747d66-e82a-452c-edbd-7b9a1986edec"
   },
   "outputs": [
    {
     "data": {
      "text/html": [
       "<div>\n",
       "<style scoped>\n",
       "    .dataframe tbody tr th:only-of-type {\n",
       "        vertical-align: middle;\n",
       "    }\n",
       "\n",
       "    .dataframe tbody tr th {\n",
       "        vertical-align: top;\n",
       "    }\n",
       "\n",
       "    .dataframe thead th {\n",
       "        text-align: right;\n",
       "    }\n",
       "</style>\n",
       "<table border=\"1\" class=\"dataframe\">\n",
       "  <thead>\n",
       "    <tr style=\"text-align: right;\">\n",
       "      <th></th>\n",
       "      <th>date</th>\n",
       "      <th>timestamp</th>\n",
       "      <th>text</th>\n",
       "      <th>lang</th>\n",
       "    </tr>\n",
       "  </thead>\n",
       "  <tbody>\n",
       "    <tr>\n",
       "      <th>4618557</th>\n",
       "      <td>2018-11-29</td>\n",
       "      <td>2018-11-29 10:06:36+00</td>\n",
       "      <td>Same question! What will you do when the marke...</td>\n",
       "      <td>en</td>\n",
       "    </tr>\n",
       "    <tr>\n",
       "      <th>14536019</th>\n",
       "      <td>2019-08-17</td>\n",
       "      <td>2019-08-17 15:16:12+00</td>\n",
       "      <td>I have $1 in a bitcoin. What that mean?</td>\n",
       "      <td>NaN</td>\n",
       "    </tr>\n",
       "    <tr>\n",
       "      <th>18375954</th>\n",
       "      <td>2019-10-07</td>\n",
       "      <td>2019-10-07 17:54:46+00</td>\n",
       "      <td>@esiattorney LeoAW 100 sats were just sent to ...</td>\n",
       "      <td>en</td>\n",
       "    </tr>\n",
       "  </tbody>\n",
       "</table>\n",
       "</div>"
      ],
      "text/plain": [
       "                date  ... lang\n",
       "4618557   2018-11-29  ...   en\n",
       "14536019  2019-08-17  ...  NaN\n",
       "18375954  2019-10-07  ...   en\n",
       "\n",
       "[3 rows x 4 columns]"
      ]
     },
     "execution_count": 4,
     "metadata": {
      "tags": []
     },
     "output_type": "execute_result"
    }
   ],
   "source": [
    "# Reading the dataset with no columns titles and with latin encoding \n",
    "df = pd.read_csv('/content/drive/MyDrive/Colab Notebooks/NLP/tweetsENdates.csv')\n",
    "df.sample(3)\n"
   ]
  },
  {
   "cell_type": "code",
   "execution_count": 5,
   "metadata": {
    "colab": {
     "base_uri": "https://localhost:8080/"
    },
    "id": "YOckP_sYQcda",
    "outputId": "fa7ccb51-d996-4686-aae0-7cb313857d79"
   },
   "outputs": [
    {
     "name": "stdout",
     "output_type": "stream",
     "text": [
      "<class 'pandas.core.frame.DataFrame'>\n",
      "RangeIndex: 21540060 entries, 0 to 21540059\n",
      "Data columns (total 4 columns):\n",
      " #   Column     Dtype \n",
      "---  ------     ----- \n",
      " 0   date       object\n",
      " 1   timestamp  object\n",
      " 2   text       object\n",
      " 3   lang       object\n",
      "dtypes: object(4)\n",
      "memory usage: 657.4+ MB\n"
     ]
    }
   ],
   "source": [
    "# Checking if there is any missing value and datatype \n",
    "df.info()"
   ]
  },
  {
   "cell_type": "code",
   "execution_count": 6,
   "metadata": {
    "colab": {
     "base_uri": "https://localhost:8080/"
    },
    "id": "_F9FfyFSQl_5",
    "outputId": "ffa9423f-199d-4b8f-d397-f1b07287d5cc"
   },
   "outputs": [
    {
     "data": {
      "text/plain": [
       "date          5589941\n",
       "timestamp      748197\n",
       "text          6010458\n",
       "lang         14459288\n",
       "dtype: int64"
      ]
     },
     "execution_count": 6,
     "metadata": {
      "tags": []
     },
     "output_type": "execute_result"
    }
   ],
   "source": [
    "\n",
    "# checking for null values, if any\n",
    "df.isnull().sum()"
   ]
  },
  {
   "cell_type": "code",
   "execution_count": 7,
   "metadata": {
    "id": "xalsFDNyQp66"
   },
   "outputs": [],
   "source": [
    "#ditching all row when text is null, as need text for analysis\n",
    "df.dropna(how='any', inplace=True)"
   ]
  },
  {
   "cell_type": "code",
   "execution_count": 8,
   "metadata": {
    "colab": {
     "base_uri": "https://localhost:8080/",
     "height": 137
    },
    "id": "XryjXIYhQ_gM",
    "outputId": "fdb3a785-6cc7-4189-ce5c-8da15937d9fe"
   },
   "outputs": [
    {
     "data": {
      "text/html": [
       "<div>\n",
       "<style scoped>\n",
       "    .dataframe tbody tr th:only-of-type {\n",
       "        vertical-align: middle;\n",
       "    }\n",
       "\n",
       "    .dataframe tbody tr th {\n",
       "        vertical-align: top;\n",
       "    }\n",
       "\n",
       "    .dataframe thead th {\n",
       "        text-align: right;\n",
       "    }\n",
       "</style>\n",
       "<table border=\"1\" class=\"dataframe\">\n",
       "  <thead>\n",
       "    <tr style=\"text-align: right;\">\n",
       "      <th></th>\n",
       "      <th>date</th>\n",
       "      <th>timestamp</th>\n",
       "      <th>text</th>\n",
       "      <th>lang</th>\n",
       "    </tr>\n",
       "  </thead>\n",
       "  <tbody>\n",
       "    <tr>\n",
       "      <th>10510309</th>\n",
       "      <td>2019-07-05</td>\n",
       "      <td>2019-07-05 07:14:13+00</td>\n",
       "      <td>it is now your own time to start mining bitcoi...</td>\n",
       "      <td>en</td>\n",
       "    </tr>\n",
       "    <tr>\n",
       "      <th>12066990</th>\n",
       "      <td>2019-07-18</td>\n",
       "      <td>2019-07-18 22:23:09+00</td>\n",
       "      <td>A new privacy coin, Ycash, will be created in ...</td>\n",
       "      <td>en</td>\n",
       "    </tr>\n",
       "    <tr>\n",
       "      <th>9119354</th>\n",
       "      <td>2019-06-22</td>\n",
       "      <td>2019-06-22 17:00:09+00</td>\n",
       "      <td>Price Update: 1 #Bitcoin = $10,913.86 📈 \\n\\n#c...</td>\n",
       "      <td>en</td>\n",
       "    </tr>\n",
       "  </tbody>\n",
       "</table>\n",
       "</div>"
      ],
      "text/plain": [
       "                date  ... lang\n",
       "10510309  2019-07-05  ...   en\n",
       "12066990  2019-07-18  ...   en\n",
       "9119354   2019-06-22  ...   en\n",
       "\n",
       "[3 rows x 4 columns]"
      ]
     },
     "execution_count": 8,
     "metadata": {
      "tags": []
     },
     "output_type": "execute_result"
    }
   ],
   "source": [
    "df.sample(3)"
   ]
  },
  {
   "cell_type": "code",
   "execution_count": 9,
   "metadata": {
    "id": "71NksejZ5ub5"
   },
   "outputs": [],
   "source": [
    "#setting column width wider to read text \n",
    "pd.set_option('display.max_colwidth',700)"
   ]
  },
  {
   "cell_type": "code",
   "execution_count": 10,
   "metadata": {
    "colab": {
     "base_uri": "https://localhost:8080/",
     "height": 187
    },
    "id": "JrtrXoDJ5x_m",
    "outputId": "85c24eb3-1357-404e-d508-b2d28a066282"
   },
   "outputs": [
    {
     "data": {
      "text/html": [
       "<div>\n",
       "<style scoped>\n",
       "    .dataframe tbody tr th:only-of-type {\n",
       "        vertical-align: middle;\n",
       "    }\n",
       "\n",
       "    .dataframe tbody tr th {\n",
       "        vertical-align: top;\n",
       "    }\n",
       "\n",
       "    .dataframe thead th {\n",
       "        text-align: right;\n",
       "    }\n",
       "</style>\n",
       "<table border=\"1\" class=\"dataframe\">\n",
       "  <thead>\n",
       "    <tr style=\"text-align: right;\">\n",
       "      <th></th>\n",
       "      <th>date</th>\n",
       "      <th>text</th>\n",
       "    </tr>\n",
       "  </thead>\n",
       "  <tbody>\n",
       "    <tr>\n",
       "      <th>7692315</th>\n",
       "      <td>2019-06-08</td>\n",
       "      <td>Top 5 #cryptocurrencies \\n Alert Time: 2019-06-09 00:40:02\\n#Bitcoin: $7,919.457\\n#Ethereum: $244.837\\n#XRP: $0.413\\n#Litecoin: $117.988\\n#BitcoinCash: $396.099\\n#instaeth #instaairdrop #crypto #cryptocurrencymarket #bittrex\\n\\nhttps://t.co/rdEr8N5koT\\r</td>\n",
       "    </tr>\n",
       "    <tr>\n",
       "      <th>14031859</th>\n",
       "      <td>2019-08-10</td>\n",
       "      <td>Top 5 #cryptocurrencies \\n Alert Time: 2019-08-10 11:00:31\\n#Bitcoin: $11,823.83309\\n#Ethereum: $211.77519\\n#XRP: $0.30210\\n#BitcoinCash: $319.29555\\n#Litecoin: $85.10328\\n#cryptocurrencymarket #pumpanddump #tothemoon #shill\\n\\nhttps://t.co/EmfFKaRVKs\\r</td>\n",
       "    </tr>\n",
       "    <tr>\n",
       "      <th>5854162</th>\n",
       "      <td>2019-05-16</td>\n",
       "      <td>Buy/Sell BTC changes with up to 100x Leverage at PrimeXBT! 🤑🤩\\n\\nReceive money even when BTC is falling! 📉\\n\\n➡️ https://t.co/tbahKgpCZF https://t.co/AIoes2BHFr\\r</td>\n",
       "    </tr>\n",
       "  </tbody>\n",
       "</table>\n",
       "</div>"
      ],
      "text/plain": [
       "                date                                                                                                                                                                                                                                                           text\n",
       "7692315   2019-06-08  Top 5 #cryptocurrencies \\n Alert Time: 2019-06-09 00:40:02\\n#Bitcoin: $7,919.457\\n#Ethereum: $244.837\\n#XRP: $0.413\\n#Litecoin: $117.988\\n#BitcoinCash: $396.099\\n#instaeth #instaairdrop #crypto #cryptocurrencymarket #bittrex\\n\\nhttps://t.co/rdEr8N5koT\\r\n",
       "14031859  2019-08-10  Top 5 #cryptocurrencies \\n Alert Time: 2019-08-10 11:00:31\\n#Bitcoin: $11,823.83309\\n#Ethereum: $211.77519\\n#XRP: $0.30210\\n#BitcoinCash: $319.29555\\n#Litecoin: $85.10328\\n#cryptocurrencymarket #pumpanddump #tothemoon #shill\\n\\nhttps://t.co/EmfFKaRVKs\\r\n",
       "5854162   2019-05-16                                                                                             Buy/Sell BTC changes with up to 100x Leverage at PrimeXBT! 🤑🤩\\n\\nReceive money even when BTC is falling! 📉\\n\\n➡️ https://t.co/tbahKgpCZF https://t.co/AIoes2BHFr\\r"
      ]
     },
     "execution_count": 10,
     "metadata": {
      "tags": []
     },
     "output_type": "execute_result"
    }
   ],
   "source": [
    "# Ommiting every column except for the text and the date, as we won't need any of the other information\n",
    "df = df[['date','text']]\n",
    "df.sample(3)"
   ]
  },
  {
   "cell_type": "markdown",
   "metadata": {
    "id": "X2dsPlFd6EpU"
   },
   "source": [
    "1 - Is dataset unbalanced ? do we need to split according to a criteria and take sample of those? splitting, skimming and concatening?"
   ]
  },
  {
   "cell_type": "markdown",
   "metadata": {
    "id": "2CrJ6MV86NPk"
   },
   "source": [
    "1a/ CLEANING DATE"
   ]
  },
  {
   "cell_type": "code",
   "execution_count": 11,
   "metadata": {
    "colab": {
     "base_uri": "https://localhost:8080/"
    },
    "id": "PyrSO3gx6IpR",
    "outputId": "160deafb-4dfe-41b5-8b59-01a13a7155f3"
   },
   "outputs": [
    {
     "data": {
      "text/plain": [
       "dtype('O')"
      ]
     },
     "execution_count": 11,
     "metadata": {
      "tags": []
     },
     "output_type": "execute_result"
    }
   ],
   "source": [
    "#Create split by dates \n",
    "df.date.dtypes"
   ]
  },
  {
   "cell_type": "code",
   "execution_count": 12,
   "metadata": {
    "colab": {
     "base_uri": "https://localhost:8080/",
     "height": 137
    },
    "id": "RhRroF3x6Zw1",
    "outputId": "b0e1e9d6-74c1-4ac7-e202-3516bdb76735"
   },
   "outputs": [
    {
     "data": {
      "text/html": [
       "<div>\n",
       "<style scoped>\n",
       "    .dataframe tbody tr th:only-of-type {\n",
       "        vertical-align: middle;\n",
       "    }\n",
       "\n",
       "    .dataframe tbody tr th {\n",
       "        vertical-align: top;\n",
       "    }\n",
       "\n",
       "    .dataframe thead th {\n",
       "        text-align: right;\n",
       "    }\n",
       "</style>\n",
       "<table border=\"1\" class=\"dataframe\">\n",
       "  <thead>\n",
       "    <tr style=\"text-align: right;\">\n",
       "      <th></th>\n",
       "      <th>date</th>\n",
       "      <th>text</th>\n",
       "    </tr>\n",
       "  </thead>\n",
       "  <tbody>\n",
       "    <tr>\n",
       "      <th>2490601</th>\n",
       "      <td>2018-08-01</td>\n",
       "      <td>thank you  , I am pretty bad an interviews, but tried my best\\r</td>\n",
       "    </tr>\n",
       "    <tr>\n",
       "      <th>4928858</th>\n",
       "      <td>2019-01-23</td>\n",
       "      <td>New post in BitcoinTrade: http://Blockchain.com  Wallet Confirms ‘Limited Support’ for Bitcoin SV http://Blockchain.com  Wallet Confirms ‘Limited Support’ for Bitcoin SV\\n&lt;img src=\\r</td>\n",
       "    </tr>\n",
       "    <tr>\n",
       "      <th>8701926</th>\n",
       "      <td>2019-06-17</td>\n",
       "      <td>Bitcoin Maintains $9,200 Level Ahead of Facebook's GlobalCoin Reveal https://t.co/eHYRDZ5k5t\\r</td>\n",
       "    </tr>\n",
       "  </tbody>\n",
       "</table>\n",
       "</div>"
      ],
      "text/plain": [
       "              date                                                                                                                                                                                    text\n",
       "2490601 2018-08-01                                                                                                                         thank you  , I am pretty bad an interviews, but tried my best\\r\n",
       "4928858 2019-01-23  New post in BitcoinTrade: http://Blockchain.com  Wallet Confirms ‘Limited Support’ for Bitcoin SV http://Blockchain.com  Wallet Confirms ‘Limited Support’ for Bitcoin SV\\n<img src=\\r\n",
       "8701926 2019-06-17                                                                                          Bitcoin Maintains $9,200 Level Ahead of Facebook's GlobalCoin Reveal https://t.co/eHYRDZ5k5t\\r"
      ]
     },
     "execution_count": 12,
     "metadata": {
      "tags": []
     },
     "output_type": "execute_result"
    }
   ],
   "source": [
    "\n",
    "df.date = pd.to_datetime(df['date'], format = '%Y-%m-%d')\n",
    "df.sample(3)"
   ]
  },
  {
   "cell_type": "markdown",
   "metadata": {
    "id": "fTm3rwQ_8gTw"
   },
   "source": [
    "1b/ Checking if tweets DO PROMOTE with subscribe"
   ]
  },
  {
   "cell_type": "code",
   "execution_count": 13,
   "metadata": {
    "colab": {
     "base_uri": "https://localhost:8080/"
    },
    "id": "4AXFfLX78han",
    "outputId": "f44c132c-94b8-4e1e-aff1-a2c3cf268e8c"
   },
   "outputs": [
    {
     "data": {
      "text/plain": [
       "93360"
      ]
     },
     "execution_count": 13,
     "metadata": {
      "tags": []
     },
     "output_type": "execute_result"
    }
   ],
   "source": [
    "#can we get counts of tweets that contain Follow us or subscribe?\n",
    "(df['text'].str.contains('subscribe|follow')).sum()"
   ]
  },
  {
   "cell_type": "code",
   "execution_count": 14,
   "metadata": {
    "colab": {
     "base_uri": "https://localhost:8080/"
    },
    "id": "9gVKqh0G8lz2",
    "outputId": "48d40a74-198c-4168-a8a6-427cc9f912ad"
   },
   "outputs": [
    {
     "data": {
      "text/plain": [
       "6987412"
      ]
     },
     "execution_count": 14,
     "metadata": {
      "tags": []
     },
     "output_type": "execute_result"
    }
   ],
   "source": [
    "#checking the few tweets that do NOT contain follow or subscribe\n",
    "(~df['text'].str.contains('subscribe|follow')).sum()"
   ]
  },
  {
   "cell_type": "markdown",
   "metadata": {
    "id": "vkP1AU038o5f"
   },
   "source": [
    "1c/ CHecking if tweets can be CLASSIFIED by TAGS\n"
   ]
  },
  {
   "cell_type": "code",
   "execution_count": 15,
   "metadata": {
    "colab": {
     "base_uri": "https://localhost:8080/"
    },
    "id": "R9PfCynx8qSP",
    "outputId": "5427c8df-cc70-4bf5-8736-ce79644a0f60"
   },
   "outputs": [
    {
     "data": {
      "text/plain": [
       "3817736"
      ]
     },
     "execution_count": 15,
     "metadata": {
      "tags": []
     },
     "output_type": "execute_result"
    }
   ],
   "source": [
    "#checking balance of tweets having # or not\n",
    "df['text'].str.contains('#').sum()"
   ]
  },
  {
   "cell_type": "markdown",
   "metadata": {
    "id": "oIdajGOi85a6"
   },
   "source": [
    "SOME VISUALIZATION"
   ]
  },
  {
   "cell_type": "code",
   "execution_count": 16,
   "metadata": {
    "id": "1kS07cOcyTjS"
   },
   "outputs": [],
   "source": [
    "df = df.sort_values(by='date')"
   ]
  },
  {
   "cell_type": "code",
   "execution_count": 17,
   "metadata": {
    "id": "kSAiCSRkAOKJ"
   },
   "outputs": [],
   "source": [
    "df['year'] = df['date'].dt.year\n",
    "df['month'] = df['date'].dt.month\n",
    "df['day'] = df['date'].dt.day"
   ]
  },
  {
   "cell_type": "code",
   "execution_count": 18,
   "metadata": {
    "colab": {
     "base_uri": "https://localhost:8080/",
     "height": 167
    },
    "id": "H2JsIFUr65KH",
    "outputId": "a1c35195-7aef-49b9-f75d-19c0f42c97e7"
   },
   "outputs": [
    {
     "data": {
      "text/html": [
       "<div>\n",
       "<style scoped>\n",
       "    .dataframe tbody tr th:only-of-type {\n",
       "        vertical-align: middle;\n",
       "    }\n",
       "\n",
       "    .dataframe tbody tr th {\n",
       "        vertical-align: top;\n",
       "    }\n",
       "\n",
       "    .dataframe thead th {\n",
       "        text-align: right;\n",
       "    }\n",
       "</style>\n",
       "<table border=\"1\" class=\"dataframe\">\n",
       "  <thead>\n",
       "    <tr style=\"text-align: right;\">\n",
       "      <th></th>\n",
       "      <th>month</th>\n",
       "      <th>day</th>\n",
       "    </tr>\n",
       "    <tr>\n",
       "      <th>year</th>\n",
       "      <th></th>\n",
       "      <th></th>\n",
       "    </tr>\n",
       "  </thead>\n",
       "  <tbody>\n",
       "    <tr>\n",
       "      <th>2017</th>\n",
       "      <td>2220966</td>\n",
       "      <td>2926514</td>\n",
       "    </tr>\n",
       "    <tr>\n",
       "      <th>2018</th>\n",
       "      <td>3063102</td>\n",
       "      <td>5396700</td>\n",
       "    </tr>\n",
       "    <tr>\n",
       "      <th>2019</th>\n",
       "      <td>48081169</td>\n",
       "      <td>102710850</td>\n",
       "    </tr>\n",
       "  </tbody>\n",
       "</table>\n",
       "</div>"
      ],
      "text/plain": [
       "         month        day\n",
       "year                     \n",
       "2017   2220966    2926514\n",
       "2018   3063102    5396700\n",
       "2019  48081169  102710850"
      ]
     },
     "execution_count": 18,
     "metadata": {
      "tags": []
     },
     "output_type": "execute_result"
    }
   ],
   "source": [
    "df.groupby('year').sum()"
   ]
  },
  {
   "cell_type": "code",
   "execution_count": 19,
   "metadata": {
    "colab": {
     "base_uri": "https://localhost:8080/"
    },
    "id": "0knUvTRA9eXe",
    "outputId": "9e79bc93-0423-459c-eeb5-60e3b7209eb0"
   },
   "outputs": [
    {
     "data": {
      "text/plain": [
       "2019    6332376\n",
       "2018     508793\n",
       "2017     239603\n",
       "Name: year, dtype: int64"
      ]
     },
     "execution_count": 19,
     "metadata": {
      "tags": []
     },
     "output_type": "execute_result"
    }
   ],
   "source": [
    "df.year.value_counts().loc[lambda x : x>10000] "
   ]
  },
  {
   "cell_type": "code",
   "execution_count": 20,
   "metadata": {
    "colab": {
     "base_uri": "https://localhost:8080/",
     "height": 360
    },
    "id": "oEi91RQq9SFe",
    "outputId": "cb9b130c-94f7-4731-87e6-c3f9b8ecd133"
   },
   "outputs": [
    {
     "data": {
      "image/png": "[encoded data removed]",
      "text/plain": [
       "<Figure size 720x360 with 1 Axes>"
      ]
     },
     "metadata": {
      "needs_background": "light",
      "tags": []
     },
     "output_type": "display_data"
    }
   ],
   "source": [
    "# Visualization of news article count per year\n",
    "\n",
    "plt.figure(figsize=(10,5))\n",
    "plt.xlabel(\"Year\")\n",
    "plt.ylabel(\"Counts\")\n",
    "\n",
    "df.year.value_counts().plot(kind='bar')\n",
    "plt.show()"
   ]
  },
  {
   "cell_type": "code",
   "execution_count": 21,
   "metadata": {
    "colab": {
     "base_uri": "https://localhost:8080/",
     "height": 472
    },
    "id": "GLczyvEt89Kz",
    "outputId": "fe8b6732-ff2a-441d-b8a3-15f317b727e2"
   },
   "outputs": [
    {
     "data": {
      "text/plain": [
       "<matplotlib.axes._subplots.AxesSubplot at 0x7fd08f5461d0>"
      ]
     },
     "execution_count": 21,
     "metadata": {
      "tags": []
     },
     "output_type": "execute_result"
    },
    {
     "data": {
      "image/png": "[encoded data removed]",
      "text/plain": [
       "<Figure size 720x504 with 1 Axes>"
      ]
     },
     "metadata": {
      "needs_background": "light",
      "tags": []
     },
     "output_type": "display_data"
    }
   ],
   "source": [
    "# Visualization of news publications names and article count in the dataset\n",
    "\n",
    "import matplotlib.pyplot as plt\n",
    "\n",
    "color_list = list('rgbkymc')  #red, green, blue, black, etc.\n",
    "plt.figure(figsize=(10,7))\n",
    "\n",
    "plt.xlabel(\"date\")\n",
    "plt.ylabel(\"counts\")\n",
    "\n",
    "df.month.value_counts().plot(kind='bar', color=color_list)"
   ]
  },
  {
   "cell_type": "markdown",
   "metadata": {
    "id": "Zmu3iuCXBE2j"
   },
   "source": [
    "2 - skimming tokenize, lemmatize"
   ]
  },
  {
   "cell_type": "markdown",
   "metadata": {
    "id": "_CEFpH0iBafR"
   },
   "source": [
    "2a / PART OF SPEECH CLEANING"
   ]
  },
  {
   "cell_type": "code",
   "execution_count": 22,
   "metadata": {
    "id": "cng8lXIgXIid"
   },
   "outputs": [],
   "source": [
    "#expanding contractions\n",
    "try:\n",
    "  df['text1'] = df['text'].apply(lambda x: [contractions.fix(word) for word in x.split()])\n",
    "except:\n",
    "  df['text1'] = df['text']\n",
    "\n",
    "\n"
   ]
  },
  {
   "cell_type": "code",
   "execution_count": 23,
   "metadata": {
    "id": "DdJlgO-LBkb0"
   },
   "outputs": [],
   "source": [
    "# #joining back the list of items into one string\n",
    "\n",
    "# df['text2'] = [' '.join(map(str, l)) for l in df['text1']]\n",
    "# df.sample(3, random_state = 3)"
   ]
  },
  {
   "cell_type": "code",
   "execution_count": 24,
   "metadata": {
    "id": "bNaqhuTMBqvp"
   },
   "outputs": [],
   "source": [
    "#extracting the URL to clean what can be analysed\n",
    "def get_url(x):\n",
    "  urls = re.findall('http[s]?://(?:[a-zA-Z]|[0-9]|[$-_@.&+]|[!*\\(\\),]|(?:%[0-9a-fA-F][0-9a-fA-F]))+', x)\n",
    "  \n",
    "  if len(urls)==0:\n",
    "    return ' '\n",
    "  else:\n",
    "    return urls"
   ]
  },
  {
   "cell_type": "code",
   "execution_count": 25,
   "metadata": {
    "colab": {
     "base_uri": "https://localhost:8080/",
     "height": 337
    },
    "id": "9iZPNtgEukHC",
    "outputId": "53eac187-e423-4db0-8037-22e11d8398cc"
   },
   "outputs": [
    {
     "data": {
      "text/html": [
       "<div>\n",
       "<style scoped>\n",
       "    .dataframe tbody tr th:only-of-type {\n",
       "        vertical-align: middle;\n",
       "    }\n",
       "\n",
       "    .dataframe tbody tr th {\n",
       "        vertical-align: top;\n",
       "    }\n",
       "\n",
       "    .dataframe thead th {\n",
       "        text-align: right;\n",
       "    }\n",
       "</style>\n",
       "<table border=\"1\" class=\"dataframe\">\n",
       "  <thead>\n",
       "    <tr style=\"text-align: right;\">\n",
       "      <th></th>\n",
       "      <th>date</th>\n",
       "      <th>text</th>\n",
       "      <th>year</th>\n",
       "      <th>month</th>\n",
       "      <th>day</th>\n",
       "      <th>text1</th>\n",
       "      <th>url</th>\n",
       "    </tr>\n",
       "  </thead>\n",
       "  <tbody>\n",
       "    <tr>\n",
       "      <th>11450724</th>\n",
       "      <td>2019-07-14</td>\n",
       "      <td>@BoilingPointLTC @jonnylitecoin @FlexaHQ @dunkindonuts @davidericc @johnkim77 Did the same yesterday in Athens, AL. The cashier had NO IDEA.... The woman behind me look at me with amazement when i told her what had just happened.... #oneatatime #BTC #LTC #TRANSITION\\r</td>\n",
       "      <td>2019</td>\n",
       "      <td>7</td>\n",
       "      <td>14</td>\n",
       "      <td>@BoilingPointLTC @jonnylitecoin @FlexaHQ @dunkindonuts @davidericc @johnkim77 Did the same yesterday in Athens, AL. The cashier had NO IDEA.... The woman behind me look at me with amazement when i told her what had just happened.... #oneatatime #BTC #LTC #TRANSITION\\r</td>\n",
       "      <td></td>\n",
       "    </tr>\n",
       "    <tr>\n",
       "      <th>18120018</th>\n",
       "      <td>2019-10-02</td>\n",
       "      <td>Character is how you treat those who can do nothing for you\\n#WednesdayWisdom #WednesdayThoughts #bitcoin #Crypto https://t.co/WVfCpUU9qb\\r</td>\n",
       "      <td>2019</td>\n",
       "      <td>10</td>\n",
       "      <td>2</td>\n",
       "      <td>Character is how you treat those who can do nothing for you\\n#WednesdayWisdom #WednesdayThoughts #bitcoin #Crypto https://t.co/WVfCpUU9qb\\r</td>\n",
       "      <td>https://t.co/WVfCpUU9qb</td>\n",
       "    </tr>\n",
       "    <tr>\n",
       "      <th>1991376</th>\n",
       "      <td>2018-04-06</td>\n",
       "      <td>RT hackapreneur: SEC Clayton: Whether a token qualifies as a security could also change as the industry evolves, he said, adding:\\n\\n\"Just because it's a security today doesn't mean it'll be a security tomorrow, and vice-versa.\"\\n\\n#sec #bitcoin #blockchain …https://twitter.com/coindesk/status/981992055546241029 …\\r</td>\n",
       "      <td>2018</td>\n",
       "      <td>4</td>\n",
       "      <td>6</td>\n",
       "      <td>RT hackapreneur: SEC Clayton: Whether a token qualifies as a security could also change as the industry evolves, he said, adding:\\n\\n\"Just because it's a security today doesn't mean it'll be a security tomorrow, and vice-versa.\"\\n\\n#sec #bitcoin #blockchain …https://twitter.com/coindesk/status/981992055546241029 …\\r</td>\n",
       "      <td>https://twitter.com/coindesk/status/981992055546241029</td>\n",
       "    </tr>\n",
       "  </tbody>\n",
       "</table>\n",
       "</div>"
      ],
      "text/plain": [
       "               date  ...                                                     url\n",
       "11450724 2019-07-14  ...                                                        \n",
       "18120018 2019-10-02  ...                                 https://t.co/WVfCpUU9qb\n",
       "1991376  2018-04-06  ...  https://twitter.com/coindesk/status/981992055546241029\n",
       "\n",
       "[3 rows x 7 columns]"
      ]
     },
     "execution_count": 25,
     "metadata": {
      "tags": []
     },
     "output_type": "execute_result"
    }
   ],
   "source": [
    "df['url'] = df['text1'].apply(lambda x: get_url(x) )\n",
    "df['url'] = [' '.join(map(str, l)) for l in df['url']]\n",
    "df.sample(3)"
   ]
  },
  {
   "cell_type": "code",
   "execution_count": 26,
   "metadata": {
    "colab": {
     "base_uri": "https://localhost:8080/",
     "height": 321
    },
    "id": "WPdcmXEsBt50",
    "outputId": "adcabd6b-925b-42fb-ed6b-7efa7bc572e2"
   },
   "outputs": [
    {
     "data": {
      "text/html": [
       "<div>\n",
       "<style scoped>\n",
       "    .dataframe tbody tr th:only-of-type {\n",
       "        vertical-align: middle;\n",
       "    }\n",
       "\n",
       "    .dataframe tbody tr th {\n",
       "        vertical-align: top;\n",
       "    }\n",
       "\n",
       "    .dataframe thead th {\n",
       "        text-align: right;\n",
       "    }\n",
       "</style>\n",
       "<table border=\"1\" class=\"dataframe\">\n",
       "  <thead>\n",
       "    <tr style=\"text-align: right;\">\n",
       "      <th></th>\n",
       "      <th>date</th>\n",
       "      <th>text</th>\n",
       "      <th>year</th>\n",
       "      <th>month</th>\n",
       "      <th>day</th>\n",
       "      <th>text1</th>\n",
       "      <th>url</th>\n",
       "      <th>tags</th>\n",
       "    </tr>\n",
       "  </thead>\n",
       "  <tbody>\n",
       "    <tr>\n",
       "      <th>14351095</th>\n",
       "      <td>2019-08-14</td>\n",
       "      <td>Blockchain 2015 on Blockchain Radio - John McAfee Flees The US, Wyoming Opens Up For Cryptocurrency Companies &amp;amp; More Bitcoin Cash News\\r</td>\n",
       "      <td>2019</td>\n",
       "      <td>8</td>\n",
       "      <td>14</td>\n",
       "      <td>Blockchain 2015 on Blockchain Radio - John McAfee Flees The US, Wyoming Opens Up For Cryptocurrency Companies &amp;amp; More Bitcoin Cash News\\r</td>\n",
       "      <td></td>\n",
       "      <td></td>\n",
       "    </tr>\n",
       "    <tr>\n",
       "      <th>11188600</th>\n",
       "      <td>2019-07-11</td>\n",
       "      <td>DOCK/BTC touched  0.00000120 ✅   Target 3 booked just in 1 day\\n❤ Profit  27.7% . All target achieved remarkably\\nmore profit for you from all free signal: https://t.co/VAwyyr9smd\\n#binancesignal #cryptosignal #bitcoin #crypto #DOCK\\r</td>\n",
       "      <td>2019</td>\n",
       "      <td>7</td>\n",
       "      <td>11</td>\n",
       "      <td>DOCK/BTC touched  0.00000120 ✅   Target 3 booked just in 1 day\\n❤ Profit  27.7% . All target achieved remarkably\\nmore profit for you from all free signal: https://t.co/VAwyyr9smd\\n#binancesignal #cryptosignal #bitcoin #crypto #DOCK\\r</td>\n",
       "      <td>https://t.co/VAwyyr9smd</td>\n",
       "      <td>binancesignal crypto DOCK bitcoin cryptosignal</td>\n",
       "    </tr>\n",
       "    <tr>\n",
       "      <th>18969558</th>\n",
       "      <td>2019-10-16</td>\n",
       "      <td>BTC\\n\\n来ました。\\n\\n直近高値更新。\\n\\nここで一度も跳ね返されずに天井を破れたのはいい流れです。\\n\\nというのもここは前回高値7/26から半値ラインであり、日足レベルでも大きなレジスタンスが通る位置なのですが、その割に上値の重さを感じさせない値動きです。\\n\\nこれにより日足の雲に食い込みました。 https://t.co/xS2tRM0buh\\r</td>\n",
       "      <td>2019</td>\n",
       "      <td>10</td>\n",
       "      <td>16</td>\n",
       "      <td>BTC\\n\\n来ました。\\n\\n直近高値更新。\\n\\nここで一度も跳ね返されずに天井を破れたのはいい流れです。\\n\\nというのもここは前回高値7/26から半値ラインであり、日足レベルでも大きなレジスタンスが通る位置なのですが、その割に上値の重さを感じさせない値動きです。\\n\\nこれにより日足の雲に食い込みました。 https://t.co/xS2tRM0buh\\r</td>\n",
       "      <td>https://t.co/xS2tRM0buh</td>\n",
       "      <td></td>\n",
       "    </tr>\n",
       "  </tbody>\n",
       "</table>\n",
       "</div>"
      ],
      "text/plain": [
       "               date  ...                                            tags\n",
       "14351095 2019-08-14  ...                                                \n",
       "11188600 2019-07-11  ...  binancesignal crypto DOCK bitcoin cryptosignal\n",
       "18969558 2019-10-16  ...                                                \n",
       "\n",
       "[3 rows x 8 columns]"
      ]
     },
     "execution_count": 26,
     "metadata": {
      "tags": []
     },
     "output_type": "execute_result"
    }
   ],
   "source": [
    "#extracting the Tags to be able to clearer\n",
    "def tag(x):\n",
    "  hashtag = set(part[1:] for part in x.split() if part.startswith('#'))\n",
    "  \n",
    "  if len(hashtag)==0:\n",
    "    return ' '\n",
    "  else:\n",
    "    return hashtag\n",
    "\n",
    "df['tags'] = df['text1'].apply(lambda x: tag(x) )\n",
    "df['tags'] = [' '.join(map(str, l)) for l in df['tags']]\n",
    "df.sample(3)"
   ]
  },
  {
   "cell_type": "code",
   "execution_count": 27,
   "metadata": {
    "colab": {
     "base_uri": "https://localhost:8080/",
     "height": 271
    },
    "id": "CZybGbAuBwJm",
    "outputId": "e55e66ce-dd8e-4aaf-8286-986d66964c96"
   },
   "outputs": [
    {
     "data": {
      "text/html": [
       "<div>\n",
       "<style scoped>\n",
       "    .dataframe tbody tr th:only-of-type {\n",
       "        vertical-align: middle;\n",
       "    }\n",
       "\n",
       "    .dataframe tbody tr th {\n",
       "        vertical-align: top;\n",
       "    }\n",
       "\n",
       "    .dataframe thead th {\n",
       "        text-align: right;\n",
       "    }\n",
       "</style>\n",
       "<table border=\"1\" class=\"dataframe\">\n",
       "  <thead>\n",
       "    <tr style=\"text-align: right;\">\n",
       "      <th></th>\n",
       "      <th>date</th>\n",
       "      <th>text</th>\n",
       "      <th>year</th>\n",
       "      <th>month</th>\n",
       "      <th>day</th>\n",
       "      <th>text1</th>\n",
       "      <th>url</th>\n",
       "      <th>tags</th>\n",
       "      <th>promote</th>\n",
       "    </tr>\n",
       "  </thead>\n",
       "  <tbody>\n",
       "    <tr>\n",
       "      <th>17182329</th>\n",
       "      <td>2019-09-19</td>\n",
       "      <td>Explosive Mining Growth Indicates High Confidence in Bitcoin\\n\\nhttps://t.co/ceCTvxPUL9\\r</td>\n",
       "      <td>2019</td>\n",
       "      <td>9</td>\n",
       "      <td>19</td>\n",
       "      <td>Explosive Mining Growth Indicates High Confidence in Bitcoin\\n\\nhttps://t.co/ceCTvxPUL9\\r</td>\n",
       "      <td>https://t.co/ceCTvxPUL9</td>\n",
       "      <td></td>\n",
       "      <td></td>\n",
       "    </tr>\n",
       "    <tr>\n",
       "      <th>8281272</th>\n",
       "      <td>2019-06-14</td>\n",
       "      <td>4 Notes on Bittrex Delisting Dozens of Tokens for US Clients\\n➡️https://t.co/o83eynoxto\\n🗺️\\n▶️https://t.co/vdnO18c8ZC\\n#newsoftheweek #Bitcoin #blockchain #crypto https://t.co/BbTRlIydrA\\r</td>\n",
       "      <td>2019</td>\n",
       "      <td>6</td>\n",
       "      <td>14</td>\n",
       "      <td>4 Notes on Bittrex Delisting Dozens of Tokens for US Clients\\n➡️https://t.co/o83eynoxto\\n🗺️\\n▶️https://t.co/vdnO18c8ZC\\n#newsoftheweek #Bitcoin #blockchain #crypto https://t.co/BbTRlIydrA\\r</td>\n",
       "      <td>https://t.co/o83eynoxto https://t.co/vdnO18c8ZC https://t.co/BbTRlIydrA</td>\n",
       "      <td>newsoftheweek Bitcoin blockchain crypto</td>\n",
       "      <td></td>\n",
       "    </tr>\n",
       "    <tr>\n",
       "      <th>6174817</th>\n",
       "      <td>2019-05-20</td>\n",
       "      <td>EVET..\\n\\n#YKBNK\\n\\n1.93  AL\\n\\n#DOLAR\\n#DolarTL\\n#bist\\n#bist100 \\n#usdtry\\n#USDTRY\\n#XU100 \\n#𝒷𝑒𝓁𝑒𝓃𝓈𝒶𝓎 2012\\n#doge #dogeusd\\n#btc #btcusd\\nYTD\\r</td>\n",
       "      <td>2019</td>\n",
       "      <td>5</td>\n",
       "      <td>20</td>\n",
       "      <td>EVET..\\n\\n#YKBNK\\n\\n1.93  AL\\n\\n#DOLAR\\n#DolarTL\\n#bist\\n#bist100 \\n#usdtry\\n#USDTRY\\n#XU100 \\n#𝒷𝑒𝓁𝑒𝓃𝓈𝒶𝓎 2012\\n#doge #dogeusd\\n#btc #btcusd\\nYTD\\r</td>\n",
       "      <td></td>\n",
       "      <td>dogeusd DOLAR bist usdtry USDTRY YKBNK 𝒷𝑒𝓁𝑒𝓃𝓈𝒶𝓎 bist100 btcusd doge XU100 DolarTL btc</td>\n",
       "      <td></td>\n",
       "    </tr>\n",
       "  </tbody>\n",
       "</table>\n",
       "</div>"
      ],
      "text/plain": [
       "               date  ... promote\n",
       "17182329 2019-09-19  ...        \n",
       "8281272  2019-06-14  ...        \n",
       "6174817  2019-05-20  ...        \n",
       "\n",
       "[3 rows x 9 columns]"
      ]
     },
     "execution_count": 27,
     "metadata": {
      "tags": []
     },
     "output_type": "execute_result"
    }
   ],
   "source": [
    "#extracting the follow or subscribe info on a specific column\n",
    "def prom(x):\n",
    "  promoting = re.findall('subscribe | follow | promo', x)\n",
    "  \n",
    "  if len(promoting)==0:\n",
    "    return ' '\n",
    "  else:\n",
    "    return promoting\n",
    "\n",
    "df['promote'] = df['text1'].apply(lambda x: prom(x) )\n",
    "df['promote'] = [' '.join(map(str, l)) for l in df['promote']]\n",
    "df.sample(3)"
   ]
  },
  {
   "cell_type": "markdown",
   "metadata": {
    "id": "J13YN2zFsxOu"
   },
   "source": [
    "2 - TOKENIZE"
   ]
  },
  {
   "cell_type": "code",
   "execution_count": 28,
   "metadata": {
    "id": "PjEhYxW0suEj"
   },
   "outputs": [],
   "source": [
    "import nltk\n",
    "import string\n",
    "from nltk.tokenize import word_tokenize\n",
    "from nltk.corpus import stopwords \n",
    "import regex as re\n",
    "import contractions\n",
    "# Install spaCy (run in terminal/prompt)\n",
    "import sys\n"
   ]
  },
  {
   "cell_type": "code",
   "execution_count": 29,
   "metadata": {
    "colab": {
     "base_uri": "https://localhost:8080/",
     "height": 471
    },
    "id": "U8dWdDxj6lLP",
    "outputId": "cc889842-efdf-42bf-c9a1-f776c2f46529"
   },
   "outputs": [
    {
     "name": "stdout",
     "output_type": "stream",
     "text": [
      "[nltk_data] Downloading package stopwords to /root/nltk_data...\n",
      "[nltk_data]   Unzipping corpora/stopwords.zip.\n"
     ]
    },
    {
     "data": {
      "text/html": [
       "<div>\n",
       "<style scoped>\n",
       "    .dataframe tbody tr th:only-of-type {\n",
       "        vertical-align: middle;\n",
       "    }\n",
       "\n",
       "    .dataframe tbody tr th {\n",
       "        vertical-align: top;\n",
       "    }\n",
       "\n",
       "    .dataframe thead th {\n",
       "        text-align: right;\n",
       "    }\n",
       "</style>\n",
       "<table border=\"1\" class=\"dataframe\">\n",
       "  <thead>\n",
       "    <tr style=\"text-align: right;\">\n",
       "      <th></th>\n",
       "      <th>date</th>\n",
       "      <th>text</th>\n",
       "      <th>year</th>\n",
       "      <th>month</th>\n",
       "      <th>day</th>\n",
       "      <th>text1</th>\n",
       "      <th>url</th>\n",
       "      <th>tags</th>\n",
       "      <th>promote</th>\n",
       "      <th>clean</th>\n",
       "    </tr>\n",
       "  </thead>\n",
       "  <tbody>\n",
       "    <tr>\n",
       "      <th>8801326</th>\n",
       "      <td>2019-06-18</td>\n",
       "      <td>What bitcoiners may soon say, “Long Bitcoin, Short bankers and the USD thru Libracoin” @crypto_birb @CryptoAmb @CryptoInfoNEM @lovesNem\\r</td>\n",
       "      <td>2019</td>\n",
       "      <td>6</td>\n",
       "      <td>18</td>\n",
       "      <td>What bitcoiners may soon say, “Long Bitcoin, Short bankers and the USD thru Libracoin” @crypto_birb @CryptoAmb @CryptoInfoNEM @lovesNem\\r</td>\n",
       "      <td></td>\n",
       "      <td></td>\n",
       "      <td></td>\n",
       "      <td>bitcoiners may soon say “ long bitcoin short bankers usd thru libracoin ”</td>\n",
       "    </tr>\n",
       "    <tr>\n",
       "      <th>78569</th>\n",
       "      <td>2017-02-28</td>\n",
       "      <td>$1209.80 #bitfinex;\\n$1209.01 #GDAX;\\n$1203.00 #bitstamp;\\n$1185.00 #btce;\\n$1208.90 #gemini;\\n\\n#bitcoin news: http://bit.ly/1VI6Yse \\r</td>\n",
       "      <td>2017</td>\n",
       "      <td>2</td>\n",
       "      <td>28</td>\n",
       "      <td>$1209.80 #bitfinex;\\n$1209.01 #GDAX;\\n$1203.00 #bitstamp;\\n$1185.00 #btce;\\n$1208.90 #gemini;\\n\\n#bitcoin news: http://bit.ly/1VI6Yse \\r</td>\n",
       "      <td>http://bit.ly/1VI6Yse</td>\n",
       "      <td>GDAX; gemini; btce; bitcoin bitstamp; bitfinex;</td>\n",
       "      <td></td>\n",
       "      <td>bitfinex gdax bitstamp btce gemini bitcoin news</td>\n",
       "    </tr>\n",
       "    <tr>\n",
       "      <th>1528305</th>\n",
       "      <td>2017-12-09</td>\n",
       "      <td>I just published “Realtors, get armed with Bitcoin and Blockchain knowledge” https://medium.com/p/realtors-get-armed-with-bitcoin-and-blockchain-knowledge-259aa2640a6a …\\r</td>\n",
       "      <td>2017</td>\n",
       "      <td>12</td>\n",
       "      <td>9</td>\n",
       "      <td>I just published “Realtors, get armed with Bitcoin and Blockchain knowledge” https://medium.com/p/realtors-get-armed-with-bitcoin-and-blockchain-knowledge-259aa2640a6a …\\r</td>\n",
       "      <td>https://medium.com/p/realtors-get-armed-with-bitcoin-and-blockchain-knowledge-259aa2640a6a</td>\n",
       "      <td></td>\n",
       "      <td></td>\n",
       "      <td>published “ realtors get armed bitcoin blockchain knowledge ” …</td>\n",
       "    </tr>\n",
       "  </tbody>\n",
       "</table>\n",
       "</div>"
      ],
      "text/plain": [
       "              date  ...                                                                      clean\n",
       "8801326 2019-06-18  ...  bitcoiners may soon say “ long bitcoin short bankers usd thru libracoin ”\n",
       "78569   2017-02-28  ...                            bitfinex gdax bitstamp btce gemini bitcoin news\n",
       "1528305 2017-12-09  ...            published “ realtors get armed bitcoin blockchain knowledge ” …\n",
       "\n",
       "[3 rows x 10 columns]"
      ]
     },
     "execution_count": 29,
     "metadata": {
      "tags": []
     },
     "output_type": "execute_result"
    }
   ],
   "source": [
    "#!!!!! CLEANING PROCESS, TAKES 38-40 minutes...\n",
    "#this command needs to be pushed before tokenization\n",
    "# >>>> COULD ADD LINE FOR AUTOCORRECT ET REMPLACER LES EMOJI PAR CE QU ILS MEAN\n",
    "\n",
    "import nltk\n",
    "nltk.download('stopwords')\n",
    "\n",
    "def process(text):\n",
    "\n",
    "    #Convert to lower case\n",
    "    text = text.lower()\n",
    "    #Convert www.* or https?://* to URL\n",
    "    text = re.sub('((www\\.[^\\s]+)|(https?://[^\\s]+))',' ',text)\n",
    "    #Remove @username \n",
    "    text = re.sub('@[^\\s]+',' ',text)\n",
    "    #Remove additional white spaces\n",
    "    text = re.sub('[\\s]+', ' ', text)\n",
    "    #Replace #word with word\n",
    "    text = re.sub(r'#([^\\s]+)', r'\\1', text)\n",
    "    #trim\n",
    "    text = text.strip('\\'\"')\n",
    "\n",
    "    #remove punctuation\n",
    "    for punctuation in string.punctuation: \n",
    "        text = text.replace(punctuation, ' ') \n",
    "\n",
    "    #words only\n",
    "    text = ''.join([i for i in text if not i.isdigit()])\n",
    "\n",
    "    #tokenize\n",
    "    words = nltk.tokenize.casual_tokenize(text)\n",
    "\n",
    "    #Remove stopwords\n",
    "    stops = set(stopwords.words('english'))\n",
    "    clean = [w for w in words if not w in stops]\n",
    "\n",
    "    return ' '.join(clean)\n",
    "\n",
    "df['clean'] = df['text1'].apply(lambda text: process(text))\n",
    "\n",
    "df.sample(3, random_state = 3)"
   ]
  },
  {
   "cell_type": "code",
   "execution_count": 30,
   "metadata": {
    "id": "_DyNIxa7uITU"
   },
   "outputs": [],
   "source": [
    "df = df.reset_index()\n",
    "df = df[['date', 'year','clean','url','tags','promote']]"
   ]
  },
  {
   "cell_type": "code",
   "execution_count": 31,
   "metadata": {
    "id": "BC3EIfyUo1Rh"
   },
   "outputs": [],
   "source": [
    "#export to new CSV as it crashes otherwise\n",
    "df.to_csv('/content/drive/MyDrive/Colab Notebooks/NLP/tweetsClean.csv')"
   ]
  },
  {
   "cell_type": "code",
   "execution_count": 32,
   "metadata": {
    "id": "hikmKakCo9XM"
   },
   "outputs": [],
   "source": [
    "#  to load your pickle file to a new notebook and use the dataframe:\n",
    "# with open(\"/content/drive/MyDrive/Colab Notebooks/NLP/tweetsClean.pkl\", \"rb\") as file:\n",
    "#         df = pickle.load(file)"
   ]
  },
  {
   "cell_type": "markdown",
   "metadata": {
    "id": "73nCrvLIHjoy"
   },
   "source": [
    "no need to stem or lemmatize, the words are so small, that it ends up just letters"
   ]
  },
  {
   "cell_type": "markdown",
   "metadata": {
    "id": "jKZjAao3wESU"
   },
   "source": [
    "STOP VISU - TESTING WORD CLOUD WITH WHAT WE HAVE"
   ]
  },
  {
   "cell_type": "code",
   "execution_count": 33,
   "metadata": {
    "colab": {
     "base_uri": "https://localhost:8080/"
    },
    "id": "IU1BJ7RxwIQf",
    "outputId": "c193da05-0107-4bc7-c195-096b083d2f79"
   },
   "outputs": [
    {
     "name": "stdout",
     "output_type": "stream",
     "text": [
      "Requirement already satisfied: wordcloud in /usr/local/lib/python3.6/dist-packages (1.5.0)\n",
      "Requirement already satisfied: pillow in /usr/local/lib/python3.6/dist-packages (from wordcloud) (7.0.0)\n",
      "Requirement already satisfied: numpy>=1.6.1 in /usr/local/lib/python3.6/dist-packages (from wordcloud) (1.18.5)\n"
     ]
    }
   ],
   "source": [
    "!pip install wordcloud"
   ]
  },
  {
   "cell_type": "code",
   "execution_count": 34,
   "metadata": {
    "colab": {
     "base_uri": "https://localhost:8080/",
     "height": 366
    },
    "id": "QucERDLdwPRB",
    "outputId": "1fc8bf81-def4-48cd-c364-7211e0bfc715"
   },
   "outputs": [
    {
     "data": {
      "image/png": "[encoded data removed]",
      "text/plain": [
       "<Figure size 864x864 with 1 Axes>"
      ]
     },
     "metadata": {
      "needs_background": "light",
      "tags": []
     },
     "output_type": "display_data"
    }
   ],
   "source": [
    "from wordcloud import WordCloud, STOPWORDS\n",
    "import matplotlib.pyplot as plt\n",
    "# Light pre-processing\n",
    "stopwords = set(STOPWORDS)\n",
    "# Define Word Cloud generation function\n",
    "def show_wordcloud(data, title = None):\n",
    "    wordcloud = WordCloud(\n",
    "        background_color='white',\n",
    "        stopwords=stopwords,\n",
    "        max_words=1000,\n",
    "        max_font_size=40, \n",
    "        scale=3,\n",
    "        random_state=1 # chosen at random by flipping a coin; it was heads\n",
    "    ).generate(str(data))\n",
    "    fig = plt.figure(1, figsize=(12, 12))\n",
    "    plt.axis('off')\n",
    "    if title: \n",
    "        fig.suptitle(title, fontsize=20)\n",
    "        fig.subplots_adjust(top=2.3)\n",
    "    plt.imshow(wordcloud)\n",
    "    plt.show()\n",
    "wordworld_text = df['clean']\n",
    "show_wordcloud (wordworld_text)"
   ]
  },
  {
   "cell_type": "markdown",
   "metadata": {
    "id": "4QrEnJ7BIqiV"
   },
   "source": [
    "Visualizing N-grams of vectors"
   ]
  },
  {
   "cell_type": "code",
   "execution_count": 35,
   "metadata": {
    "id": "6zxa-nNtZ6CP"
   },
   "outputs": [],
   "source": [
    "from nltk.util import ngrams\n",
    "from sklearn.feature_extraction.text import CountVectorizer"
   ]
  },
  {
   "cell_type": "code",
   "execution_count": 36,
   "metadata": {
    "colab": {
     "base_uri": "https://localhost:8080/",
     "height": 606
    },
    "id": "xFNovBTqJN4q",
    "outputId": "e414d1f3-ff76-4cb1-ea77-3a1252b841ba"
   },
   "outputs": [
    {
     "data": {
      "image/png": "[encoded data removed]",
      "text/plain": [
       "<Figure size 720x720 with 1 Axes>"
      ]
     },
     "metadata": {
      "needs_background": "light",
      "tags": []
     },
     "output_type": "display_data"
    }
   ],
   "source": [
    "#Mono-grams - takes a while - 10 minutes\n",
    "\n",
    "def plot_top_ngrams_barchart(text, n=1):\n",
    "\n",
    "    new= text.str.split()\n",
    "    new=new.values.tolist()\n",
    "    corpus=[word for i in new for word in i]\n",
    "\n",
    "    def _get_top_ngram(corpus, n=None):\n",
    "        vec = CountVectorizer(ngram_range=(n, n)).fit(corpus)\n",
    "        bag_of_words = vec.transform(corpus)\n",
    "        sum_words = bag_of_words.sum(axis=0) \n",
    "        words_freq = [(word, sum_words[0, idx]) \n",
    "                      for word, idx in vec.vocabulary_.items()]\n",
    "        words_freq =sorted(words_freq, key = lambda x: x[1], reverse=True)\n",
    "        return words_freq[:20]\n",
    "\n",
    "    top_n_bigrams=_get_top_ngram(text,n)[:20]\n",
    "    x,y=map(list,zip(*top_n_bigrams))\n",
    "    plt.figure(figsize=(10,10))\n",
    "    plt.xlabel(\"Monogram Frequency\")\n",
    "    plt.ylabel(\"Top 20 KKW in EN tweets\")\n",
    "    sns.barplot(x=y,y=x)\n",
    "\n",
    "\n",
    "plot_top_ngrams_barchart(df['clean'],1)\n"
   ]
  },
  {
   "cell_type": "code",
   "execution_count": 37,
   "metadata": {
    "colab": {
     "base_uri": "https://localhost:8080/",
     "height": 828
    },
    "id": "XDmTm9xKIwTC",
    "outputId": "615b21d2-b945-419f-ed7a-ff720635067d"
   },
   "outputs": [
    {
     "name": "stderr",
     "output_type": "stream",
     "text": [
      "ERROR:root:Internal Python error in the inspect module.\n",
      "Below is the traceback from this internal error.\n",
      "\n"
     ]
    },
    {
     "name": "stdout",
     "output_type": "stream",
     "text": [
      "Traceback (most recent call last):\n",
      "  File \"/usr/local/lib/python3.6/dist-packages/IPython/core/interactiveshell.py\", line 2882, in run_code\n",
      "    exec(code_obj, self.user_global_ns, self.user_ns)\n",
      "  File \"<ipython-input-37-9f01e9f53d7b>\", line 26, in <module>\n",
      "    plot_top_ngrams_barchart(df['clean'],2)\n",
      "  File \"<ipython-input-37-9f01e9f53d7b>\", line 18, in plot_top_ngrams_barchart\n",
      "    top_n_bigrams=_get_top_ngram(text,n)[:20]\n",
      "  File \"<ipython-input-37-9f01e9f53d7b>\", line 10, in _get_top_ngram\n",
      "    vec = CountVectorizer(ngram_range=(n, n)).fit(corpus)\n",
      "  File \"/usr/local/lib/python3.6/dist-packages/sklearn/feature_extraction/text.py\", line 1186, in fit\n",
      "    self.fit_transform(raw_documents)\n",
      "  File \"/usr/local/lib/python3.6/dist-packages/sklearn/feature_extraction/text.py\", line 1220, in fit_transform\n",
      "    self.fixed_vocabulary_)\n",
      "  File \"/usr/local/lib/python3.6/dist-packages/sklearn/feature_extraction/text.py\", line 1143, in _count_vocab\n",
      "    values.extend(feature_counter.values())\n",
      "KeyboardInterrupt\n",
      "\n",
      "During handling of the above exception, another exception occurred:\n",
      "\n",
      "Traceback (most recent call last):\n",
      "  File \"/usr/local/lib/python3.6/dist-packages/IPython/core/interactiveshell.py\", line 1823, in showtraceback\n",
      "    stb = value._render_traceback_()\n",
      "AttributeError: 'KeyboardInterrupt' object has no attribute '_render_traceback_'\n",
      "\n",
      "During handling of the above exception, another exception occurred:\n",
      "\n",
      "Traceback (most recent call last):\n",
      "  File \"/usr/local/lib/python3.6/dist-packages/IPython/core/ultratb.py\", line 1132, in get_records\n",
      "    return _fixed_getinnerframes(etb, number_of_lines_of_context, tb_offset)\n",
      "  File \"/usr/local/lib/python3.6/dist-packages/IPython/core/ultratb.py\", line 313, in wrapped\n",
      "    return f(*args, **kwargs)\n",
      "  File \"/usr/local/lib/python3.6/dist-packages/IPython/core/ultratb.py\", line 358, in _fixed_getinnerframes\n",
      "    records = fix_frame_records_filenames(inspect.getinnerframes(etb, context))\n",
      "  File \"/usr/lib/python3.6/inspect.py\", line 1490, in getinnerframes\n",
      "    frameinfo = (tb.tb_frame,) + getframeinfo(tb, context)\n",
      "  File \"/usr/lib/python3.6/inspect.py\", line 1448, in getframeinfo\n",
      "    filename = getsourcefile(frame) or getfile(frame)\n",
      "  File \"/usr/lib/python3.6/inspect.py\", line 696, in getsourcefile\n",
      "    if getattr(getmodule(object, filename), '__loader__', None) is not None:\n",
      "  File \"/usr/lib/python3.6/inspect.py\", line 732, in getmodule\n",
      "    for modname, module in list(sys.modules.items()):\n",
      "KeyboardInterrupt\n"
     ]
    },
    {
     "ename": "KeyboardInterrupt",
     "evalue": "ignored",
     "output_type": "error",
     "traceback": [
      "\u001b[0;31m---------------------------------------------------------------------------\u001b[0m"
     ]
    }
   ],
   "source": [
    "#Bi-grams - takes a while - 5 minutes\n",
    "\n",
    "def plot_top_ngrams_barchart(text, n=2):\n",
    "\n",
    "    new= text.str.split()\n",
    "    new=new.values.tolist()\n",
    "    corpus=[word for i in new for word in i]\n",
    "\n",
    "    def _get_top_ngram(corpus, n=None):\n",
    "        vec = CountVectorizer(ngram_range=(n, n)).fit(corpus)\n",
    "        bag_of_words = vec.transform(corpus)\n",
    "        sum_words = bag_of_words.sum(axis=0) \n",
    "        words_freq = [(word, sum_words[0, idx]) \n",
    "                      for word, idx in vec.vocabulary_.items()]\n",
    "        words_freq =sorted(words_freq, key = lambda x: x[1], reverse=True)\n",
    "        return words_freq[:20]\n",
    "\n",
    "    top_n_bigrams=_get_top_ngram(text,n)[:20]\n",
    "    x,y=map(list,zip(*top_n_bigrams))\n",
    "    plt.figure(figsize=(10,10))\n",
    "    plt.xlabel(\"Bi-gram Frequency\")\n",
    "    plt.ylabel(\"Top 20 KW in EN tweets\")\n",
    "    sns.barplot(x=y,y=x)\n",
    "\n",
    "\n",
    "plot_top_ngrams_barchart(df['clean'],2)\n"
   ]
  },
  {
   "cell_type": "markdown",
   "metadata": {
    "id": "KPWQSQP9ioH2"
   },
   "source": [
    "STOP HERE AND GO TO NOTEBOOK NLP3\n"
   ]
  },
  {
   "cell_type": "markdown",
   "metadata": {
    "id": "NMSLkbL_ipmS"
   },
   "source": []
  },
  {
   "cell_type": "markdown",
   "metadata": {
    "id": "srJhXzboip27"
   },
   "source": []
  },
  {
   "cell_type": "markdown",
   "metadata": {
    "id": "maXAW4iFiqCV"
   },
   "source": []
  },
  {
   "cell_type": "markdown",
   "metadata": {
    "id": "GQDsnyY-iqNC"
   },
   "source": []
  },
  {
   "cell_type": "markdown",
   "metadata": {
    "id": "y0fDnHPSiqW2"
   },
   "source": []
  },
  {
   "cell_type": "markdown",
   "metadata": {
    "id": "mw7e8yUNiqmP"
   },
   "source": []
  },
  {
   "cell_type": "markdown",
   "metadata": {
    "id": "AG0uoMMUiq2X"
   },
   "source": []
  },
  {
   "cell_type": "markdown",
   "metadata": {
    "id": "bBjUmI-Gtt_H"
   },
   "source": [
    "EXTRACTING FEATURES FROM CLEANED TWEETS 10 min"
   ]
  },
  {
   "cell_type": "code",
   "execution_count": null,
   "metadata": {
    "id": "HNJz_AVvtyqu"
   },
   "outputs": [],
   "source": [
    "from sklearn.feature_extraction.text import TfidfVectorizer, CountVectorizer\n",
    "import gensim"
   ]
  },
  {
   "cell_type": "code",
   "execution_count": null,
   "metadata": {
    "id": "NJ1nCxQJts15"
   },
   "outputs": [],
   "source": [
    "#bag of words = OPTION A\n",
    "bow_vectorizer = CountVectorizer(max_df=0.90, min_df=2, max_features=1000, stop_words='english')\n",
    "bow = bow_vectorizer.fit_transform(df['clean'])\n",
    "bow.shape"
   ]
  },
  {
   "cell_type": "code",
   "execution_count": null,
   "metadata": {
    "id": "hJ6aZevKt4T0"
   },
   "outputs": [],
   "source": [
    "#TfIdf = OPTION B \n",
    "\n",
    "tfidf_vectorizer = TfidfVectorizer(max_df=0.90, min_df=2, max_features=1000, stop_words='english')\n",
    "tfidf = tfidf_vectorizer.fit_transform(df['clean'])\n",
    "tfidf.shape"
   ]
  },
  {
   "cell_type": "markdown",
   "metadata": {
    "id": "KA26z4laQyYm"
   },
   "source": [
    "Word 2 Vec : KeyError: \"word 'eth vs btc relative vol spread interesting junction esp given btc dominance v alt season sentiment participants cryptooptions releativevalue' not in vocabulary\"\n",
    "or  \"word 'bizpaye trading platform system unique never done history modern day trade exchanges bizpaye marketplace hodl bartercredit crypto cryptotrading btc onlineshopping merchants ecommerce bb bc retail' not in vocabulary\""
   ]
  },
  {
   "cell_type": "markdown",
   "metadata": {
    "id": "zu-jU0iUk0T0"
   },
   "source": [
    "PREPARE FOR MODELING\n",
    "\n",
    "\n",
    "\n",
    "\n",
    "\n",
    "\n",
    "---\n",
    "\n"
   ]
  },
  {
   "cell_type": "markdown",
   "metadata": {
    "id": "zCpmVRAQ6Z1u"
   },
   "source": [
    "DEFINING X and Y"
   ]
  },
  {
   "cell_type": "code",
   "execution_count": null,
   "metadata": {
    "id": "Q6H3n3zEnMVB"
   },
   "outputs": [],
   "source": [
    "from sklearn.feature_extraction.text import TfidfVectorizer\n",
    "from sklearn.model_selection import train_test_split\n",
    "from nltk.stem import PorterStemmer\n",
    "from nltk.stem import WordNetLemmatizer\n",
    "# ML Libraries\n",
    "from sklearn.metrics import accuracy_score\n",
    "from sklearn.naive_bayes import MultinomialNB\n",
    "from sklearn.linear_model import LogisticRegression\n",
    "from sklearn.svm import SVC"
   ]
  },
  {
   "cell_type": "code",
   "execution_count": null,
   "metadata": {
    "id": "8X57bQvLlLdM"
   },
   "outputs": [],
   "source": [
    "#1- vectoring data\n",
    "def get_feature_vector(train_fit):\n",
    "    vector = TfidfVectorizer(sublinear_tf=True)\n",
    "    vector.fit(train_fit)\n",
    "    return vector\n"
   ]
  },
  {
   "cell_type": "code",
   "execution_count": null,
   "metadata": {
    "id": "jQTMk4whbMEH"
   },
   "outputs": [],
   "source": [
    "#2- CREATING a FAKE Y\n",
    "#ate 11 dec 2017\n",
    "#ate 10 dec 2018\n",
    "#ate end\n",
    "\n",
    "def senti(x):\n",
    "  if x < 2018:\n",
    "    return 'BULL'\n",
    "  elif x > 2018:\n",
    "    return 'BULL2'\n",
    "  else:\n",
    "    return 'BEAR'\n",
    "\n",
    "df['sent'] = df['year'].apply(lambda x: senti(x) )\n",
    "df.tail(3)"
   ]
  },
  {
   "cell_type": "code",
   "execution_count": null,
   "metadata": {
    "id": "HAVHqoGPn36j"
   },
   "outputs": [],
   "source": [
    "df['sent'].value_counts()"
   ]
  },
  {
   "cell_type": "markdown",
   "metadata": {
    "id": "Nq5eSFg4PURa"
   },
   "source": [
    "LAUNCHING MODEL BASES after 1 hour of running\n",
    "\n"
   ]
  },
  {
   "cell_type": "code",
   "execution_count": null,
   "metadata": {
    "id": "8GVBlrYOmRME"
   },
   "outputs": [],
   "source": [
    "#splitting - takes 5 minutes\n",
    "tf_vector = get_feature_vector(np.array(df['clean']).ravel())\n",
    "X = tf_vector.transform(np.array(df['clean']).ravel())\n",
    "y = np.array(df['sent']).ravel()\n",
    "X_train, X_test, y_train, y_test = train_test_split(X, y, test_size=0.3, random_state=30)\n"
   ]
  },
  {
   "cell_type": "code",
   "execution_count": null,
   "metadata": {
    "id": "UplF8soinXXS"
   },
   "outputs": [],
   "source": [
    "# Training Naive Bayes model\n",
    "NB_model = MultinomialNB()\n",
    "NB_model.fit(X_train, y_train)\n",
    "y_predict_nb = NB_model.predict(X_test)\n",
    "print(accuracy_score(y_test, y_predict_nb))"
   ]
  },
  {
   "cell_type": "code",
   "execution_count": null,
   "metadata": {
    "id": "UFggilGzndGa"
   },
   "outputs": [],
   "source": [
    "# Training Logistics Regression model - reducing to solver libelinear cause lbfgs or newton_cg are to expansive and take 5 good minutes\n",
    "LR_model = LogisticRegression(solver='liblinear')\n",
    "LR_model.fit(X_train, y_train)\n",
    "y_predict_lr = LR_model.predict(X_test)\n",
    "print(accuracy_score(y_test, y_predict_lr))"
   ]
  },
  {
   "cell_type": "code",
   "execution_count": null,
   "metadata": {
    "id": "oZTm8_TPP4gF"
   },
   "outputs": [],
   "source": [
    "#SVM - takes 15 min\n",
    "from sklearn import svm\n",
    "svc = svm.SVC().fit(X_train, y_train)\n",
    "y_predict_svm =  svc.predict(X_test)\n",
    "print(accuracy_score(y_test, y_predict_svm))"
   ]
  },
  {
   "cell_type": "code",
   "execution_count": null,
   "metadata": {
    "id": "HkdGcJn6RJZq"
   },
   "outputs": [],
   "source": [
    "#Training Random Forest \n",
    "\n",
    "from sklearn.ensemble import RandomForestClassifier\n",
    "rf = RandomForestClassifier(n_estimators=1000, random_state=0)\n",
    "rf.fit(X_train, y_train) \n",
    "y_predict_rf = rf.predict(X_test)\n",
    "print(accuracy_score(y_test, y_predict_rf))"
   ]
  },
  {
   "cell_type": "code",
   "execution_count": null,
   "metadata": {
    "id": "eRorSS7DS9P3"
   },
   "outputs": [],
   "source": [
    "from sklearn.metrics import classification_report, confusion_matrix, accuracy_score\n",
    "\n",
    "print(confusion_matrix(y_test,y_predict_rf))\n",
    "print(classification_report(y_test,y_predict_rf))\n",
    "print(accuracy_score(y_test, y_predict_rf))"
   ]
  },
  {
   "cell_type": "code",
   "execution_count": null,
   "metadata": {
    "id": "DMl_nu3-Rjfy"
   },
   "outputs": [],
   "source": [
    "# TRaining XGB\n",
    "from xgboost import XGBClassifier\n",
    "xgb = XGBClassifier(max_depth=6, n_estimators=1000).fit(X_train, y_train)\n",
    "y_predict_xgb = xgb.predict(X_test)\n",
    "print(accuracy_score(yvalid, y_predict_xgb))"
   ]
  },
  {
   "cell_type": "markdown",
   "metadata": {
    "id": "5wBlgh4KRn9j"
   },
   "source": [
    "GO FURTHER\n",
    "score pour chaque column / mot - lesquels ont ete le plus utilise pour predire\n",
    "carac du model ou PCA (mix de col qui marchent le mieux, qu est ce qui max la variance et apporte le plus d info) => qu est ce qui a ete utilise le plus par le modele"
   ]
  },
  {
   "cell_type": "markdown",
   "metadata": {
    "id": "BXuGlHvCFjKo"
   },
   "source": [
    "ajouter d autres colonnes avec  ou essayer d autres modeles comme RF ou classifier plus finement les Y ou faire un clustering non supervise, si pas de Y, patterns par time, plusieurs clusters, can it work"
   ]
  },
  {
   "cell_type": "markdown",
   "metadata": {
    "id": "t1_bBfisL0D8"
   },
   "source": [
    "FINE TUNING\n",
    "\n",
    "\n",
    "\n",
    "\n",
    "\n"
   ]
  },
  {
   "cell_type": "markdown",
   "metadata": {
    "id": "SJqa02aRSFE5"
   },
   "source": [
    "PCA "
   ]
  },
  {
   "cell_type": "code",
   "execution_count": null,
   "metadata": {
    "id": "R2sX_EpnSGJS"
   },
   "outputs": [],
   "source": []
  }
 ],
 "metadata": {
  "colab": {
   "collapsed_sections": [],
   "machine_shape": "hm",
   "name": "NLP2 preproc",
   "provenance": []
  },
  "kernelspec": {
   "display_name": "Python 3",
   "language": "python",
   "name": "python3"
  },
  "language_info": {
   "codemirror_mode": {
    "name": "ipython",
    "version": 3
   },
   "file_extension": ".py",
   "mimetype": "text/x-python",
   "name": "python",
   "nbconvert_exporter": "python",
   "pygments_lexer": "ipython3",
   "version": "3.8.3"
  }
 },
 "nbformat": 4,
 "nbformat_minor": 4
}
