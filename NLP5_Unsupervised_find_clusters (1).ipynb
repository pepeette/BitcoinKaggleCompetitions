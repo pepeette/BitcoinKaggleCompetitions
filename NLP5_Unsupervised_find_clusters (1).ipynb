{
 "cells": [
  {
   "cell_type": "code",
   "execution_count": 1,
   "metadata": {
    "id": "tZRSiDYNQLSr"
   },
   "outputs": [],
   "source": [
    "# "
   ]
  },
  {
   "cell_type": "markdown",
   "metadata": {
    "id": "tvTemFCOPqr4"
   },
   "source": [
    "applying deep learning on twitter’s sentiment analysis\n",
    "\n",
    "*   Train Model - use keras to build and train a deep neural network model\n",
    "\n",
    "*   Evaluate Model - measure the accuracy of the predictive model, and suggest further improvements\n"
   ]
  },
  {
   "cell_type": "markdown",
   "metadata": {
    "id": "83bZgjYjwUZk"
   },
   "source": [
    "IMPORTING DATASET\n"
   ]
  },
  {
   "cell_type": "code",
   "execution_count": 3,
   "metadata": {
    "colab": {
     "base_uri": "https://localhost:8080/"
    },
    "id": "u3C4UK7el1GQ",
    "outputId": "cb9e488a-3265-4248-a927-d2fa9f4f658d"
   },
   "outputs": [
    {
     "name": "stdout",
     "output_type": "stream",
     "text": [
      "Requirement already satisfied: pyLDAvis in /usr/local/lib/python3.6/dist-packages (2.1.2)\n",
      "Requirement already satisfied: future in /usr/local/lib/python3.6/dist-packages (from pyLDAvis) (0.16.0)\n",
      "Requirement already satisfied: funcy in /usr/local/lib/python3.6/dist-packages (from pyLDAvis) (1.15)\n",
      "Requirement already satisfied: wheel>=0.23.0 in /usr/local/lib/python3.6/dist-packages (from pyLDAvis) (0.36.1)\n",
      "Requirement already satisfied: jinja2>=2.7.2 in /usr/local/lib/python3.6/dist-packages (from pyLDAvis) (2.11.2)\n",
      "Requirement already satisfied: joblib>=0.8.4 in /usr/local/lib/python3.6/dist-packages (from pyLDAvis) (0.17.0)\n",
      "Requirement already satisfied: scipy>=0.18.0 in /usr/local/lib/python3.6/dist-packages (from pyLDAvis) (1.4.1)\n",
      "Requirement already satisfied: pandas>=0.17.0 in /usr/local/lib/python3.6/dist-packages (from pyLDAvis) (1.1.5)\n",
      "Requirement already satisfied: pytest in /usr/local/lib/python3.6/dist-packages (from pyLDAvis) (3.6.4)\n",
      "Requirement already satisfied: numpy>=1.9.2 in /usr/local/lib/python3.6/dist-packages (from pyLDAvis) (1.18.5)\n",
      "Requirement already satisfied: numexpr in /usr/local/lib/python3.6/dist-packages (from pyLDAvis) (2.7.1)\n",
      "Requirement already satisfied: MarkupSafe>=0.23 in /usr/local/lib/python3.6/dist-packages (from jinja2>=2.7.2->pyLDAvis) (1.1.1)\n",
      "Requirement already satisfied: pytz>=2017.2 in /usr/local/lib/python3.6/dist-packages (from pandas>=0.17.0->pyLDAvis) (2018.9)\n",
      "Requirement already satisfied: python-dateutil>=2.7.3 in /usr/local/lib/python3.6/dist-packages (from pandas>=0.17.0->pyLDAvis) (2.8.1)\n",
      "Requirement already satisfied: atomicwrites>=1.0 in /usr/local/lib/python3.6/dist-packages (from pytest->pyLDAvis) (1.4.0)\n",
      "Requirement already satisfied: six>=1.10.0 in /usr/local/lib/python3.6/dist-packages (from pytest->pyLDAvis) (1.15.0)\n",
      "Requirement already satisfied: py>=1.5.0 in /usr/local/lib/python3.6/dist-packages (from pytest->pyLDAvis) (1.9.0)\n",
      "Requirement already satisfied: pluggy<0.8,>=0.5 in /usr/local/lib/python3.6/dist-packages (from pytest->pyLDAvis) (0.7.1)\n",
      "Requirement already satisfied: attrs>=17.4.0 in /usr/local/lib/python3.6/dist-packages (from pytest->pyLDAvis) (20.3.0)\n",
      "Requirement already satisfied: setuptools in /usr/local/lib/python3.6/dist-packages (from pytest->pyLDAvis) (50.3.2)\n",
      "Requirement already satisfied: more-itertools>=4.0.0 in /usr/local/lib/python3.6/dist-packages (from pytest->pyLDAvis) (8.6.0)\n"
     ]
    }
   ],
   "source": [
    "!pip install pyLDAvis"
   ]
  },
  {
   "cell_type": "code",
   "execution_count": 4,
   "metadata": {
    "id": "87T5BetZQYQv"
   },
   "outputs": [],
   "source": [
    "from time import time\n",
    "import pandas as pd\n",
    "import numpy as np\n",
    "import re\n",
    "import csv\n",
    "import matplotlib.pyplot as plt\n",
    "import seaborn as sns\n",
    "\n",
    "import itertools\n",
    "import datetime\n",
    "import pprint\n",
    "\n",
    "from sklearn.feature_extraction.text import CountVectorizer, TfidfVectorizer, TfidfTransformer\n",
    "from sklearn.ensemble import RandomForestClassifier, ExtraTreesClassifier,AdaBoostClassifier\n",
    "from sklearn.tree import DecisionTreeClassifier\n",
    "from sklearn import model_selection, preprocessing, linear_model, naive_bayes, metrics, svm\n",
    "from sklearn import decomposition, ensemble\n",
    "from sklearn.naive_bayes import MultinomialNB\n",
    "from sklearn.linear_model import LogisticRegression\n",
    "from sklearn.svm import SVC\n",
    "from sklearn.metrics import accuracy_score\n",
    "from sklearn.model_selection import train_test_split\n",
    "from sklearn import metrics\n",
    "import pandas, xgboost, numpy, textblob, string\n",
    "from keras.preprocessing import text, sequence\n",
    "from keras import layers, models, optimizers\n"
   ]
  },
  {
   "cell_type": "code",
   "execution_count": 5,
   "metadata": {
    "colab": {
     "base_uri": "https://localhost:8080/"
    },
    "id": "vGgPw6lXwgIK",
    "outputId": "2f628066-3da9-4ca0-b2eb-33f7bd528e68"
   },
   "outputs": [
    {
     "name": "stdout",
     "output_type": "stream",
     "text": [
      "Drive already mounted at /content/drive; to attempt to forcibly remount, call drive.mount(\"/content/drive\", force_remount=True).\n"
     ]
    }
   ],
   "source": [
    "#being able to read csv stored in google drive \n",
    "from google.colab import drive\n",
    "drive.mount(\"/content/drive\")"
   ]
  },
  {
   "cell_type": "code",
   "execution_count": 6,
   "metadata": {
    "colab": {
     "base_uri": "https://localhost:8080/",
     "height": 137
    },
    "id": "fMujS02_wcVJ",
    "outputId": "5c63fade-ddd2-4237-ea66-27322c0dfa3c"
   },
   "outputs": [
    {
     "data": {
      "text/html": [
       "<div>\n",
       "<style scoped>\n",
       "    .dataframe tbody tr th:only-of-type {\n",
       "        vertical-align: middle;\n",
       "    }\n",
       "\n",
       "    .dataframe tbody tr th {\n",
       "        vertical-align: top;\n",
       "    }\n",
       "\n",
       "    .dataframe thead th {\n",
       "        text-align: right;\n",
       "    }\n",
       "</style>\n",
       "<table border=\"1\" class=\"dataframe\">\n",
       "  <thead>\n",
       "    <tr style=\"text-align: right;\">\n",
       "      <th></th>\n",
       "      <th>Unnamed: 0</th>\n",
       "      <th>date</th>\n",
       "      <th>year</th>\n",
       "      <th>clean</th>\n",
       "      <th>url</th>\n",
       "      <th>tags</th>\n",
       "      <th>promote</th>\n",
       "    </tr>\n",
       "  </thead>\n",
       "  <tbody>\n",
       "    <tr>\n",
       "      <th>5530024</th>\n",
       "      <td>5530024</td>\n",
       "      <td>2019-09-26</td>\n",
       "      <td>2019</td>\n",
       "      <td>surprised say hey everyone even peter schiff r...</td>\n",
       "      <td></td>\n",
       "      <td></td>\n",
       "      <td></td>\n",
       "    </tr>\n",
       "    <tr>\n",
       "      <th>496076</th>\n",
       "      <td>496076</td>\n",
       "      <td>2018-06-04</td>\n",
       "      <td>2018</td>\n",
       "      <td>immvrse vr immvrs check immvrse pre ico june n...</td>\n",
       "      <td></td>\n",
       "      <td>ImmVRs ImmVRse VR</td>\n",
       "      <td></td>\n",
       "    </tr>\n",
       "    <tr>\n",
       "      <th>857630</th>\n",
       "      <td>857630</td>\n",
       "      <td>2019-01-23</td>\n",
       "      <td>2019</td>\n",
       "      <td>cfn media ’ exclusive interview aleafia health...</td>\n",
       "      <td>http://bit.ly/2FHPScz</td>\n",
       "      <td>weed crypto CBDpic.twitter.com/DxqRPs9G9r mari...</td>\n",
       "      <td></td>\n",
       "    </tr>\n",
       "  </tbody>\n",
       "</table>\n",
       "</div>"
      ],
      "text/plain": [
       "         Unnamed: 0  ... promote\n",
       "5530024     5530024  ...        \n",
       "496076       496076  ...        \n",
       "857630       857630  ...        \n",
       "\n",
       "[3 rows x 7 columns]"
      ]
     },
     "execution_count": 6,
     "metadata": {
      "tags": []
     },
     "output_type": "execute_result"
    }
   ],
   "source": [
    "# Reading the dataset with no columns titles and with latin encoding \n",
    "df = pd.read_csv('/content/drive/MyDrive/Colab Notebooks/NLP/tweetsClean.csv')\n",
    "df.sample(3)\n",
    "\n"
   ]
  },
  {
   "cell_type": "code",
   "execution_count": 7,
   "metadata": {
    "colab": {
     "base_uri": "https://localhost:8080/"
    },
    "id": "YOckP_sYQcda",
    "outputId": "c184741b-148d-4935-a216-9a4187b642fb"
   },
   "outputs": [
    {
     "name": "stdout",
     "output_type": "stream",
     "text": [
      "<class 'pandas.core.frame.DataFrame'>\n",
      "RangeIndex: 7080772 entries, 0 to 7080771\n",
      "Data columns (total 7 columns):\n",
      " #   Column      Dtype \n",
      "---  ------      ----- \n",
      " 0   Unnamed: 0  int64 \n",
      " 1   date        object\n",
      " 2   year        int64 \n",
      " 3   clean       object\n",
      " 4   url         object\n",
      " 5   tags        object\n",
      " 6   promote     object\n",
      "dtypes: int64(2), object(5)\n",
      "memory usage: 378.2+ MB\n"
     ]
    }
   ],
   "source": [
    "# Checking if there is any missing value and datatype \n",
    "df.info()"
   ]
  },
  {
   "cell_type": "code",
   "execution_count": 8,
   "metadata": {
    "colab": {
     "base_uri": "https://localhost:8080/"
    },
    "id": "_F9FfyFSQl_5",
    "outputId": "6d26d861-258c-41f7-d92f-173202a96b1b"
   },
   "outputs": [
    {
     "data": {
      "text/plain": [
       "Unnamed: 0        0\n",
       "date              0\n",
       "year              0\n",
       "clean         15390\n",
       "url               0\n",
       "tags           9289\n",
       "promote           0\n",
       "dtype: int64"
      ]
     },
     "execution_count": 8,
     "metadata": {
      "tags": []
     },
     "output_type": "execute_result"
    }
   ],
   "source": [
    "\n",
    "# checking for null values, if any\n",
    "df.isnull().sum()"
   ]
  },
  {
   "cell_type": "code",
   "execution_count": 9,
   "metadata": {
    "id": "xalsFDNyQp66"
   },
   "outputs": [],
   "source": [
    "#ditching all row when text is null, as need text for analysis\n",
    "df.dropna(how='any', inplace=True)"
   ]
  },
  {
   "cell_type": "code",
   "execution_count": 10,
   "metadata": {
    "colab": {
     "base_uri": "https://localhost:8080/",
     "height": 137
    },
    "id": "XryjXIYhQ_gM",
    "outputId": "d831f69c-8dd7-46c0-aa8b-ab6457ef0b8f"
   },
   "outputs": [
    {
     "data": {
      "text/html": [
       "<div>\n",
       "<style scoped>\n",
       "    .dataframe tbody tr th:only-of-type {\n",
       "        vertical-align: middle;\n",
       "    }\n",
       "\n",
       "    .dataframe tbody tr th {\n",
       "        vertical-align: top;\n",
       "    }\n",
       "\n",
       "    .dataframe thead th {\n",
       "        text-align: right;\n",
       "    }\n",
       "</style>\n",
       "<table border=\"1\" class=\"dataframe\">\n",
       "  <thead>\n",
       "    <tr style=\"text-align: right;\">\n",
       "      <th></th>\n",
       "      <th>Unnamed: 0</th>\n",
       "      <th>date</th>\n",
       "      <th>year</th>\n",
       "      <th>clean</th>\n",
       "      <th>url</th>\n",
       "      <th>tags</th>\n",
       "      <th>promote</th>\n",
       "    </tr>\n",
       "  </thead>\n",
       "  <tbody>\n",
       "    <tr>\n",
       "      <th>2898350</th>\n",
       "      <td>2898350</td>\n",
       "      <td>2019-07-04</td>\n",
       "      <td>2019</td>\n",
       "      <td>stk possible play ogo hot cova ren btc edr mat...</td>\n",
       "      <td>https://t.co/gUkgcWLs1I</td>\n",
       "      <td></td>\n",
       "      <td></td>\n",
       "    </tr>\n",
       "    <tr>\n",
       "      <th>6011089</th>\n",
       "      <td>6011089</td>\n",
       "      <td>2019-10-14</td>\n",
       "      <td>2019</td>\n",
       "      <td>block number time utc miner antpool transactio...</td>\n",
       "      <td></td>\n",
       "      <td></td>\n",
       "      <td></td>\n",
       "    </tr>\n",
       "    <tr>\n",
       "      <th>5898263</th>\n",
       "      <td>5898263</td>\n",
       "      <td>2019-10-10</td>\n",
       "      <td>2019</td>\n",
       "      <td>hope healing liver disease dog ebook bundle up...</td>\n",
       "      <td>https://t.co/xVHtjgaGmR</td>\n",
       "      <td></td>\n",
       "      <td></td>\n",
       "    </tr>\n",
       "  </tbody>\n",
       "</table>\n",
       "</div>"
      ],
      "text/plain": [
       "         Unnamed: 0        date  year  ...                      url tags promote\n",
       "2898350     2898350  2019-07-04  2019  ...  https://t.co/gUkgcWLs1I             \n",
       "6011089     6011089  2019-10-14  2019  ...                                      \n",
       "5898263     5898263  2019-10-10  2019  ...  https://t.co/xVHtjgaGmR             \n",
       "\n",
       "[3 rows x 7 columns]"
      ]
     },
     "execution_count": 10,
     "metadata": {
      "tags": []
     },
     "output_type": "execute_result"
    }
   ],
   "source": [
    "df.sample(3)"
   ]
  },
  {
   "cell_type": "markdown",
   "metadata": {
    "id": "jcwO8vMB4vNr"
   },
   "source": [
    "testing some embedding for deep learning"
   ]
  },
  {
   "cell_type": "code",
   "execution_count": 11,
   "metadata": {
    "colab": {
     "base_uri": "https://localhost:8080/"
    },
    "id": "wRa095DbE6J0",
    "outputId": "3be0ebc5-5821-4fa3-ceba-4b4c8fff26e8"
   },
   "outputs": [
    {
     "data": {
      "text/plain": [
       "(7056094, 500)"
      ]
     },
     "execution_count": 11,
     "metadata": {
      "tags": []
     },
     "output_type": "execute_result"
    }
   ],
   "source": [
    "#bag of words = OPTION A - need to limit to 1000, else too long and gets 951k results\n",
    "bow_vectorizer = CountVectorizer(max_df=0.90, min_df=2, max_features=500, stop_words='english',analyzer='word', token_pattern=r'\\w{1,}')\n",
    "X = bow_vectorizer.fit_transform(df['clean'])\n",
    "X.shape\n"
   ]
  },
  {
   "cell_type": "code",
   "execution_count": 12,
   "metadata": {
    "id": "J51XgZRHjfYP"
   },
   "outputs": [],
   "source": [
    "from sklearn.decomposition import LatentDirichletAllocation\n",
    "from sklearn.datasets import make_multilabel_classification"
   ]
  },
  {
   "cell_type": "code",
   "execution_count": 13,
   "metadata": {
    "colab": {
     "base_uri": "https://localhost:8080/"
    },
    "id": "8w3D0GmMmd1L",
    "outputId": "0b7134ec-c9e6-4b23-b52b-8c1c293c8bb8"
   },
   "outputs": [
    {
     "data": {
      "text/plain": [
       "LatentDirichletAllocation(batch_size=128, doc_topic_prior=None,\n",
       "                          evaluate_every=-1, learning_decay=0.7,\n",
       "                          learning_method='batch', learning_offset=10.0,\n",
       "                          max_doc_update_iter=100, max_iter=10,\n",
       "                          mean_change_tol=0.001, n_components=10, n_jobs=None,\n",
       "                          perp_tol=0.1, random_state=None,\n",
       "                          topic_word_prior=None, total_samples=1000000.0,\n",
       "                          verbose=0)"
      ]
     },
     "execution_count": 13,
     "metadata": {
      "tags": []
     },
     "output_type": "execute_result"
    }
   ],
   "source": [
    "lda = LatentDirichletAllocation(n_components=10, verbose=1)\n",
    "lda.fit(X)"
   ]
  },
  {
   "cell_type": "code",
   "execution_count": 14,
   "metadata": {
    "colab": {
     "base_uri": "https://localhost:8080/",
     "height": 228
    },
    "id": "ftdFkp8s-d5L",
    "outputId": "00a365f0-83ea-47ad-edd5-7ca4ebc09c6e"
   },
   "outputs": [
    {
     "name": "stdout",
     "output_type": "stream",
     "text": [
      "Log Likelihood:  -289905580.7340846\n",
      "Perplexity:  150.10357872523622\n"
     ]
    },
    {
     "ename": "TypeError",
     "evalue": "ignored",
     "output_type": "error",
     "traceback": [
      "\u001b[0;31m---------------------------------------------------------------------------\u001b[0m",
      "\u001b[0;31mTypeError\u001b[0m                                 Traceback (most recent call last)",
      "\u001b[0;32m<ipython-input-14-0f8730f4d413>\u001b[0m in \u001b[0;36m<module>\u001b[0;34m()\u001b[0m\n\u001b[1;32m      6\u001b[0m \u001b[0;34m\u001b[0m\u001b[0m\n\u001b[1;32m      7\u001b[0m \u001b[0;31m# See model parameters\u001b[0m\u001b[0;34m\u001b[0m\u001b[0;34m\u001b[0m\u001b[0;34m\u001b[0m\u001b[0m\n\u001b[0;32m----> 8\u001b[0;31m \u001b[0mpprint\u001b[0m\u001b[0;34m(\u001b[0m\u001b[0mlda\u001b[0m\u001b[0;34m.\u001b[0m\u001b[0mget_params\u001b[0m\u001b[0;34m(\u001b[0m\u001b[0;34m)\u001b[0m\u001b[0;34m)\u001b[0m\u001b[0;34m\u001b[0m\u001b[0;34m\u001b[0m\u001b[0m\n\u001b[0m",
      "\u001b[0;31mTypeError\u001b[0m: 'module' object is not callable"
     ]
    }
   ],
   "source": [
    "# Log Likelyhood: Higher the better\n",
    "print(\"Log Likelihood: \", lda.score(X))\n",
    "\n",
    "# Perplexity: Lower the better. Perplexity = exp(-1. * log-likelihood per word)\n",
    "print(\"Perplexity: \", lda.perplexity(X))\n",
    "\n",
    "# See model parameters\n",
    "print(lda.get_params())"
   ]
  },
  {
   "cell_type": "code",
   "execution_count": 15,
   "metadata": {
    "id": "RyjqwQNCkwJs"
   },
   "outputs": [],
   "source": [
    "import pickle\n",
    "# Save to file in the current working directory\n",
    "pickleLDA = \"/content/drive/MyDrive/Colab Notebooks/NLP/pickle_model_10.pkl\"\n",
    "with open(pickleLDA, 'wb') as file:\n",
    "    pickle.dump(lda, file)\n",
    "# # Load from file\n",
    "# with open(pkl_filename, 'rb') as file:\n",
    "#     pickle_model = pickle.load(file)\n",
    "    \n",
    "# # Calculate the accuracy score and predict target values\n",
    "# score = pickle_model.score(Xtest, Ytest)\n",
    "# print(\"Test score: {0:.2f} %\".format(100 * score))\n",
    "# Ypredict = pickle_model.predict(Xtest)"
   ]
  },
  {
   "cell_type": "code",
   "execution_count": 16,
   "metadata": {
    "id": "1g0lXuW6sQ6z"
   },
   "outputs": [],
   "source": [
    "from __future__ import print_function\n",
    "import pyLDAvis\n",
    "import pyLDAvis.sklearn\n",
    "pyLDAvis.enable_notebook()"
   ]
  },
  {
   "cell_type": "code",
   "execution_count": 17,
   "metadata": {
    "colab": {
     "base_uri": "https://localhost:8080/",
     "height": 861
    },
    "id": "klvHHIP5uAk2",
    "outputId": "8bf79c42-f8cd-4f26-ac02-8f7ec7b2925e"
   },
   "outputs": [
    {
     "data": {
      "text/html": [
       "\n",
       "<link rel=\"stylesheet\" type=\"text/css\" href=\"https://cdn.rawgit.com/bmabey/pyLDAvis/files/ldavis.v1.0.0.css\">\n",
       "\n",
       "\n",
       "<div id=\"ldavis_el21001398029150455688169850911\"></div>\n",
       "<script type=\"text/javascript\">\n",
       "\n",
       "var ldavis_el21001398029150455688169850911_data = {\"mdsDat\": {\"x\": [-0.1707933214149142, 0.18993598949524007, -0.20366956954876927, 0.14694434068955572, 0.0628064222709107, 0.14488768321229795, -0.17765361336560392, -0.23619176258400623, -0.005331880849457453, 0.24906571209474657], \"y\": [0.12410210409026418, 0.09520214246329364, -0.10200325940567158, 0.23911080698839698, -0.24947805718843674, -0.1998439117823492, 0.08978985121956778, -0.023470834176745153, 0.017251612291416755, 0.00933954550026338], \"topics\": [1, 2, 3, 4, 5, 6, 7, 8, 9, 10], \"cluster\": [1, 1, 1, 1, 1, 1, 1, 1, 1, 1], \"Freq\": [14.608333904771525, 13.97196580041446, 13.5288490684029, 10.186242610997963, 9.199130316754195, 9.176014475905495, 8.621165556224984, 7.961532303641181, 7.17944230843771, 5.567323654449581]}, \"tinfo\": {\"Term\": [\"usd\", \"btc\", \"price\", \"gt\", \"xrp\", \"bitcoin\", \"cryptocurrency\", \"eth\", \"blockchain\", \"twitter\", \"crypto\", \"ethereum\", \"ltc\", \"buy\", \"com\", \"market\", \"bch\", \"volume\", \"k\", \"airdrop\", \"h\", \"trx\", \"jpy\", \"like\", \"block\", \"pic\", \"eos\", \"trading\", \"current\", \"binance\", \"bitcoinnews\", \"ether\", \"ceo\", \"r\", \"facebook\", \"cryptonews\", \"ieo\", \"tokensale\", \"launch\", \"bakkt\", \"futures\", \"read\", \"libra\", \"markets\", \"fintech\", \"says\", \"ico\", \"post\", \"decentralized\", \"blockchain\", \"technology\", \"ethereum\", \"june\", \"latest\", \"cryptocurrency\", \"china\", \"exchange\", \"million\", \"cryptos\", \"global\", \"crypto\", \"altcoin\", \"news\", \"cryptocurrencies\", \"bitcoin\", \"altcoins\", \"new\", \"trading\", \"litecoin\", \"world\", \"btc\", \"mining\", \"eth\", \"binance\", \"money\", \"ripple\", \"ada\", \"leverage\", \"bnb\", \"primexbt\", \"dgb\", \"omg\", \"btch\", \"sc\", \"lsk\", \"powr\", \"sleep\", \"bat\", \"setup\", \"iost\", \"enj\", \"vet\", \"ont\", \"btt\", \"icx\", \"powered\", \"xvg\", \"trx\", \"xem\", \"hot\", \"nano\", \"waves\", \"automatically\", \"eos\", \"moves\", \"x\", \"gbp\", \"xlm\", \"short\", \"tron\", \"usdt\", \"eth\", \"xrp\", \"ltc\", \"dash\", \"neo\", \"long\", \"bch\", \"btc\", \"vs\", \"zec\", \"h\", \"iota\", \"xmr\", \"worth\", \"ripple\", \"crypto\", \"money\", \"join\", \"free\", \"private\", \"say\", \"look\", \"understand\", \"use\", \"used\", \"actually\", \"internet\", \"case\", \"people\", \"yes\", \"got\", \"makes\", \"using\", \"maybe\", \"code\", \"looks\", \"lol\", \"need\", \"said\", \"like\", \"forecast\", \"lot\", \"think\", \"hard\", \"bad\", \"thing\", \"u\", \"really\", \"satoshi\", \"know\", \"way\", \"currency\", \"better\", \"gold\", \"real\", \"fiat\", \"bitcoin\", \"want\", \"money\", \"network\", \"pay\", \"value\", \"right\", \"make\", \"going\", \"free\", \"btc\", \"digital\", \"buy\", \"new\", \"time\", \"cash\", \"world\", \"noticias\", \"cann\", \"bitcoincash\", \"usd\", \"emc\", \"eur\", \"prices\", \"monero\", \"euro\", \"tether\", \"btg\", \"cardano\", \"litecoin\", \"hour\", \"view\", \"bch\", \"xmr\", \"stellar\", \"doge\", \"ripple\", \"cny\", \"xrp\", \"update\", \"current\", \"cryptocurrencies\", \"neo\", \"alert\", \"news\", \"cash\", \"ltc\", \"xlm\", \"ethereum\", \"twitter\", \"eth\", \"bitcoin\", \"cryptocurrency\", \"btc\", \"crypto\", \"time\", \"txs\", \"mb\", \"ratio\", \"vol\", \"activity\", \"mempool\", \"stripped\", \"technicalanalysis\", \"fees\", \"selling\", \"drop\", \"bull\", \"ago\", \"k\", \"buying\", \"sats\", \"months\", \"b\", \"min\", \"alts\", \"higher\", \"signal\", \"past\", \"trend\", \"rally\", \"reward\", \"lower\", \"market\", \"sell\", \"buy\", \"binance\", \"h\", \"size\", \"days\", \"btc\", \"price\", \"bitcoin\", \"cap\", \"cryptotrading\", \"time\", \"coin\", \"trading\", \"average\", \"\\u30d7\\u30ec\\u30bc\\u30f3\\u30c8\", \"sat\", \"bitstamp\", \"idol\", \"resistance\", \"pair\", \"hitbtc\", \"bitfinex\", \"kraken\", \"gmt\", \"livecoin\", \"level\", \"address\", \"break\", \"hr\", \"poloniex\", \"volume\", \"yobit\", \"transaction\", \"bot\", \"price\", \"change\", \"alert\", \"chart\", \"dominance\", \"\\u4eee\\u60f3\\u901a\\u8ca8\", \"current\", \"update\", \"exchanges\", \"daily\", \"btc\", \"high\", \"coinbase\", \"bitcoin\", \"support\", \"doge\", \"time\", \"binance\", \"wallet\", \"hour\", \"btcusd\", \"jobs\", \"hiring\", \"careers\", \"united\", \"states\", \"dm\", \"kingdom\", \"developer\", \"uk\", \"binary\", \"london\", \"entrepreneur\", \"info\", \"usa\", \"amazon\", \"list\", \"ai\", \"interested\", \"thank\", \"invest\", \"deposit\", \"c\", \"bigdata\", \"software\", \"investment\", \"profits\", \"help\", \"love\", \"service\", \"ask\", \"forex\", \"trade\", \"amp\", \"trading\", \"start\", \"earn\", \"cryptocurrency\", \"bitcoin\", \"blockchain\", \"crypto\", \"btc\", \"mining\", \"account\", \"eth\", \"money\", \"free\", \"make\", \"loss\", \"bet\", \"cannabis\", \"return\", \"times\", \"project\", \"stop\", \"order\", \"team\", \"financial\", \"tweet\", \"risk\", \"investors\", \"interesting\", \"nytimes\", \"business\", \"newyork\", \"payments\", \"best\", \"trump\", \"rise\", \"life\", \"strong\", \"good\", \"adoption\", \"idea\", \"smart\", \"asset\", \"month\", \"startup\", \"great\", \"years\", \"year\", \"bitcoin\", \"today\", \"rt\", \"week\", \"big\", \"crypto\", \"altcoins\", \"time\", \"high\", \"blockchain\", \"btc\", \"future\", \"amp\", \"cryptocurrency\", \"news\", \"investment\", \"pic\", \"id\", \"perpetual\", \"liquidation\", \"chance\", \"rewards\", \"com\", \"giveaway\", \"jun\", \"amazing\", \"target\", \"jul\", \"claim\", \"utc\", \"airdrop\", \"live\", \"twitter\", \"sold\", \"th\", \"win\", \"friends\", \"xbt\", \"follow\", \"airdrops\", \"profit\", \"join\", \"bought\", \"bounty\", \"btcusd\", \"tokens\", \"link\", \"free\", \"btc\", \"trade\", \"bitcoin\", \"crypto\", \"eth\", \"blockchain\", \"\\u5186\", \"issued\", \"bytes\", \"number\", \"dapp\", \"supply\", \"\\u30d3\\u30c3\\u30c8\\u30b3\\u30a4\\u30f3\", \"gt\", \"block\", \"okex\", \"unknown\", \"transactions\", \"jpy\", \"bonus\", \"report\", \"pool\", \"pm\", \"total\", \"miner\", \"coming\", \"come\", \"bounty\", \"huge\", \"size\", \"token\", \"airdrops\", \"\\u4eee\\u60f3\\u901a\\u8ca8\", \"check\", \"value\", \"sale\", \"volume\", \"eth\", \"btc\", \"ltc\", \"xrp\", \"time\", \"price\", \"utc\", \"airdrop\"], \"Freq\": [1322500.0, 5054583.0, 940029.0, 413464.0, 867699.0, 4984865.0, 1083343.0, 1192877.0, 929266.0, 406399.0, 1611606.0, 591137.0, 563324.0, 420693.0, 266355.0, 442071.0, 436708.0, 324875.0, 237957.0, 264917.0, 327195.0, 234941.0, 172594.0, 258494.0, 160346.0, 151196.0, 244386.0, 442936.0, 245055.0, 344291.0, 47700.31485141805, 42523.329108925325, 44500.0192919143, 57425.14985668876, 59730.90207646894, 92467.64171501616, 46041.353370030636, 70126.0415346193, 31029.437794774876, 25713.67527257645, 47761.10887312603, 94353.08494837304, 60019.05122501381, 54886.34042013345, 60795.05533611275, 61212.04730844237, 138134.462680378, 33714.4066522636, 33527.37883598962, 633816.9159002809, 44649.287228061934, 402078.93200652767, 19686.85142466771, 20609.224701795054, 697629.9062966785, 37370.727953804155, 143342.26343857325, 36560.67902945486, 19486.591252734288, 31386.52018631212, 849347.2452297328, 80281.13499388665, 143258.60470377296, 90376.29493610718, 1469868.3086034732, 64562.38028385762, 118040.22192015627, 129779.2593814021, 90717.62415412105, 66642.49293215349, 246362.42625854624, 61399.35644111542, 87310.99931974089, 55243.08926196955, 55089.0139048572, 50357.83646915845, 181989.37608659622, 92623.39868819262, 157121.99687159577, 78240.36289093968, 48972.09471691338, 54593.21380809187, 38192.75745727085, 37612.155985796046, 35888.216294449136, 31100.487412789415, 29343.79562859119, 36490.31218016242, 30308.331677076614, 29796.019436684626, 32930.363877293035, 34214.404490547546, 29390.315008171267, 36432.192067391654, 31506.448622135427, 29089.98940972802, 63580.26077927041, 234628.76935450436, 59256.6477681009, 27904.1349683739, 29583.47713237914, 28678.139088358388, 29483.916715863063, 217318.36586479738, 27009.661343483996, 171983.57568038595, 53574.014251701716, 178579.30147197412, 114355.1454904308, 65390.75563236342, 101913.19496265463, 579293.9117443283, 436530.7716852615, 295742.13922483305, 94388.6614131047, 130374.550166469, 121283.07811050616, 213268.46275677645, 1122827.2439264886, 59910.81236808139, 50942.735378240606, 136635.12420707117, 47052.007475254984, 79800.9778466412, 64614.27721900464, 79409.99942868842, 148804.33541331164, 92311.55247455488, 65302.78704771486, 64594.633173703296, 33890.16207354524, 68514.2802957705, 85379.1988677917, 32554.64880170322, 145785.76400771772, 42379.52900564325, 30904.414535719316, 28015.692512850983, 30597.4001291099, 174743.34489976396, 33957.610508120124, 57486.69952887621, 32496.698332692962, 83288.97910156139, 27253.9053316444, 32907.425154687684, 35497.04461823849, 26129.57385666977, 95243.53338815804, 37822.489619662774, 238450.34026966966, 27696.86361884432, 37184.72642406292, 102535.86741198984, 35825.47805230344, 24279.891828237887, 34621.87653173399, 52708.75219579862, 58793.95030906106, 55429.6008599133, 105637.35164204477, 80249.68425988502, 96986.86417488375, 53209.96779869104, 111567.99570370474, 64332.82996617294, 50570.70939840192, 1063467.6749450155, 72965.36655344075, 148484.1563576729, 55562.99666222573, 46866.9584398861, 80866.57732431384, 58448.517633511074, 75070.30125014186, 62754.21166713037, 93077.44274830812, 251261.66443560066, 54010.11320318163, 71871.70192554385, 63239.79029901107, 60519.97707462854, 57521.678793490355, 55743.7944399226, 101205.67649776685, 66770.68977475271, 100537.68568557655, 1308956.1319744051, 69927.43356559036, 152073.66320026782, 154463.1402149824, 41319.013624004896, 27440.856602122672, 29607.466896666298, 72794.01191962036, 28380.074949208458, 149152.1011344189, 68216.20271879823, 15497.047292755726, 223323.20103262554, 79793.50106669414, 30457.051783429128, 77164.3826626541, 94956.44047745944, 12176.543500707634, 353726.6205232446, 49945.9314262532, 97234.18219980021, 66626.58683395671, 78543.47023098022, 43644.21097320109, 107532.54474825275, 68435.94400695805, 196880.01545212523, 80683.95093574632, 163487.23069655997, 109788.56598702585, 203017.74801959493, 394799.9637970045, 130879.37070380949, 236234.0807714369, 145068.2900998875, 52754.302445019544, 86626.14580209437, 70948.54975977835, 56466.292678085854, 44946.225726607234, 43979.8864225319, 33706.48600764406, 29655.560233348853, 27984.454622628204, 72586.0561458687, 45236.12554023254, 35190.8023765413, 51153.113295923766, 55391.37426012557, 234892.2597276455, 68327.5606119026, 29011.122623185234, 40548.86596584412, 65188.2355836071, 40510.64661309459, 58764.43343346327, 27976.189709295882, 66550.92783981604, 31991.517848878586, 24869.07135632696, 24492.682716094176, 43431.80445578201, 21569.591531428934, 317794.78450279497, 160452.75574934948, 299615.11435508856, 180841.89546163724, 172055.92824766185, 59019.68460356079, 70785.00442036899, 650623.628806051, 189088.15975655057, 373913.9579653918, 54637.315490526234, 54517.50725939612, 76278.86474038026, 46717.01177000226, 50499.38339709572, 134085.61724802782, 81360.38711742453, 52811.48120669619, 48897.47289127538, 29749.34229198622, 35963.25232999414, 28268.920028566477, 37846.53471837307, 55433.2159128951, 35813.17952681343, 40198.59380454837, 28963.427812619713, 40925.28927006404, 43826.654769168556, 28877.806180532894, 38938.14046235699, 23291.94474973114, 246306.72317295108, 27978.100911150577, 48390.8450385868, 36493.51671546657, 620639.0894718951, 73636.1692651453, 73927.15701021062, 32693.32440565317, 40699.21302120567, 53472.47593490447, 137613.97739920852, 67609.05772681467, 29737.371320885773, 62676.066937563795, 1392552.860541164, 62232.00135299735, 54220.87761219521, 389883.4607079855, 45763.306970327554, 58069.33267764449, 64728.376203828084, 51973.51015656616, 40436.73002685745, 40076.32246662478, 37887.3086400134, 115816.1436116256, 110028.10018623491, 109023.74949160198, 92018.24289870178, 52192.6215691859, 47539.70504925586, 41376.6943536425, 40102.60958027679, 39395.5793270846, 31764.353200802212, 30921.434245449265, 32065.511567527974, 114814.20338663425, 62522.19701229202, 30595.89032446218, 35939.46074882535, 92004.087624937, 34434.58087723513, 36153.65404935057, 110572.70510298175, 25235.130393064646, 33200.54495254769, 25622.685435129853, 25190.866025227013, 100335.44026381196, 23697.07049135349, 57964.584152847376, 37764.92762167381, 19502.300174055632, 17000.88463168621, 91395.89183032828, 131470.63627472505, 157036.33866287628, 180737.4506037205, 54241.53507686656, 79734.40908058334, 187144.35809028047, 378356.4134370908, 146455.54014727363, 149146.57590488487, 224883.5381098236, 60338.65284883189, 50573.40234710948, 94354.57601392076, 56328.910286103586, 45473.452716682965, 40410.81014932256, 36638.669428868416, 41540.9154252288, 29100.98974940279, 37056.933219255174, 56236.73362187162, 119471.36847320659, 55565.13481643421, 34121.44535068054, 50764.24242196651, 57315.80816643246, 33934.0950100803, 34720.169243804965, 40283.681369633574, 23321.10499897661, 24854.834147493864, 88118.6392555648, 23129.54124382363, 38170.20955859255, 91424.88215189587, 30306.651961015425, 23016.08729215008, 32880.469338497445, 21483.672714897268, 107330.32926149956, 23623.27792983712, 18336.53314605525, 28158.694250314038, 28748.858761376843, 29258.77325505601, 22129.9578695477, 64511.9322119996, 44639.152771845685, 43052.42235911789, 577056.1361623115, 64291.9390321558, 41118.55508640024, 42553.28852189134, 38325.73065755323, 175047.68042266212, 47811.4614514408, 77865.19892582149, 45260.78460347022, 87886.21076321231, 136142.60555582345, 40281.10268395971, 51427.63816026701, 55998.25460959746, 46556.23122253008, 38723.81559803547, 151195.65379420755, 58068.49782234658, 50784.42547504765, 49215.46698328377, 50093.90141906864, 34212.05901071427, 254210.8306635757, 51020.21156367616, 39241.54668886228, 38238.46776368266, 48548.70177913159, 28409.43737486662, 27098.03174143141, 128244.648919835, 201130.29013937336, 58601.08336963017, 296608.6736695669, 42791.30022973336, 37241.009317096694, 60972.84510546268, 34228.33711543997, 21909.311839692513, 54848.19584149124, 40527.185607952175, 82777.08211452205, 139565.42030109905, 40289.5490619242, 42094.99028286194, 61631.66389806393, 34409.66592173194, 85615.22593887223, 120482.26214072152, 463605.23635237385, 74733.38319212337, 280801.3808316763, 104673.30581518971, 50020.71716146616, 38432.902466855914, 101255.7455040332, 37655.585120184485, 37147.824721926685, 69864.90413909385, 37712.264151085255, 69238.98322368454, 38673.25218933158, 388686.5975296799, 146209.11333592344, 32545.554087564033, 27589.838200325903, 85607.76047517317, 143486.66388122842, 62905.55270343271, 45869.59506842794, 30034.47658024174, 60714.85352692881, 58699.13695483393, 50748.773616258215, 34472.82602072381, 32937.407776521, 35578.689148941245, 19382.71499461005, 39321.05797591959, 46858.75054854681, 26834.23781107845, 34676.83484195405, 45188.84446069297, 53274.88080227215, 9805.714018561486, 77142.07073459282, 174374.27942644584, 330090.0161103064, 70689.12590483339, 76778.49730045859, 46378.599599186884, 54020.76712252593, 38615.83218721859, 37583.219410791426], \"Total\": [1322500.0, 5054583.0, 940029.0, 413464.0, 867699.0, 4984865.0, 1083343.0, 1192877.0, 929266.0, 406399.0, 1611606.0, 591137.0, 563324.0, 420693.0, 266355.0, 442071.0, 436708.0, 324875.0, 237957.0, 264917.0, 327195.0, 234941.0, 172594.0, 258494.0, 160346.0, 151196.0, 244386.0, 442936.0, 245055.0, 344291.0, 47701.369554554854, 42525.212000881926, 44507.50800122982, 57443.87683025568, 59782.03593002386, 92582.63861341595, 46111.88976319996, 71283.27919802956, 33542.84080969287, 28260.570275286223, 54332.24938381008, 116912.43417131524, 74426.20314418718, 69341.8076657616, 81125.88528204673, 81985.8999264941, 185584.04699660165, 47585.308710650505, 49114.035829713604, 929266.9127202773, 65634.2431305772, 591137.5976339728, 29412.412459065934, 31543.57349858748, 1083343.787025426, 59241.639316799185, 232068.08493056032, 60817.897067488506, 33059.07120929422, 54258.29731714479, 1611606.3712701185, 143350.44894143817, 297454.82165243145, 175344.84948826165, 4984865.868365373, 127396.17269934635, 298616.98496533185, 442936.5629031997, 244027.3571993149, 153384.3073327497, 5054583.300867614, 170683.43636104112, 1192877.5325755787, 344291.18637795537, 384330.4447787712, 224817.87053764975, 181990.2884953494, 92624.3115945874, 157123.66957500644, 78241.27526098503, 48973.00721913125, 54594.41582956087, 38193.66983684701, 37613.068385647755, 35889.12869100985, 31101.399797545357, 29344.708221432044, 36491.56534609691, 30309.404457771427, 29797.273257960907, 32932.51769422854, 34216.75598998205, 29392.338469559916, 36434.97033911809, 31509.298907767385, 29100.289603034344, 63636.36054179817, 234941.0707077012, 62316.972891576275, 29986.957351825604, 32662.318368119086, 32129.04488324185, 33044.08010951491, 244386.77785737722, 31218.284606736343, 199257.18610566665, 63273.87088897056, 259465.81379000252, 155892.8895241438, 83041.36747998928, 141943.15774304446, 1192877.5325755787, 867699.8028537576, 563324.4543167455, 135416.93143687828, 209554.9093159201, 197665.0993761357, 436708.8706429604, 5054583.300867614, 77027.85950873293, 63713.4101969519, 327195.05426947, 58288.39047276705, 167384.99361123308, 127306.49740708253, 224817.87053764975, 1611606.3712701185, 384330.4447787712, 235866.55938624823, 343138.93075984967, 33897.97635355112, 68549.73286707135, 85431.40177279193, 32583.485868307736, 146151.59465851262, 42534.14467033421, 31076.016251505614, 28637.787538480698, 31347.015208329227, 179617.3551230929, 35234.53007892032, 60110.21000310079, 34179.228531114284, 87707.47725214942, 29000.155072703237, 35102.20276997119, 38016.284527530544, 28063.868272407843, 102653.06656413114, 40938.898681892635, 258494.75463321258, 30623.064545458798, 42187.89108530391, 117454.34255565994, 41271.14027640819, 28291.212094890972, 40383.981006641705, 61535.3435242047, 68977.16665155228, 65240.17293452985, 124788.45991835895, 97063.81450890042, 119862.12997135558, 64045.52042061552, 152256.3626535476, 82249.254465431, 61607.72236178314, 4984865.868365373, 110159.02299344979, 384330.4447787712, 80698.07659187078, 61609.41970234599, 170160.7560580643, 96042.7492765693, 173023.76881937348, 121079.19992224443, 343138.93075984967, 5054583.300867614, 95125.1018399634, 420693.6105187384, 298616.98496533185, 380657.53218313353, 194182.29134361577, 153384.3073327497, 101206.58671051991, 66771.599975958, 100619.30845493735, 1322500.1789915636, 72698.84949955439, 160344.0315268328, 163187.98753846993, 49029.78362191626, 32721.260761952588, 39730.10353914236, 101682.06385745922, 43268.38938236242, 244027.3571993149, 125762.625263086, 28828.56566802582, 436708.8706429604, 167384.99361123308, 64765.02901314892, 179192.0723232066, 224817.87053764975, 29649.135020173657, 867699.8028537576, 122625.36596266396, 245055.5464310808, 175344.84948826165, 209554.9093159201, 117572.33497911968, 297454.82165243145, 194182.29134361577, 563324.4543167455, 259465.81379000252, 591137.5976339728, 406399.00957389723, 1192877.5325755787, 4984865.868365373, 1083343.787025426, 5054583.300867614, 1611606.3712701185, 380657.53218313353, 86627.05871476047, 70949.46267449427, 56467.20560087293, 44947.13864965675, 43980.79938603782, 33707.3989207464, 29656.47314140947, 27985.36755075074, 72605.53935282513, 45416.95037347101, 35406.801873298595, 51530.43256090954, 55875.72212188826, 237957.79005855665, 69370.33744261766, 29516.837167019054, 41809.492784810245, 72470.74453699045, 45884.612500446885, 67700.31764161623, 34733.81445885112, 82833.66529390805, 39936.263127097365, 31414.93438308725, 31480.054349458514, 57789.811307994176, 28730.639489486457, 442071.9129947679, 223498.54002438742, 420693.6105187384, 344291.18637795537, 327195.05426947, 98341.54365727055, 128534.57886874897, 5054583.300867614, 940029.571040467, 4984865.868365373, 108274.97634896246, 114923.45921359191, 380657.53218313353, 174767.36669988348, 442936.5629031997, 134086.52984148767, 81361.29969493025, 52812.40512062294, 48898.39757627036, 29750.25486886851, 36007.414919107185, 28419.87499033751, 43643.24449600886, 64529.694028601414, 42843.589104624516, 48320.58524709012, 35363.324729308944, 50401.35582916222, 54413.38989561994, 36377.121861715335, 49206.275112884985, 29861.25163911987, 324875.3959604456, 37803.54073232089, 65476.67575709355, 54507.34822936954, 940029.571040467, 113018.82781641475, 117572.33497911968, 52609.64404702334, 66658.30907389514, 88150.11151962655, 245055.5464310808, 122625.36596266396, 54742.4844870195, 117984.29076287226, 5054583.300867614, 124166.51204912714, 104282.93915508513, 4984865.868365373, 92638.98481397447, 179192.0723232066, 380657.53218313353, 344291.18637795537, 125540.72036749093, 125762.625263086, 118580.94726876754, 115817.05305813876, 110029.00962975253, 109024.65893445976, 92019.15234592982, 52193.53102282149, 47540.61822119372, 41377.603797590666, 40103.519038934835, 39396.48884163641, 31765.262654470916, 30922.343708434277, 32066.656209047484, 114822.48095454843, 62527.113120194794, 30600.293931119155, 35976.92678029714, 92204.2509291426, 34584.12180184696, 40843.08489429613, 131194.93509258688, 30165.511625299274, 39894.70212242982, 31185.931404570623, 31269.725917784956, 147025.71147346645, 35268.4847455908, 88555.50143838563, 59511.48821168087, 32495.300717606413, 30843.638093463473, 171236.63408987375, 260741.24292131752, 369789.27219420794, 442936.5629031997, 103528.889110837, 196867.69804732653, 1083343.787025426, 4984865.868365373, 929266.9127202773, 1611606.3712701185, 5054583.300867614, 170683.43636104112, 116143.50249885622, 1192877.5325755787, 384330.4447787712, 343138.93075984967, 173023.76881937348, 36639.580772334506, 41542.15149140565, 29101.900917177853, 37059.50395302388, 56269.43400494494, 119941.31193197411, 56097.14576358176, 34543.83352574682, 53180.68659685879, 63722.04061414518, 40567.625370868125, 42376.718012686884, 51169.81168656679, 29691.77309991551, 31932.417145082596, 117201.74483272254, 31451.31367649013, 51913.13038418093, 128255.40204360633, 42772.08945101725, 32671.976556101108, 48636.30349284684, 32159.736539516955, 162742.1601681242, 35828.12420440704, 28990.275748806653, 45011.90625286913, 47132.73842691255, 47975.706696621775, 36626.991985245404, 115404.55368800109, 79752.03044787353, 81616.69169786578, 4984865.868365373, 174345.09076708005, 86619.147927443, 93959.70572481731, 80073.6343246875, 1611606.3712701185, 127396.17269934635, 380657.53218313353, 124166.51204912714, 929266.9127202773, 5054583.300867614, 95838.0263218289, 369789.27219420794, 1083343.787025426, 297454.82165243145, 147025.71147346645, 151196.55963409547, 58069.40366021778, 50785.33130772763, 49216.372804142266, 50203.965471769494, 34346.56651132231, 266355.60733452707, 53532.6709218768, 41942.7272015715, 42161.6388389231, 53850.3695648491, 34337.43423459257, 33176.4537708931, 166861.27510342572, 264917.1564278716, 78434.60034636653, 406399.00957389723, 60520.17205579498, 53248.16643858067, 87435.20839331974, 49604.77192660758, 32228.61005231627, 90672.56962227049, 67362.21741453705, 138610.46784280136, 235866.55938624823, 69150.22423038121, 77676.77821425992, 118580.94726876754, 71320.80193494925, 204325.52425394978, 343138.93075984967, 5054583.300867614, 260741.24292131752, 4984865.868365373, 1611606.3712701185, 1192877.5325755787, 929266.9127202773, 101256.64527881419, 37656.48490377572, 37148.72974750835, 69867.38029776832, 37718.41998014641, 69254.69757858122, 38697.50155171786, 413464.51653622324, 160346.46105704084, 36941.66764384485, 33027.699601491084, 102698.61705263826, 172594.98042351025, 78176.23854556447, 58980.08490008394, 40561.74692506445, 82401.0171315585, 93943.11345611866, 85486.50857764808, 66929.76181581084, 71415.02146052866, 77676.77821425992, 44978.66077582094, 98341.54365727055, 117344.35293507829, 67362.21741453705, 88150.11151962655, 126285.17912319921, 170160.7560580643, 33360.57567832974, 324875.3959604456, 1192877.5325755787, 5054583.300867614, 563324.4543167455, 867699.8028537576, 380657.53218313353, 940029.571040467, 166861.27510342572, 264917.1564278716], \"Category\": [\"Default\", \"Default\", \"Default\", \"Default\", \"Default\", \"Default\", \"Default\", \"Default\", \"Default\", \"Default\", \"Default\", \"Default\", \"Default\", \"Default\", \"Default\", \"Default\", \"Default\", \"Default\", \"Default\", \"Default\", \"Default\", \"Default\", \"Default\", \"Default\", \"Default\", \"Default\", \"Default\", \"Default\", \"Default\", \"Default\", \"Topic1\", \"Topic1\", \"Topic1\", \"Topic1\", \"Topic1\", \"Topic1\", \"Topic1\", \"Topic1\", \"Topic1\", \"Topic1\", \"Topic1\", \"Topic1\", \"Topic1\", \"Topic1\", \"Topic1\", \"Topic1\", \"Topic1\", \"Topic1\", \"Topic1\", \"Topic1\", \"Topic1\", \"Topic1\", \"Topic1\", \"Topic1\", \"Topic1\", \"Topic1\", \"Topic1\", \"Topic1\", \"Topic1\", \"Topic1\", \"Topic1\", \"Topic1\", \"Topic1\", \"Topic1\", \"Topic1\", \"Topic1\", \"Topic1\", \"Topic1\", \"Topic1\", \"Topic1\", \"Topic1\", \"Topic1\", \"Topic1\", \"Topic1\", \"Topic1\", \"Topic1\", \"Topic2\", \"Topic2\", \"Topic2\", \"Topic2\", \"Topic2\", \"Topic2\", \"Topic2\", \"Topic2\", \"Topic2\", \"Topic2\", \"Topic2\", \"Topic2\", \"Topic2\", \"Topic2\", \"Topic2\", \"Topic2\", \"Topic2\", \"Topic2\", \"Topic2\", \"Topic2\", \"Topic2\", \"Topic2\", \"Topic2\", \"Topic2\", \"Topic2\", \"Topic2\", \"Topic2\", \"Topic2\", \"Topic2\", \"Topic2\", \"Topic2\", \"Topic2\", \"Topic2\", \"Topic2\", \"Topic2\", \"Topic2\", \"Topic2\", \"Topic2\", \"Topic2\", \"Topic2\", \"Topic2\", \"Topic2\", \"Topic2\", \"Topic2\", \"Topic2\", \"Topic2\", \"Topic2\", \"Topic2\", \"Topic2\", \"Topic2\", \"Topic2\", \"Topic2\", \"Topic2\", \"Topic2\", \"Topic3\", \"Topic3\", \"Topic3\", \"Topic3\", \"Topic3\", \"Topic3\", \"Topic3\", \"Topic3\", \"Topic3\", \"Topic3\", \"Topic3\", \"Topic3\", \"Topic3\", \"Topic3\", \"Topic3\", \"Topic3\", \"Topic3\", \"Topic3\", \"Topic3\", \"Topic3\", \"Topic3\", \"Topic3\", \"Topic3\", \"Topic3\", \"Topic3\", \"Topic3\", \"Topic3\", \"Topic3\", \"Topic3\", \"Topic3\", \"Topic3\", \"Topic3\", \"Topic3\", \"Topic3\", \"Topic3\", \"Topic3\", \"Topic3\", \"Topic3\", \"Topic3\", \"Topic3\", \"Topic3\", \"Topic3\", \"Topic3\", \"Topic3\", \"Topic3\", \"Topic3\", \"Topic3\", \"Topic3\", \"Topic3\", \"Topic3\", \"Topic3\", \"Topic3\", \"Topic3\", \"Topic3\", \"Topic4\", \"Topic4\", \"Topic4\", \"Topic4\", \"Topic4\", \"Topic4\", \"Topic4\", \"Topic4\", \"Topic4\", \"Topic4\", \"Topic4\", \"Topic4\", \"Topic4\", \"Topic4\", \"Topic4\", \"Topic4\", \"Topic4\", \"Topic4\", \"Topic4\", \"Topic4\", \"Topic4\", \"Topic4\", \"Topic4\", \"Topic4\", \"Topic4\", \"Topic4\", \"Topic4\", \"Topic4\", \"Topic4\", \"Topic4\", \"Topic4\", \"Topic4\", \"Topic4\", \"Topic4\", \"Topic4\", \"Topic4\", \"Topic4\", \"Topic4\", \"Topic4\", \"Topic5\", \"Topic5\", \"Topic5\", \"Topic5\", \"Topic5\", \"Topic5\", \"Topic5\", \"Topic5\", \"Topic5\", \"Topic5\", \"Topic5\", \"Topic5\", \"Topic5\", \"Topic5\", \"Topic5\", \"Topic5\", \"Topic5\", \"Topic5\", \"Topic5\", \"Topic5\", \"Topic5\", \"Topic5\", \"Topic5\", \"Topic5\", \"Topic5\", \"Topic5\", \"Topic5\", \"Topic5\", \"Topic5\", \"Topic5\", \"Topic5\", \"Topic5\", \"Topic5\", \"Topic5\", \"Topic5\", \"Topic5\", \"Topic5\", \"Topic5\", \"Topic5\", \"Topic5\", \"Topic5\", \"Topic5\", \"Topic6\", \"Topic6\", \"Topic6\", \"Topic6\", \"Topic6\", \"Topic6\", \"Topic6\", \"Topic6\", \"Topic6\", \"Topic6\", \"Topic6\", \"Topic6\", \"Topic6\", \"Topic6\", \"Topic6\", \"Topic6\", \"Topic6\", \"Topic6\", \"Topic6\", \"Topic6\", \"Topic6\", \"Topic6\", \"Topic6\", \"Topic6\", \"Topic6\", \"Topic6\", \"Topic6\", \"Topic6\", \"Topic6\", \"Topic6\", \"Topic6\", \"Topic6\", \"Topic6\", \"Topic6\", \"Topic6\", \"Topic6\", \"Topic6\", \"Topic6\", \"Topic6\", \"Topic6\", \"Topic6\", \"Topic6\", \"Topic7\", \"Topic7\", \"Topic7\", \"Topic7\", \"Topic7\", \"Topic7\", \"Topic7\", \"Topic7\", \"Topic7\", \"Topic7\", \"Topic7\", \"Topic7\", \"Topic7\", \"Topic7\", \"Topic7\", \"Topic7\", \"Topic7\", \"Topic7\", \"Topic7\", \"Topic7\", \"Topic7\", \"Topic7\", \"Topic7\", \"Topic7\", \"Topic7\", \"Topic7\", \"Topic7\", \"Topic7\", \"Topic7\", \"Topic7\", \"Topic7\", \"Topic7\", \"Topic7\", \"Topic7\", \"Topic7\", \"Topic7\", \"Topic7\", \"Topic7\", \"Topic7\", \"Topic7\", \"Topic7\", \"Topic7\", \"Topic7\", \"Topic7\", \"Topic7\", \"Topic7\", \"Topic7\", \"Topic8\", \"Topic8\", \"Topic8\", \"Topic8\", \"Topic8\", \"Topic8\", \"Topic8\", \"Topic8\", \"Topic8\", \"Topic8\", \"Topic8\", \"Topic8\", \"Topic8\", \"Topic8\", \"Topic8\", \"Topic8\", \"Topic8\", \"Topic8\", \"Topic8\", \"Topic8\", \"Topic8\", \"Topic8\", \"Topic8\", \"Topic8\", \"Topic8\", \"Topic8\", \"Topic8\", \"Topic8\", \"Topic8\", \"Topic8\", \"Topic8\", \"Topic8\", \"Topic8\", \"Topic8\", \"Topic8\", \"Topic8\", \"Topic8\", \"Topic8\", \"Topic8\", \"Topic8\", \"Topic8\", \"Topic8\", \"Topic8\", \"Topic8\", \"Topic8\", \"Topic8\", \"Topic8\", \"Topic8\", \"Topic8\", \"Topic9\", \"Topic9\", \"Topic9\", \"Topic9\", \"Topic9\", \"Topic9\", \"Topic9\", \"Topic9\", \"Topic9\", \"Topic9\", \"Topic9\", \"Topic9\", \"Topic9\", \"Topic9\", \"Topic9\", \"Topic9\", \"Topic9\", \"Topic9\", \"Topic9\", \"Topic9\", \"Topic9\", \"Topic9\", \"Topic9\", \"Topic9\", \"Topic9\", \"Topic9\", \"Topic9\", \"Topic9\", \"Topic9\", \"Topic9\", \"Topic9\", \"Topic9\", \"Topic9\", \"Topic9\", \"Topic9\", \"Topic9\", \"Topic9\", \"Topic9\", \"Topic10\", \"Topic10\", \"Topic10\", \"Topic10\", \"Topic10\", \"Topic10\", \"Topic10\", \"Topic10\", \"Topic10\", \"Topic10\", \"Topic10\", \"Topic10\", \"Topic10\", \"Topic10\", \"Topic10\", \"Topic10\", \"Topic10\", \"Topic10\", \"Topic10\", \"Topic10\", \"Topic10\", \"Topic10\", \"Topic10\", \"Topic10\", \"Topic10\", \"Topic10\", \"Topic10\", \"Topic10\", \"Topic10\", \"Topic10\", \"Topic10\", \"Topic10\", \"Topic10\", \"Topic10\", \"Topic10\", \"Topic10\", \"Topic10\", \"Topic10\", \"Topic10\"], \"logprob\": [30.0, 29.0, 28.0, 27.0, 26.0, 25.0, 24.0, 23.0, 22.0, 21.0, 20.0, 19.0, 18.0, 17.0, 16.0, 15.0, 14.0, 13.0, 12.0, 11.0, 10.0, 9.0, 8.0, 7.0, 6.0, 5.0, 4.0, 3.0, 2.0, 1.0, -5.1771, -5.292, -5.2465, -4.9915, -4.9522, -4.5152, -5.2125, -4.7917, -5.6071, -5.795, -5.1758, -4.495, -4.9474, -5.0368, -4.9345, -4.9277, -4.1138, -5.5241, -5.5297, -2.5903, -5.2432, -3.0454, -6.0621, -6.0163, -2.4943, -5.4211, -4.0768, -5.4431, -6.0723, -5.5957, -2.2976, -4.6565, -4.0774, -4.5381, -1.7491, -4.8744, -4.271, -4.1762, -4.5343, -4.8427, -3.5352, -4.9246, -4.5726, -5.0303, -5.0331, -5.1229, -3.7935, -4.469, -3.9405, -4.6377, -5.1062, -4.9976, -5.3548, -5.3702, -5.4171, -5.5603, -5.6184, -5.4004, -5.5861, -5.6031, -5.5031, -5.4648, -5.6168, -5.402, -5.5473, -5.6271, -4.8452, -3.5395, -4.9156, -5.6687, -5.6103, -5.6414, -5.6136, -3.6161, -5.7013, -3.8501, -5.0164, -3.8125, -4.2582, -4.8171, -4.3734, -2.6357, -2.9186, -3.308, -4.4501, -4.1271, -4.1994, -3.6349, -1.9739, -4.9046, -5.0668, -4.0802, -5.1462, -4.618, -4.8291, -4.6229, -3.9949, -4.4723, -4.8185, -4.8294, -5.4421, -4.7382, -4.5182, -5.4823, -3.9831, -5.2186, -5.5344, -5.6325, -5.5443, -3.8019, -5.4402, -4.9137, -5.4841, -4.5429, -5.6601, -5.4716, -5.3958, -5.7022, -4.4088, -5.3324, -3.4911, -5.6439, -5.3494, -4.3351, -5.3866, -5.7756, -5.4208, -5.0005, -4.8912, -4.9502, -4.3053, -4.5801, -4.3907, -4.991, -4.2506, -4.8012, -5.0419, -1.996, -4.6753, -3.9648, -4.9477, -5.118, -4.5725, -4.8971, -4.6468, -4.826, -4.4318, -3.4388, -4.9761, -4.6904, -4.8183, -4.8623, -4.9131, -4.9445, -4.0643, -4.4802, -4.0709, -1.5045, -4.434, -3.6571, -3.6415, -4.9602, -5.3694, -5.2935, -4.3938, -5.3358, -3.6765, -4.4588, -5.9408, -3.2729, -4.302, -5.2652, -4.3355, -4.1281, -6.182, -2.813, -4.7705, -4.1044, -4.4824, -4.3178, -4.9054, -4.0037, -4.4556, -3.3989, -4.2909, -3.5847, -3.9829, -3.3682, -2.7031, -3.8072, -3.2167, -3.7043, -4.7158, -4.1179, -4.3176, -4.5459, -4.7741, -4.7958, -5.0619, -5.1899, -5.2479, -4.2948, -4.7677, -5.0188, -4.6447, -4.5651, -3.1204, -4.3552, -5.2119, -4.877, -4.4023, -4.878, -4.506, -5.2482, -4.3816, -5.1141, -5.3659, -5.3812, -4.8084, -5.5083, -2.8181, -3.5015, -2.8771, -3.3819, -3.4317, -4.5017, -4.3199, -2.1016, -3.3373, -2.6555, -4.5788, -4.581, -4.2452, -4.7354, -4.6576, -3.6786, -4.1781, -4.6103, -4.6873, -5.1842, -4.9945, -5.2353, -4.9435, -4.5619, -4.9987, -4.8832, -5.211, -4.8653, -4.7968, -5.214, -4.9151, -5.4289, -3.0705, -5.2456, -4.6977, -4.9799, -2.1463, -4.2779, -4.274, -5.0899, -4.8708, -4.5979, -3.6526, -4.3633, -5.1846, -4.4391, -1.3381, -4.4462, -4.584, -2.6112, -4.7536, -4.5154, -4.4068, -4.6263, -4.8773, -4.8862, -4.9424, -3.7627, -3.8139, -3.8231, -3.9927, -4.5597, -4.6531, -4.7919, -4.8232, -4.841, -5.0563, -5.0832, -5.0469, -3.7713, -4.3791, -5.0938, -4.9328, -3.9928, -4.9756, -4.9269, -3.809, -5.2864, -5.0121, -5.2712, -5.2882, -3.9061, -5.3493, -4.4548, -4.8833, -5.5441, -5.6814, -3.9995, -3.6359, -3.4582, -3.3176, -4.5212, -4.136, -3.2828, -2.5788, -3.5279, -3.5097, -3.0991, -4.4147, -4.5912, -3.9676, -4.4835, -4.6975, -4.8156, -4.834, -4.7084, -5.0643, -4.8226, -4.4055, -3.652, -4.4175, -4.9051, -4.5079, -4.3865, -4.9106, -4.8877, -4.7391, -5.2857, -5.222, -3.9564, -5.294, -4.793, -3.9195, -5.0237, -5.2989, -4.9422, -5.3678, -3.7592, -5.2728, -5.5262, -5.0972, -5.0765, -5.0589, -5.3381, -4.2682, -4.6365, -4.6726, -2.0771, -4.2716, -4.7186, -4.6843, -4.7889, -3.27, -4.5678, -4.0801, -4.6226, -3.959, -3.5214, -4.7392, -4.4949, -4.4097, -4.5944, -4.7786, -3.3131, -4.27, -4.4041, -4.4355, -4.4178, -4.7991, -2.7935, -4.3994, -4.6619, -4.6878, -4.4491, -4.9849, -5.0322, -3.4777, -3.0277, -4.2609, -2.6392, -4.5753, -4.7143, -4.2212, -4.7986, -5.2447, -4.3271, -4.6297, -3.9155, -3.3931, -4.6356, -4.5917, -4.2105, -4.7933, -3.8818, -3.5402, -2.1926, -4.0177, -2.694, -3.6808, -4.4192, -4.6827, -3.4597, -4.4489, -4.4624, -3.8308, -4.4474, -3.8398, -4.4222, -2.1146, -3.0923, -4.5947, -4.7599, -3.6276, -3.1111, -3.9357, -4.2516, -4.675, -3.9712, -4.0049, -4.1505, -4.5372, -4.5827, -4.5056, -5.113, -4.4056, -4.2302, -4.7877, -4.5313, -4.2665, -4.1019, -5.7944, -3.7317, -2.9162, -2.278, -3.8191, -3.7364, -4.2405, -4.088, -4.4237, -4.4508], \"loglift\": [30.0, 29.0, 28.0, 27.0, 26.0, 25.0, 24.0, 23.0, 22.0, 21.0, 20.0, 19.0, 18.0, 17.0, 16.0, 15.0, 14.0, 13.0, 12.0, 11.0, 10.0, 9.0, 8.0, 7.0, 6.0, 5.0, 4.0, 3.0, 2.0, 1.0, 1.9236, 1.9235, 1.9234, 1.9233, 1.9227, 1.9223, 1.922, 1.9072, 1.8457, 1.8291, 1.7947, 1.7092, 1.7084, 1.6898, 1.6351, 1.6314, 1.6283, 1.579, 1.5418, 1.5409, 1.5383, 1.5382, 1.5221, 1.4979, 1.4835, 1.4628, 1.4418, 1.4147, 1.395, 1.3762, 1.2831, 1.3438, 1.193, 1.2608, 0.7023, 1.2439, 0.9954, 0.696, 0.934, 1.09, -1.0977, 0.9012, -0.6911, 0.0938, -0.019, 0.4274, 1.9681, 1.9681, 1.9681, 1.9681, 1.9681, 1.9681, 1.9681, 1.9681, 1.9681, 1.9681, 1.9681, 1.9681, 1.9681, 1.9681, 1.9681, 1.968, 1.968, 1.968, 1.968, 1.9678, 1.9672, 1.9668, 1.9178, 1.8961, 1.8691, 1.8545, 1.8541, 1.8507, 1.8233, 1.8209, 1.8017, 1.5945, 1.6583, 1.7292, 1.6368, 1.2458, 1.2811, 1.3237, 1.6072, 1.4935, 1.4797, 1.2514, 0.4637, 1.7168, 1.7444, 1.0949, 1.754, 1.2274, 1.29, 0.9275, -0.4142, 0.5418, 0.6839, 0.2981, 2.0001, 1.9998, 1.9997, 1.9995, 1.9978, 1.9967, 1.9948, 1.9784, 1.9761, 1.9728, 1.9634, 1.9557, 1.9499, 1.9487, 1.9382, 1.9358, 1.9318, 1.9289, 1.9254, 1.9212, 1.9196, 1.8999, 1.8741, 1.8645, 1.8588, 1.8474, 1.8464, 1.8455, 1.8406, 1.8374, 1.8337, 1.8101, 1.7886, 1.815, 1.6894, 1.7547, 1.8029, 0.4555, 1.5884, 1.0493, 1.6271, 1.7268, 1.2564, 1.5037, 1.1653, 1.3431, 0.6956, -1.0012, 1.4343, 0.2333, 0.4481, 0.1614, 0.7837, 0.9882, 2.2841, 2.2841, 2.2833, 2.2738, 2.2453, 2.2312, 2.2292, 2.113, 2.1081, 1.99, 1.9499, 1.8624, 1.7918, 1.6724, 1.6634, 1.6135, 1.5433, 1.5297, 1.4416, 1.4223, 1.3942, 1.3868, 1.3859, 1.3598, 1.3165, 1.3028, 1.2931, 1.2667, 1.2412, 1.2329, 1.116, 0.9988, 0.9754, 0.5133, -0.2517, 0.1706, -0.7791, -0.1236, 0.3079, 2.3861, 2.386, 2.386, 2.386, 2.386, 2.386, 2.386, 2.386, 2.3858, 2.3821, 2.3799, 2.3787, 2.3774, 2.3731, 2.3709, 2.3688, 2.3554, 2.2802, 2.2615, 2.2445, 2.1697, 2.1672, 2.1642, 2.1524, 2.1351, 2.1004, 2.0994, 2.056, 2.0547, 2.0467, 1.7422, 1.7433, 1.8755, 1.7895, 0.3359, 0.7824, -0.2041, 1.7021, 1.6403, 0.7786, 1.0667, 0.2146, 2.3886, 2.3886, 2.3886, 2.3886, 2.3885, 2.3873, 2.3833, 2.2461, 2.2366, 2.2093, 2.2046, 2.1889, 2.1803, 2.1722, 2.1577, 2.1545, 2.1401, 2.1117, 2.0876, 2.0862, 1.9874, 1.9734, 1.9602, 1.9246, 1.9128, 1.8952, 1.8887, 1.8115, 1.7932, 1.7783, 1.756, 1.0994, 1.6978, 1.7345, -0.1597, 1.6833, 1.2618, 0.6169, 0.4978, 1.2557, 1.245, 1.2476, 2.4509, 2.4509, 2.4509, 2.4509, 2.4509, 2.4509, 2.4509, 2.4509, 2.4509, 2.4509, 2.4509, 2.4509, 2.4509, 2.4509, 2.4508, 2.4499, 2.4488, 2.4466, 2.329, 2.2799, 2.2725, 2.2673, 2.2545, 2.2348, 2.0689, 2.0533, 2.0272, 1.9962, 1.9404, 1.8553, 1.8231, 1.7662, 1.5945, 1.5546, 1.8045, 1.5471, 0.695, -0.1274, 0.6033, 0.0709, -0.6615, 1.4111, 1.6195, -0.0861, 0.5307, 0.4299, 0.9966, 2.5305, 2.5305, 2.5305, 2.5305, 2.53, 2.5266, 2.521, 2.5182, 2.484, 2.4246, 2.352, 2.3313, 2.2913, 2.289, 2.28, 2.2453, 2.2232, 2.223, 2.192, 2.186, 2.1802, 2.1391, 2.1271, 2.1143, 2.114, 2.0725, 2.0615, 2.0362, 2.036, 2.0267, 1.949, 1.9502, 1.8909, 0.3743, 1.5329, 1.7855, 1.7384, 1.7937, 0.3106, 1.5505, 0.9436, 1.5214, 0.1722, -1.0838, 1.6638, 0.5578, -0.4319, 0.6759, 1.1964, 2.6339, 2.6339, 2.6339, 2.6339, 2.6318, 2.63, 2.5873, 2.5859, 2.5674, 2.5363, 2.5303, 2.4444, 2.4316, 2.3707, 2.3585, 2.3424, 2.319, 2.2873, 2.2764, 2.2735, 2.2629, 2.248, 2.1313, 2.1258, 2.1184, 2.1092, 2.0938, 2.0213, 1.9795, 1.9051, 1.7641, 1.5873, 0.2449, 1.3843, -0.2426, -0.1002, -0.5377, -0.5515, 2.8882, 2.8882, 2.8882, 2.8882, 2.8881, 2.888, 2.8876, 2.8265, 2.796, 2.7616, 2.7084, 2.7062, 2.7036, 2.6709, 2.6369, 2.5878, 2.5828, 2.418, 2.3668, 2.2248, 2.1144, 2.1074, 2.0464, 1.9716, 1.9703, 1.9679, 1.9553, 1.8606, 1.727, 1.6638, 1.4505, 0.9653, 0.1596, 0.8127, 0.4633, 0.7832, 0.0317, 1.4248, 0.9354]}, \"token.table\": {\"Topic\": [1, 2, 3, 5, 7, 5, 3, 5, 8, 2, 1, 3, 4, 6, 7, 8, 9, 10, 1, 3, 8, 2, 3, 5, 8, 1, 4, 7, 1, 6, 9, 10, 9, 10, 4, 6, 1, 2, 3, 4, 5, 8, 9, 10, 1, 2, 3, 4, 5, 8, 10, 2, 3, 5, 6, 8, 9, 3, 7, 8, 9, 10, 3, 7, 1, 2, 3, 5, 6, 7, 8, 9, 10, 3, 5, 7, 8, 9, 10, 1, 3, 8, 2, 3, 9, 6, 1, 5, 1, 3, 5, 6, 7, 8, 1, 3, 5, 2, 2, 3, 4, 1, 2, 3, 7, 8, 8, 1, 3, 5, 7, 8, 10, 1, 2, 3, 5, 6, 7, 8, 9, 1, 2, 4, 7, 10, 1, 2, 3, 4, 5, 6, 8, 9, 10, 7, 1, 2, 3, 4, 5, 6, 7, 8, 9, 10, 1, 4, 1, 1, 2, 5, 6, 10, 6, 3, 5, 10, 1, 2, 3, 4, 5, 7, 8, 9, 10, 2, 5, 6, 7, 9, 10, 2, 6, 7, 8, 9, 10, 3, 5, 8, 9, 1, 9, 10, 1, 3, 5, 6, 8, 9, 1, 2, 3, 4, 5, 6, 7, 8, 9, 10, 2, 1, 2, 4, 5, 6, 9, 10, 2, 4, 1, 2, 6, 1, 2, 3, 5, 6, 8, 9, 1, 7, 8, 1, 2, 3, 5, 6, 7, 8, 9, 3, 5, 7, 8, 10, 1, 3, 5, 6, 7, 10, 4, 8, 1, 2, 4, 5, 6, 1, 2, 4, 7, 1, 3, 5, 6, 7, 8, 1, 2, 3, 4, 5, 6, 7, 8, 10, 1, 8, 3, 8, 9, 1, 2, 3, 4, 5, 6, 7, 8, 1, 2, 3, 4, 5, 6, 8, 9, 1, 2, 3, 5, 6, 7, 8, 9, 10, 1, 3, 5, 7, 8, 1, 2, 3, 5, 7, 9, 10, 1, 2, 4, 10, 1, 3, 7, 10, 1, 2, 3, 4, 5, 6, 7, 8, 9, 10, 1, 2, 3, 4, 5, 6, 7, 10, 7, 9, 1, 3, 5, 6, 7, 8, 9, 10, 1, 2, 3, 5, 6, 7, 8, 9, 10, 1, 2, 3, 4, 5, 6, 7, 8, 9, 10, 1, 2, 3, 4, 5, 7, 8, 9, 1, 2, 3, 4, 5, 7, 8, 9, 10, 1, 4, 8, 1, 3, 6, 7, 8, 1, 2, 4, 5, 7, 8, 1, 2, 3, 6, 8, 4, 5, 6, 1, 2, 3, 4, 5, 6, 7, 9, 10, 1, 4, 10, 1, 2, 3, 4, 9, 10, 2, 3, 4, 5, 6, 7, 9, 1, 2, 3, 4, 5, 8, 10, 1, 2, 3, 6, 7, 8, 9, 10, 7, 2, 1, 3, 7, 8, 7, 2, 4, 6, 10, 2, 5, 6, 1, 3, 5, 6, 8, 9, 1, 2, 3, 6, 7, 9, 10, 2, 4, 10, 2, 5, 7, 1, 2, 4, 1, 2, 3, 4, 6, 7, 8, 9, 10, 1, 4, 1, 2, 3, 4, 6, 8, 9, 10, 2, 4, 6, 10, 1, 2, 3, 4, 5, 6, 8, 9, 1, 2, 3, 4, 5, 6, 7, 8, 9, 10, 1, 3, 5, 6, 7, 8, 1, 3, 7, 3, 5, 7, 8, 1, 2, 3, 5, 6, 8, 10, 1, 3, 7, 8, 1, 4, 7, 8, 1, 3, 5, 7, 8, 9, 2, 3, 4, 9, 1, 4, 7, 8, 1, 2, 3, 4, 6, 7, 8, 9, 10, 1, 3, 7, 8, 9, 10, 1, 3, 7, 8, 9, 1, 3, 5, 6, 7, 8, 9, 2, 4, 10, 7, 9, 10, 1, 3, 5, 6, 7, 8, 9, 6, 10, 1, 2, 3, 5, 6, 8, 9, 1, 3, 5, 8, 1, 2, 3, 5, 6, 7, 8, 9, 3, 5, 6, 7, 8, 9, 1, 2, 3, 8, 9, 3, 4, 7, 10, 2, 5, 6, 1, 3, 5, 6, 7, 8, 9, 3, 7, 8, 2, 3, 5, 6, 8, 9, 1, 3, 4, 5, 6, 8, 9, 7, 6, 10, 1, 2, 3, 4, 5, 6, 7, 8, 9, 1, 2, 3, 4, 5, 6, 8, 9, 2, 5, 6, 9, 1, 2, 3, 5, 6, 7, 8, 9, 10, 1, 4, 7, 8, 9, 10, 2, 5, 9, 1, 3, 5, 6, 8, 9, 6, 1, 8, 3, 7, 3, 7, 8, 1, 3, 5, 6, 8, 1, 3, 4, 7, 8, 1, 3, 6, 7, 8, 1, 3, 5, 6, 7, 8, 1, 3, 7, 8, 2, 1, 2, 3, 4, 10, 7, 1, 2, 3, 7, 8, 9, 10, 6, 10, 4, 9, 4, 9, 1, 2, 3, 4, 5, 6, 8, 9, 1, 3, 5, 7, 8, 9, 7, 3, 5, 7, 8, 6, 10, 1, 3, 4, 5, 6, 7, 8, 9, 1, 3, 5, 7, 8, 9, 1, 3, 5, 6, 7, 8, 9, 2, 1, 2, 3, 2, 3, 6, 7, 8, 1, 3, 5, 6, 7, 8, 9, 1, 2, 3, 5, 6, 7, 8, 9, 9, 3, 5, 7, 9, 1, 2, 3, 4, 8, 1, 3, 6, 7, 8, 9, 6, 10, 3, 5, 8, 7, 2, 3, 5, 6, 8, 9, 1, 3, 5, 7, 8, 9, 3, 5, 6, 8, 9, 8, 1, 3, 5, 6, 7, 8, 1, 3, 7, 8, 3, 5, 6, 8, 9, 2, 1, 2, 3, 4, 10, 1, 2, 3, 5, 6, 7, 8, 1, 3, 5, 8, 1, 2, 3, 4, 5, 6, 7, 8, 9, 1, 2, 3, 4, 5, 8, 9, 3, 5, 8, 5, 5, 1, 3, 5, 7, 8, 9, 2, 5, 6, 7, 5, 10, 1, 3, 4, 5, 6, 7, 8, 9, 10, 1, 2, 3, 4, 1, 2, 3, 4, 5, 6, 7, 8, 9, 1, 2, 3, 5, 6, 7, 8, 9, 1, 2, 3, 5, 8, 9, 1, 2, 3, 5, 6, 8, 2, 3, 5, 8, 1, 2, 3, 5, 6, 7, 8, 1, 2, 4, 10, 1, 3, 5, 6, 7, 8, 9, 10, 1, 2, 3, 4, 5, 6, 7, 8, 9, 10, 1, 3, 4, 7, 8, 9, 7, 8, 4, 5, 8, 10, 4, 8, 1, 2, 6, 10, 2, 2, 5, 3, 5, 8, 2, 6, 7, 9, 1, 3, 4, 5, 6, 8, 1, 2, 3, 5, 6, 7, 8, 9, 1, 3, 8, 1, 3, 5, 7, 8, 9, 9, 1, 2, 4, 6, 7, 8, 9, 10, 5, 6, 10, 5, 10, 1, 3, 5, 6, 7, 8, 9, 1, 2, 3, 2, 1, 2, 3, 4, 5, 6, 8, 9, 10, 4, 9, 2, 1, 3, 7, 8, 1, 2, 3, 5, 6, 7, 8, 9, 1, 2, 3, 5, 6, 7, 8, 9, 1, 6, 7, 8, 1, 3, 1, 2, 3, 4, 5, 6, 8, 5, 1, 3, 5, 6, 8, 9, 1, 3, 5, 6, 7, 8, 9, 3, 5, 8, 1, 2, 4, 5, 6, 8, 9, 10, 3, 5, 6, 8, 2, 8, 2, 5, 7, 8, 9, 10, 3, 7, 9, 10, 2, 3, 5, 6, 7, 8, 9, 1, 2, 3, 4, 8, 10, 1, 2, 3, 4, 5, 6, 7, 8, 9, 1, 2, 3, 5, 6, 7, 8, 1, 2, 3, 4, 5, 6, 7, 8, 9, 10, 1, 3, 5, 8, 9, 1, 2, 3, 5, 6, 7, 8, 9, 10, 6, 1, 3, 5, 6, 8, 3, 5, 6, 3, 5, 8, 1, 3, 5, 8, 2, 1, 2, 3, 5, 6, 8, 9, 1, 2, 3, 5, 7, 8, 1, 3, 7, 8, 2, 2, 3, 5, 6, 8, 9, 2, 5, 9, 5, 10, 2, 1, 2, 3, 7, 8, 1, 3, 4, 7, 2, 5, 9, 1, 2, 3, 5, 6, 7, 8, 9, 10, 1, 7, 8, 7, 1, 2, 4, 3, 5, 6, 8, 5, 1, 3, 5, 6, 8, 3, 5, 10, 1, 2, 3, 5, 6, 7, 8, 9, 1, 5, 6, 8, 9, 1, 7, 8, 5, 1, 3, 4, 7, 8, 1, 3, 4, 5, 6, 8, 1, 3, 4, 5, 7, 8, 9, 3, 7, 1, 3, 5, 8, 9, 3, 5, 6, 8, 2, 3, 4, 5, 6, 7, 8, 9, 10, 6, 8, 1, 2, 3, 4, 5, 6, 7, 8, 9, 1, 3, 8, 9, 10, 1, 2, 3, 7, 8, 9, 10, 1, 8, 10, 5, 6, 10, 1, 2, 3, 5, 6, 7, 8, 9, 1, 2, 3, 4, 5, 6, 7, 8, 9, 10, 1, 2, 3, 4, 5, 6, 8, 10, 3, 5, 8, 10, 1, 2, 3, 5, 6, 7, 8, 9, 1, 2, 3, 4, 10, 1, 3, 4, 7, 8, 2, 3, 4, 10, 1, 3, 5, 6, 8, 9, 4, 8, 9, 5, 1, 3, 4, 5, 7, 8, 9, 7, 3, 8, 7, 5, 6, 10, 1, 2, 4, 6, 9, 1, 7, 8, 2, 4, 10, 1, 2, 3, 4, 5, 6, 7, 9, 10, 1, 2, 3, 7, 8, 1, 3, 5, 8, 1, 3, 5, 7, 8, 9, 10, 1, 3, 5, 8, 10, 2, 3, 1, 3, 4, 5, 6, 7, 8, 9, 5, 2, 5, 6, 10, 1, 2, 3, 5, 8, 9, 1, 2, 3, 5, 6, 7, 8, 9, 10, 1, 2, 3, 5, 7, 8, 9, 10, 1, 2, 4, 5, 8, 9, 1, 2, 3, 5, 6, 7, 8, 9, 1, 2, 3, 4, 5, 6, 7, 8, 9, 1, 2, 3, 7, 8, 9, 1, 2, 3, 5, 7, 8, 9, 10, 1, 2, 3, 5, 6, 7, 8, 9, 10, 2, 5, 8, 9, 1, 2, 4, 6, 8, 9, 2, 10, 2, 4, 10, 2, 4, 10, 1, 2, 3, 4, 7, 10, 2, 9, 1, 3, 5, 7, 8, 9, 3, 5, 8, 3, 5, 7, 8, 6, 10, 2, 4, 5, 9, 10, 9, 10, 6, 6, 10, 10], \"Freq\": [0.0004477219894458762, 0.4574943828693583, 0.10660949371766998, 8.610038258574542e-06, 0.4354354648508903, 0.9999818242039941, 0.9944646620688622, 0.002156003506297365, 0.003346632308282477, 0.9999929199774337, 0.002223717365010924, 0.00018377829462900197, 3.6755658925800394e-05, 0.8054451318705269, 0.0016907603105868181, 0.00042269007764670453, 0.18995324532853644, 3.6755658925800394e-05, 0.0007815089576069924, 0.3398447524222407, 0.6593423609124993, 0.0006442869753247928, 0.007892515447728711, 0.9913249958393221, 0.00010738116255413212, 0.0020281060592716744, 0.00014099133032369928, 0.9978281811616637, 0.0008040249369730534, 0.09810614137056177, 0.7592184768703767, 0.1418669915786773, 0.6016280573218497, 0.3983538700168903, 0.37120977488242435, 0.6287788705831955, 0.5600331257615843, 0.29024673663210765, 5.580728947188842e-05, 0.0026229426051787557, 0.14597094152490814, 0.000809205697342382, 0.0002511328026234979, 6.975911183986052e-06, 0.506781315576612, 0.10490896011092313, 5.494670563235779e-05, 0.012888927235475927, 3.9247646880255564e-05, 0.37529384899837975, 1.5699058752102226e-05, 0.01704571027434326, 0.002407669648802384, 0.8680018358418607, 2.954195888101085e-05, 0.1119049402412691, 0.0005908391776202169, 0.0014468128298581592, 0.004198129030899904, 0.0006878290502604363, 0.9069381801330539, 0.08671389681903983, 0.00013071769862746892, 0.9998596768015098, 0.0725602444894838, 0.1413642956428058, 0.14348171780422747, 0.00022986064332163546, 0.0002136351861459906, 0.4246634821724276, 0.13907380193817728, 0.0002460861004972803, 0.07816884418653171, 0.36004183314397736, 0.031513792149117155, 0.5511995682377991, 0.0006160103403634012, 0.056543264925987984, 9.726479058369493e-05, 0.13807812185773544, 0.2519480173725581, 0.609958193805783, 0.8922626958379212, 0.0476636055468975, 0.06004101168574263, 0.999996048510702, 0.10048192614170162, 0.8995078002369191, 0.0037820931687590304, 0.8582170293221426, 0.0078116129934181835, 0.0013431732748863845, 3.534666512858907e-05, 0.12880324772857857, 0.9098896359669999, 0.06535607675317137, 0.024734108094459552, 0.9999571038928567, 0.4883528005419457, 0.0002656231823942912, 0.5113772927744853, 1.5593885077214977e-05, 1.5593885077214977e-05, 0.17423827491026156, 0.11288413407395922, 0.7128354715921896, 0.9999722813729113, 0.0001405250506341893, 0.8308153271383569, 0.00020298062869382897, 0.0019517368143637402, 0.09640018473505385, 0.07048111984030339, 0.06045685375501273, 0.050715819685830756, 0.29635222879703615, 0.04181151546618108, 0.0007617988182308979, 0.008367298495322976, 0.4786344509429081, 0.06291708928274202, 0.045180629102310424, 3.2065741023641177e-05, 0.1330728252481109, 0.8216204822487579, 9.619722307092354e-05, 0.16045429620540863, 0.14829598322610194, 4.937680856383518e-05, 0.006154673961574514, 0.5252588714294754, 0.15095942637039822, 0.004699510368016783, 0.0005547629668054423, 0.003572557325501016, 0.9999602504633867, 0.2948661085001262, 0.01124664163097814, 0.21333934113431424, 0.07919972380911063, 0.07500984176382926, 0.0782133381911537, 0.07590093896028334, 0.11576159022895173, 0.056330703255628355, 0.00013159832527552323, 0.0008050144772787431, 0.9991919199586453, 0.9999712889888143, 0.09719556390923022, 0.00020145764203124885, 0.0005268892176201893, 0.8590308823629398, 0.04301895494451898, 0.9999714187715828, 1.2472991214246568e-05, 0.08814662891108051, 0.9118317862218883, 0.682061301574382, 2.1522341671945753e-05, 1.829399042115389e-05, 1.0761170835972876e-06, 3.8740215009502354e-05, 0.15760380359532436, 0.09457562600903122, 0.041358407873894554, 0.024321322206382296, 0.9999893741343303, 6.3644134757343355e-06, 0.00042212314910452213, 0.19488018716992106, 1.2791610578924912e-05, 0.8046690550778506, 0.011044382446688749, 0.6695244069924571, 0.0024583841326516484, 0.24255445237154807, 0.07323783177272672, 0.0011741536155948171, 0.0006362958398140459, 0.41668700746368, 2.8922538173365723e-05, 0.5826445315024525, 2.5747720824405145e-05, 0.5419251540516673, 0.45803907960575535, 2.748980537276749e-05, 0.0043983688596427985, 0.19965845642241029, 0.7938505995547797, 0.0019242863760937244, 0.00010995922149106996, 0.04874031850611943, 0.22214036907993343, 0.049709735707960556, 0.04673659250198739, 0.12871961174095617, 0.2755030270766276, 0.044491105718130884, 0.02693456451229742, 0.09171972691011397, 0.06530508656239584, 0.9999824620977803, 0.0005228495928563886, 0.1016605135787704, 0.05828086348758874, 0.00011806281129015227, 0.31950326652499994, 0.5197462275310475, 0.0001686611589859318, 0.28409140121796317, 0.7158981361948424, 2.7446159299500204e-05, 0.9999184755993914, 2.7446159299500204e-05, 0.006287546676753168, 7.76240330463354e-05, 0.0008732703717712733, 0.9926755406047987, 1.940600826158385e-05, 3.88120165231677e-05, 1.940600826158385e-05, 0.000435147105299416, 0.2477010904695558, 0.7518574072917498, 0.007801402060642454, 0.0936524801301804, 0.17084167242611045, 0.712192894088784, 4.516350979652853e-05, 4.754053662792477e-06, 0.015393625760122041, 6.655675127909467e-05, 0.013954090980178933, 0.9849743062951096, 1.4415383243986502e-05, 0.0010523229768110145, 0.9999803560575743, 2.5065984875164023e-05, 2.5065984875164023e-05, 0.018624026762246868, 0.029076542455190268, 0.8322157638403207, 0.12004100156716051, 0.9999910145037978, 0.999969042669054, 9.235744340197979e-05, 0.3193258605623451, 9.235744340197979e-06, 0.504613363515397, 0.1759501654251117, 0.017772790043196502, 0.32628901148224737, 0.6559060876799957, 0.9999939560970317, 0.0222987737542, 0.9760737919274068, 0.0010527318081381973, 0.0002552077110638054, 3.1900963882975676e-05, 0.0002871086749467811, 0.11034991837686181, 0.14928755758012166, 0.29622680627561343, 0.35243172550116275, 8.754660315506117e-05, 0.007570206272819995, 0.028179706615558513, 0.00011844540426861218, 0.05575173680921719, 0.9998313093325825, 0.00015727683517591183, 0.0014540684050356359, 0.0007170748298805875, 0.9978096257788376, 5.308849964137184e-05, 0.04004642489614149, 0.1007265799862295, 3.539233309424789e-05, 0.16786583586601775, 0.6515374599320095, 0.00010617699928274368, 0.03962171689901051, 0.00026611090520754283, 0.021212840729401272, 0.0002280950616064653, 0.0006082534976172408, 0.29756901578743455, 0.6214259874250142, 7.60316872021551e-05, 0.05863943875466212, 0.08807842754967159, 7.918585592886054e-06, 0.35814178919505046, 0.00012669736948617687, 0.0009264745143676684, 0.17664780740610211, 0.01761885294417147, 0.0006097310906522261, 0.3578329643569279, 0.6308231917782647, 0.11777189288584605, 3.376003809254581e-05, 0.004253764799660772, 0.24710659881838906, 0.04581562606108163, 0.0036471649693361036, 0.1299415552298177, 0.0034361719545811225, 6.02837185014232e-05, 0.816784101975783, 0.0002411348740056928, 3.3727796757631786e-05, 0.5892583371525849, 0.41070338111768223, 3.3727796757631786e-05, 0.05908461111660607, 0.937462535204511, 0.003190682953259344, 0.00022790592523281027, 0.25947635909553496, 0.07774334680759974, 0.10076251838388396, 0.1921468557552077, 0.2673096292640493, 0.00038908865701897275, 0.032820772597953345, 0.05356263115227358, 0.015145848163665012, 0.0006408519056783081, 0.3438913430188956, 0.002349377587408104, 0.10078350385167009, 0.0031261105856940485, 3.835718510054047e-05, 0.5199412333341012, 3.835718510054047e-05, 0.029851479304495623, 0.045593183194179376, 0.9544045366415953, 0.0001540292192739834, 0.367107640155093, 7.001328148817428e-05, 5.601062519053942e-05, 0.017223267246090874, 0.15393120067989996, 0.00023804515705979254, 0.4612054904751992, 0.05041105643383537, 4.4823108862331395e-05, 0.16693619843960955, 0.07424200931230823, 0.0014492805198820483, 1.4941036287443797e-05, 0.19182796489449092, 1.4941036287443797e-05, 0.5150623439370501, 0.5270188894392516, 0.09233272010629152, 0.003621231650629804, 0.0900145361709329, 0.0024677241731587956, 8.376735312457565e-05, 0.09254555123311915, 0.10861709355370903, 0.06494948261932376, 0.018348773327754274, 0.5154186180190605, 0.020941590304571905, 0.007607865323066155, 0.3799769436881025, 0.00047335293989092265, 0.00034218284811392, 0.07449320603440039, 0.0007470992183820586, 0.643959939914832, 0.004045807113579847, 1.8461360317498733e-06, 0.12081021884969584, 0.0013827558877806552, 0.17274664076289914, 0.051689962752964703, 0.005331640859693634, 3.046124452387291e-05, 0.998761769861684, 0.001134121921480694, 9.721045041263091e-05, 0.5894599965204537, 0.15671946641209372, 0.07952431522821742, 0.17393108123326365, 0.00036298660431289805, 0.3616406979427627, 0.04738806190891186, 8.701443611625387e-06, 0.4743853028185928, 0.029889458805933203, 0.08669248270262372, 0.19037706075683156, 0.00021691588499397958, 0.8091546514581192, 8.342918653614599e-06, 0.00024194464095482338, 0.39678351057990036, 0.041647700485205406, 0.561562478402024, 0.11919383427293863, 0.0002712225482993697, 0.00055939650586745, 5.085422780613182e-05, 1.6951409268710607e-05, 0.531223263662853, 0.25761904236122946, 0.047633460045076806, 0.043429510546436574, 7.95367356739516e-05, 7.95367356739516e-05, 0.9998297919120209, 0.013654127149247006, 0.6970250986967418, 0.00023630723027360961, 0.18045010871768513, 1.4769201892100601e-05, 0.10862009531545387, 4.6680045578449394e-05, 0.2706509042638496, 0.006597446441754181, 0.5507078377117567, 2.3340022789224697e-05, 0.1711368270981919, 0.0008324608128156808, 0.6826358175134211, 2.0360778402881887e-05, 0.27794498597774064, 0.03671048346039604, 2.0360778402881887e-05, 0.002524736521957354, 0.0001628862272230551, 0.0007293096922496416, 0.010077733929267776, 0.0064974863491331705, 0.006364884586905963, 0.8365513674508958, 3.3150440556801895e-05, 0.06358254498794604, 0.07614656195897394, 0.9999870575214527, 0.9999794331778169, 0.354943115401904, 0.5677786299862823, 0.02516685873333012, 0.052099812816367615, 0.9999869959370145, 0.22422308910814767, 0.4306217289614253, 0.32406009510990885, 0.021083522005290872, 0.3894038171779147, 1.500188069414473e-05, 0.6105615423709964, 0.00415174464290878, 0.00149688752431405, 0.993905072983693, 0.00014121580418057075, 0.0001694589650166849, 8.472948250834245e-05, 0.0002336594599127263, 0.2470034468951335, 0.10805226154920683, 4.571598128727254e-05, 0.4050131168843765, 0.11561063712203588, 0.12403253678584676, 0.03774475138037528, 0.9618721682855328, 0.00037139514842205997, 0.9999235499012886, 3.0365124503531387e-05, 0.9999795360937166, 0.0005483111695928233, 0.889237960847561, 0.11021054508815749, 0.07319359918824536, 0.48562738770779634, 4.8621923387869e-05, 0.17019182141997224, 4.52686872921539e-05, 0.07909864795279965, 0.0036826915421191127, 0.0419330556859413, 0.14617929773855637, 0.9999479837776734, 2.351546183895006e-05, 0.6801783571360044, 0.04055739322952879, 3.3833070473016718e-06, 0.2765633596211042, 2.029984228381003e-05, 0.0017136450194582967, 2.5374802854762538e-05, 0.000937176052102563, 0.003904105404105683, 0.9484232032331752, 6.236590102405245e-06, 0.04767249474278569, 0.0009168350883008518, 3.0561169610028395e-05, 0.0011918856147911075, 0.8386290552687892, 0.15445615120908351, 0.004553614271894231, 3.0561169610028395e-05, 0.00018336701766017037, 0.6176721803124758, 0.0032705919050743616, 0.0747237605084249, 4.309080243839739e-06, 0.04779200898442654, 0.00026285389487422405, 0.12375247552283344, 0.003559300281411624, 0.00021976309243582667, 0.12874239044519986, 0.4175002324824947, 0.002466091944219505, 0.00016440612961463364, 0.5432161195944846, 0.00021920817281951153, 0.036425091383508836, 0.999146299900465, 0.0005520052886560638, 0.0003010937938123984, 0.00020659580706518558, 0.9997308834422374, 4.131916141303712e-05, 1.3773053804345706e-05, 0.11074910317139858, 0.00027593943337443584, 0.8208548873634468, 0.00030840289612436947, 0.00021101250787456858, 0.0108590282898528, 0.056729901155509015, 0.012115117352795973, 0.03595302312856939, 0.05246222449533282, 0.8994689976591372, 0.7493908977219386, 0.013201704933961611, 2.465304376089937e-05, 0.23738415837370003, 0.0004962912178122208, 0.11387126275358178, 0.04693812051130693, 0.21816961935025228, 0.015605601626762056, 0.604901793656993, 0.09234869344320322, 0.9044489965687411, 0.0031675471230518787, 3.265512497991627e-05, 0.17187910844213733, 0.2943704206048796, 0.5337409280775205, 5.839871855196294e-06, 0.05078992337420675, 0.18824736632756972, 0.2712516466548681, 2.914271481191574e-06, 2.914271481191574e-06, 0.13252066706422444, 2.914271481191574e-06, 0.3511172565969232, 0.006064598952359665, 2.0159350827770028e-05, 0.11708550960768832, 0.19223956949361498, 0.0005039837706942508, 0.6900142601329126, 0.00012095610496662017, 0.07659798810284921, 0.2486382588888154, 5.2171358195647194e-05, 0.4203028958957729, 0.2543875425619757, 0.8790543469424592, 0.02904352420332909, 0.023816426057736276, 0.00373627085758923, 0.061363187385233955, 0.00011043165096322847, 0.0028528176498834024, 0.8467002136475679, 0.05918714861892227, 0.09409887393246014, 0.04690593532432637, 0.9530628515520236, 1.8680181331870317e-05, 0.5784737367731992, 0.26394119808611805, 3.686072174933567e-05, 0.00014744288699734267, 0.04747660961314434, 0.10960535612164961, 0.00031331613486935316, 0.8319228708518341, 0.16806501739316265, 0.0007846104042726399, 0.21930273752264642, 0.5182888558918447, 0.1338545349689124, 0.00010736773953204547, 0.12513297089615547, 0.002519012350559528, 0.2662351792301634, 0.7327641226650599, 6.567870022453212e-05, 0.0009260696731659028, 1.2289378474108113e-05, 7.988096008170272e-05, 0.3182457449655037, 0.0013026741182554599, 4.301282465937839e-05, 0.0032198171602163253, 0.6595094958130119, 0.017579955907211654, 0.9563599927039771, 0.0007486249007893779, 1.663610890643062e-05, 9.981665343858373e-05, 0.042738163780620265, 3.327221781286124e-05, 0.00030328092680487564, 0.00018196855608292538, 0.4404765529220641, 0.5590074042867468, 2.5995508011846485e-05, 0.05967622132778191, 0.00024669589752102436, 2.4185872305982777e-06, 0.9400734148995528, 0.4175949428852635, 0.5258514691921315, 0.05655036577894412, 0.0035860409721851375, 0.8680399853279227, 0.0012357303350097432, 0.0021322405780560276, 0.00852896231222411, 0.11642518156317287, 4.8460013137636995e-05, 0.3453766226063342, 0.65456125320831, 5.6461765997438975e-05, 0.05386315432098034, 2.4161103911923e-05, 0.08028734829932013, 0.5011979395489307, 0.3645185747191823, 0.00010469811695166633, 0.0009500828087595977, 0.019404721609211178, 0.0001727423288653814, 0.805439898722985, 0.1662644915329296, 0.007629452858221013, 0.00011516155257692094, 0.9999908239676434, 0.8671903392393542, 0.13280405861049216, 0.006236044484473696, 0.9305378892767594, 0.05792518325952305, 3.334783146777377e-05, 0.0010004349440332133, 0.0014006089216464985, 6.669566293554755e-05, 0.002234304708340843, 0.0005002174720166066, 0.07257323056756329, 0.00983599060064378, 7.951487955249621e-05, 0.5424187023553082, 0.00014312678319449318, 0.3186638312945838, 0.027710935524044928, 0.02856969622321189, 0.06743042411538198, 0.13872214436757005, 0.7913218367102904, 0.0025200037945471267, 0.005447027451997948, 8.893106044078282e-05, 0.1734378006246367, 0.0377957006873327, 2.2232765110195706e-05, 0.17959627656016092, 0.17259295555044926, 4.446553022039141e-05, 0.43093768613092337, 0.7443204425999475, 5.3883941868037375e-06, 5.388394186803738e-05, 0.04312331867699031, 0.12955316143332227, 0.08293816332328313, 0.9998953036760024, 6.347332594908922e-05, 0.999975827886472, 0.0002414602765649149, 0.3671575976795649, 3.449432522355927e-05, 3.449432522355927e-05, 0.6325224416244064, 3.449432522355927e-05, 0.9999578198951895, 0.9984626576016729, 0.0015180466547667752, 6.096367141527707e-05, 0.9999261385533745, 0.0038746104575899266, 0.9956881425903665, 0.0004048100478079028, 3.367936285363994e-05, 0.21430178583771092, 0.00020207617712183964, 3.367936285363994e-05, 0.785436421109737, 0.0031776197751911864, 0.9782878639753438, 3.491889862847458e-05, 0.0006983779725694915, 0.01777371940189356, 0.0010290031387623906, 2.286673641694201e-05, 0.028720620939679167, 0.8428145486101764, 0.1274134553152009, 0.0014691307923987245, 1.3603062892580782e-05, 0.05269146411441166, 6.801531446290391e-06, 0.6824316576635464, 0.2633825037261491, 0.21084697489383866, 0.0017197639995048476, 0.00015634218177316798, 0.7872610563187873, 0.9999572693128702, 0.00018871682526796336, 0.8072276420462011, 0.0002916532754141252, 0.19226813279800595, 0.999987122967612, 0.9999909075726678, 0.0016365185510163719, 0.27686417341197445, 0.031903632374088595, 0.05965661277552168, 0.008513288213577396, 0.591711688011917, 0.029715954725579665, 0.16864916887255554, 0.8313509445518887, 0.17261045072578432, 0.8273477804401563, 0.06437349643536859, 0.9356091655987904, 0.6693432586462923, 0.000271994009710486, 0.00010199775364143227, 0.000135997004855243, 0.1324270834777929, 0.008261818044956014, 0.003535922126236318, 0.18597590413954482, 8.404851967686539e-06, 8.404851967686539e-06, 0.9871162441969131, 0.011686946661068131, 0.0006765905833987663, 0.000500088692077349, 0.9999854076230799, 0.8465285978295708, 0.0002003390378914516, 0.02876067227969679, 0.12449869170726367, 0.8359010238975139, 0.1640852259793796, 0.6533501982875488, 0.05956839354565016, 0.17883198935125735, 0.03217771125536717, 0.00028531960719044785, 0.0003804261429205971, 0.0746903327267439, 0.0006657457501110449, 0.9250558167104783, 0.0700298467064009, 0.0006260650407979647, 2.9812620990379268e-05, 0.004173766938653098, 5.9625241980758536e-05, 0.0001388851526876942, 0.00025792956927714637, 0.006587124384616352, 0.811982124820555, 0.08813254974839108, 0.09221974138462893, 0.0006745850273402289, 0.9999858396293065, 0.8064229728839472, 0.14740776146736506, 0.046153100049257045, 0.07519074718616005, 0.0032691629211373937, 0.00014392541162240097, 0.24533114449692692, 0.6760382191635063, 3.868550452479919e-06, 0.9224558553938366, 7.737100904959837e-05, 1.934275226239959e-05, 0.07068228531726059, 0.0031180516646988144, 0.003644174526236083, 0.006822446706498798, 0.24528017330674337, 0.14009997088969484, 0.004248123200316325, 1.4682453457314486e-05, 0.12351858678523434, 0.06100559411514169, 0.41901275091599327, 0.9999721067591119, 0.0008616633707851121, 8.338677781791407e-05, 0.9989458026660046, 5.559118521194272e-05, 0.3717534010988121, 0.016920234056493694, 7.786012280779371e-05, 0.6112101598435814, 3.688111080369176e-05, 0.09253569174763095, 0.0022056592273822203, 1.27494753027874e-05, 0.1276094983055991, 0.03049674492426746, 0.7471320022186444, 0.8190123587558387, 0.1809501807022274, 0.9310904593181402, 0.020417712712946588, 0.04849652181905813, 0.9999565457118339, 0.6135782208532996, 0.13301791809978156, 0.0011281708339197234, 0.0006829733747944514, 0.17071298932639975, 0.08087416569973406, 1.1705297809106986e-05, 0.9993866216437454, 0.00037456952989142354, 7.023178685464191e-05, 0.00014046357370928382, 1.1705297809106986e-05, 0.933731437492106, 0.0008943535756467195, 0.06486693875131795, 0.00044717678782335975, 5.260903386157173e-05, 0.9999841490453149, 2.370348396837377e-05, 0.8814140513639787, 0.002915528528109974, 4.740696793674754e-05, 0.00011851741984186885, 0.11548337389391701, 1.6803478287133824e-05, 0.3369769535701817, 0.6345833575136088, 0.028414681783543293, 0.0009745693272941654, 0.750766442490541, 0.024468651324564224, 0.0001392241896134522, 0.22366366061401097, 0.9999685506154365, 1.775175908549713e-05, 0.5249940735463092, 3.550351817099426e-06, 0.3494966328752675, 0.12548540979947065, 5.779552756384243e-06, 0.2124101229026337, 0.4338710254217651, 0.018430993740109352, 5.779552756384243e-05, 0.23355750643824363, 0.10166811253755521, 0.0006436657860774359, 0.9507821386435652, 0.00020480275011554777, 0.04836270656300007, 0.0002556145203491754, 0.09832110731837973, 0.07065366308483315, 0.02536691355040401, 0.7188762521625327, 0.08548156734048663, 1.3572452407920818e-05, 0.0010134097797914212, 1.5834527809240956e-05, 0.7915282547083159, 0.04822487489969406, 0.00036053285660656443, 0.005307043649248629, 0.0033313235950446557, 0.1512219013750574, 1.4421314264262579e-05, 0.9397880780869745, 0.05334454233509025, 0.006827549697703859, 0.9999934788160921, 0.9999584981104687, 0.6011552809764028, 0.03278640163745377, 0.1315731122883175, 4.9327585211816104e-05, 0.23433891481293437, 9.865517042363221e-05, 0.11694552285796767, 0.8828885718410601, 8.717519407973735e-05, 4.3587597039868676e-05, 0.40634482069703554, 0.5936492300876257, 0.3597244191294854, 0.27997444285641, 5.858799314801305e-06, 0.00014061118355523133, 0.00610486888602296, 0.35351409185579596, 0.0004804215438137071, 2.343519725920522e-05, 2.9293996574006527e-05, 0.1540492215556876, 0.002263930040074318, 0.0009382052418326002, 0.8427326605930697, 0.1433375907331786, 0.24018914258311427, 0.38634462093022726, 5.203855242722815e-06, 2.081542097089126e-05, 2.081542097089126e-05, 0.14656398098366674, 0.08351667279045846, 2.6019276213614075e-06, 0.12339578523429773, 0.00033350212225485875, 0.03626835579521589, 0.2072090373334719, 2.0843882640928672e-05, 0.022157047247307177, 0.609871162190932, 0.0007712236577143609, 2.3918013192528105e-05, 0.019493180751910404, 0.0023439652928677543, 0.9698515169438221, 0.00019134410554022484, 0.0080842884590745, 0.00019219505733845824, 0.8651980831186262, 0.0003203250955640971, 0.13351149983111565, 9.609752866922912e-05, 0.0006726827006846038, 0.9057226026207394, 0.06438612153302285, 0.029789679625121843, 3.061632027247877e-05, 0.0004286282083206115, 0.00010715705208015287, 0.9278242062110983, 0.00024353875472762017, 0.000857256416641223, 0.019288269374427517, 0.05125029554488039, 4.772018958011732e-06, 0.6221519716507796, 0.37480868501911546, 0.00303023203833745, 0.23869218218690955, 0.6885294215995875, 0.0012020113005985996, 0.028079975331509553, 0.011549221981009225, 0.026369897398699174, 0.0004461072868200988, 0.005105450060274464, 0.39528896862214297, 0.005153759087677719, 0.2117762993533067, 0.007055861207106533, 0.0025283223594520328, 0.0718010062371007, 0.13184782508125223, 0.11327219047478809, 0.004504097448295343, 0.05676837170520643, 0.48161599534397387, 6.723710138196887e-05, 0.3615103611453629, 0.00028575768087336765, 0.15651452459694712, 6.723710138196886e-06, 0.26456764526881915, 0.7354223813325065, 0.9999942028425325, 1.4312830905325094e-05, 1.4312830905325094e-05, 0.9999659312005377, 0.22162431261768156, 0.7783626240091105, 0.0014346942999697188, 0.09190164430938105, 0.02566207917681686, 0.8810105789964995, 0.9999740664033242, 0.9999204394858769, 3.402247157148272e-05, 0.0032133086768516158, 0.009003054040548221, 0.9877595077734593, 0.003624224245708999, 0.9946912155528902, 0.0016537722286244945, 3.5186643162223286e-05, 0.0013771944516932446, 0.00210335152622241, 0.007862528324212342, 0.8010764527012779, 0.0006259974780423839, 0.18694788684257754, 0.0013471965878107351, 0.13557991684316953, 0.7607115961557316, 3.246256838098157e-05, 0.0011524211775248458, 0.005713412035052756, 0.09542371975589532, 4.8693852571472354e-05, 0.0002696812905789651, 0.2644417683620024, 0.7352667758142213, 1.1134781483834832e-05, 0.972862560414875, 0.00011691520558026573, 0.002199119343057379, 0.024802725755242085, 0.9999737855854565, 0.9999962986320798, 0.25912301502189183, 6.067886264094507e-05, 1.2135772528189014e-05, 0.0007281463516913408, 2.4271545056378028e-05, 1.2135772528189014e-05, 0.0032281154924982776, 0.736823429048996, 0.0003013939304610229, 0.7800074920331272, 0.21968268709159003, 0.259505588342785, 0.7404513433675854, 0.7084959815014116, 0.22733907361577596, 0.0002731935623040384, 0.0008826253551361241, 0.0003992828987520561, 6.304466822400886e-05, 0.06251929598880879, 0.00027491135343085465, 0.9996464089129453, 3.436391917885683e-05, 0.9999549924583951, 0.0031158594263774606, 0.04084765116218564, 4.255185286961367e-06, 0.03714032098092055, 0.20115111888523773, 0.6602334853286039, 2.9786297008729567e-05, 1.0637963217403416e-05, 0.057467341096735, 0.9465341311570921, 0.05345981730391402, 0.9999837009176963, 5.900057216219285e-05, 0.9997646952883579, 0.0001180011443243857, 2.9500286081096426e-05, 0.00011543139741902941, 0.0013202466079801488, 0.0004328677403213603, 0.013866196614960908, 3.607231169344669e-05, 0.23212532574732947, 0.15491614979867616, 0.5971915490096874, 0.0013609884390057576, 0.05217122349522071, 0.03286220001682652, 0.05775694688030684, 2.835392581261995e-05, 0.6719029799816549, 0.11486175346692341, 0.06901345542791695, 0.0033683139986757237, 2.501223266343359e-05, 0.0005169194750442943, 0.9960788161776916, 0.9996713865550638, 0.0003133493244752486, 0.22156886778437143, 3.17661459189063e-05, 3.17661459189063e-05, 0.0001270645836756252, 0.7780482119917719, 3.17661459189063e-05, 9.529843775671889e-05, 0.9999786495389652, 0.8070399069934834, 0.17613182161467902, 0.009819314841377793, 3.421364056229196e-05, 0.006962475854426414, 8.55341014057299e-06, 0.02928901928238744, 0.7821712235341766, 0.015793456225745656, 0.038431959299139354, 0.010650552466322705, 0.0886573385666954, 0.03500335679285738, 0.8523690208530316, 5.799020450066548e-05, 0.14755607535194332, 0.2159542500079018, 0.002170224071681827, 0.001000337658040842, 1.6954875560014272e-05, 0.0007968791513206708, 0.0016276680537613702, 0.0007121047735205994, 0.7777201419378547, 2.7772057567769302e-05, 0.0011386543602785414, 0.9987665063096874, 5.5544115135538604e-05, 2.698363154745909e-05, 0.9999324342541915, 0.09024082069080228, 0.7515511647637438, 1.73040883395594e-05, 1.73040883395594e-05, 0.011957125042635545, 0.14620224238093738, 0.0038431789086250103, 2.9114991732007655e-05, 0.9960820971354459, 2.9114991732007655e-05, 0.1563470445515799, 0.6085727495335171, 0.09826874044204922, 0.00013535639179345624, 0.0011349112850374406, 0.13535639179345624, 0.0001874165424832471, 0.2239946489999631, 0.35321925169957247, 3.113631484569962e-05, 0.42236855892689334, 1.7792179911828357e-05, 0.0003647396881924813, 9.182180927586964e-05, 0.00015303634879311606, 0.008325177374345514, 3.060726975862321e-05, 0.010926795303828486, 0.020262012580208565, 0.07431445097393716, 0.7044569207644719, 0.1814398951291184, 0.0010383059864812357, 0.1247619034210521, 0.0007551316265318077, 0.00016518504330383294, 0.0013450782097597824, 0.05262323522393535, 0.8193178147870114, 0.20847584433786373, 0.0001269927061533116, 0.004721819710609495, 0.024394144372904315, 0.16722630442097444, 0.00015008228909027736, 0.0027014812036249927, 0.4747102803925473, 0.11747979798328173, 2.308958293696575e-05, 0.0010503457929858526, 0.9238646181932773, 0.020884782627974514, 0.05415387495464268, 2.4426646348508203e-05, 0.3064095805349059, 0.0001798530114663897, 0.004975933317236781, 0.07302032265535421, 8.992650573319484e-05, 0.12334919036403227, 0.1959198804907205, 0.0021282606356856112, 0.2939397717399029, 0.9999733941179211, 0.1502601780322924, 0.8496298753779422, 7.663989494659411e-05, 1.5327978989318822e-05, 1.5327978989318822e-05, 0.01636354184111857, 0.9828627584941839, 0.000745337309533351, 0.9994787307612031, 0.00010211564228228424, 0.00039387462023166773, 0.7466161871112069, 0.18577584698900204, 0.017990898451104853, 0.04959389362860497, 0.9999715953605061, 9.843464748181099e-05, 0.16523597870469453, 0.10834522676236605, 0.7179152041999554, 0.00010738325179833926, 0.008290881899263443, 4.474302158264136e-06, 2.201821108147589e-05, 2.201821108147589e-05, 0.00044036422162951785, 0.9960157964816434, 0.0034788773508731908, 2.201821108147589e-05, 0.17679479411271543, 0.1695322055294951, 0.6001483158896739, 0.05348465660015656, 0.9999536626404724, 0.7335485303342802, 0.018782126682862776, 0.0006093927714726652, 0.00010904923278984535, 0.09460341677556701, 0.15234177820741396, 0.030869091581633208, 0.8034293757721047, 0.16569350096124982, 0.6001532801405904, 0.3998411916029847, 0.9999758654464478, 0.008286696366613543, 0.00019994709731775305, 0.36576989002660953, 0.00015551440902491904, 0.6255900348189564, 0.007675155216614729, 0.026191467176697764, 0.16047470365405297, 0.8056034794239235, 8.261708171269542e-05, 0.2928445078388202, 0.70705350871359, 0.02070919545659043, 0.000975573106863635, 0.2610768861922494, 0.02351034596144641, 0.0011784150399738957, 0.5239310540841315, 0.13767171774383555, 0.030097879217693926, 0.0008500042911287116, 0.23204198705216322, 0.16375901145297975, 0.6041992203158456, 0.9999898258881689, 0.21590355494415206, 0.3138113316659477, 0.47026922498276763, 0.00021391462678998536, 0.00010695731339499268, 0.009144850295271874, 0.990513853132128, 0.9999840459313144, 0.013432945865995229, 0.018034973616382483, 0.011007552862412758, 0.2894613265429389, 0.668040298576485, 0.0001443945371164649, 7.219726855823246e-05, 0.9997733355406915, 0.09614742667879916, 0.0001187405067325464, 0.14438845618677643, 0.005246171479274323, 0.4939928917819565, 0.11204785998943924, 0.14547870993041162, 0.0025691127820314584, 3.7139949384962116e-05, 0.09838372592076465, 1.8569974692481058e-05, 1.8569974692481058e-05, 0.9015537013452629, 0.00039488019700069843, 0.04501634245807962, 0.9545570628830217, 0.9999511333646678, 0.6802698998321998, 0.0418074448507146, 0.00015235949289619022, 0.045479308629512785, 0.232272046920242, 0.08743999362038894, 0.0027183417705820396, 0.7452031926076153, 0.07321903898725142, 0.09129097779538017, 0.00010067932483637185, 0.23640250626319093, 0.0006197396494030267, 1.8779989375849294e-05, 0.06349514407974646, 1.8779989375849294e-05, 5.6339968127547887e-05, 0.6993855843460036, 0.1147807520448754, 0.8851926854587084, 2.4762293738092244e-05, 0.8573201338002296, 0.001114303218214151, 0.14129364806955436, 0.00022286064364283019, 0.8729860281786487, 0.03225082970606149, 8.513946596109158e-06, 0.09475171166809883, 1.050813306401516e-05, 0.15898805325854937, 0.13858651291476393, 0.20038747049750308, 0.1700426092418933, 0.004263674990724151, 0.2045539452573851, 0.00132402476606591, 0.12183917584398976, 0.0005686924094027293, 0.9994235946119151, 0.013966553283987153, 0.11885622880935597, 0.11279354017643012, 5.735750835312999e-06, 0.06585789109106385, 0.07575779703281409, 0.1669218208092789, 0.3687628927039433, 0.0770827554757714, 0.3970280532014671, 8.52192691840278e-06, 0.003101981398298612, 0.20053798424385422, 0.3993289734694359, 0.3580442074009634, 0.00787988896300679, 0.021592578297207222, 0.05563594200215471, 0.010193379494850422, 0.48246793454993536, 0.06418884639260691, 0.9837650678946102, 0.013425308301844421, 0.002805707064126316, 0.003470185179164584, 0.3716823800640791, 0.6248355823060795, 0.0018025533465061735, 0.10893942086703799, 3.451697897565013e-05, 0.0032215847043940123, 0.00016491445510588394, 0.5042201936564109, 0.09500223180064771, 0.28661748775414014, 0.29299681008352924, 0.08820676203363785, 2.93495752863397e-05, 0.08106804226014508, 0.11400955402960528, 0.0027678907154655747, 0.40804262988670603, 0.009633433672831654, 0.0032419992393218316, 2.257659637410746e-06, 0.006429770527169594, 1.5272614078787635e-05, 0.22878375890023878, 0.020312576724787555, 0.004230514099824175, 0.7390570678866124, 0.0006261771772302931, 0.0005498141068363549, 0.0007108177509594291, 9.737229465197659e-06, 0.16568869657980337, 0.8335847400566412, 9.549598173329624e-05, 0.00031831993911098745, 0.0038198392693318496, 0.7916298565751148, 0.19487546672374653, 0.0002864879451998887, 0.0005729758903997774, 0.008435478386441169, 0.08785982482475543, 0.787450905306412, 2.408438180503164e-05, 0.11867579134429342, 0.005984968878550363, 0.28280124153982195, 0.007762071113692203, 4.675946454031448e-05, 0.0008182906294555033, 0.7085695459116554, 0.9986717064548946, 4.256386492952255e-06, 0.00010640966232380636, 0.0012173265369843447, 2.4650198054680975e-05, 0.01597332833943327, 4.930039610936195e-05, 7.395059416404293e-05, 0.8364798207875442, 0.14738353416893754, 0.27015075680206996, 2.4606359180069946e-06, 0.7298467590041366, 0.999987778475038, 0.14212970138957287, 0.8565646501878569, 1.625082339235912e-05, 0.00011375576374651384, 0.000666283759086724, 0.00043877223159369624, 4.875247017707736e-05, 0.9999875917460975, 0.9991257574949818, 0.000859331015507894, 0.9999874771077494, 0.1639230120572968, 0.0006963851638932077, 0.8353594205136349, 0.0006034640501911404, 0.04073382338790198, 0.40730561420063105, 0.5513459590455785, 8.154919597177573e-06, 1.5993062050981264e-05, 0.9999182255514505, 6.397224820392505e-05, 7.561435649577928e-07, 0.9897586562128926, 0.010240452300223388, 0.01423104876711808, 0.7179845905956955, 7.045073647088159e-06, 0.035056286467910674, 0.17626069757649865, 0.0008383637640034909, 1.4090147294176317e-05, 9.158595741214606e-05, 0.0555081352654076, 0.0001231597920095057, 8.89487386735319e-05, 0.9974985243276555, 0.0022510873095070764, 3.421105333597381e-05, 0.0030563680310860836, 0.9963759781340632, 4.7021046632093595e-05, 0.0005172315129530295, 5.700768231681714e-05, 0.9496225704970765, 5.700768231681714e-05, 0.04960808515209428, 0.0006498875784117154, 0.7685725757549786, 0.23142577554956728, 0.0001351663011661259, 0.47523883810439577, 0.20937260050632903, 0.0021685376143608893, 0.3130862910706677, 0.9999194549599367, 5.8450894660661524e-05, 0.05300298383192636, 0.16001489817845307, 0.5375570945309966, 0.021194255969441758, 0.13986127670832924, 0.03385530904447653, 0.053176422915146015, 0.0013528248491133036, 0.9999746669156044, 9.234309637794971e-06, 0.004380140871527415, 0.7581583679854553, 0.2374510380262599, 0.00041543410662180015, 0.7777835238068335, 0.07437568740113416, 1.2982315831931255e-05, 0.14672613353248704, 0.0006880627390923566, 0.13709495970406133, 0.0010594172122851755, 0.39468468760539976, 8.762097244463859e-05, 0.32210266024944095, 0.13659313049824204, 0.00015134531604073936, 0.007288471798804028, 0.0009478996109919992, 0.0005083559973414963, 0.05831569512360309, 0.6623606311789694, 0.0002814113556711855, 0.06944506035111513, 0.15842551545721062, 0.010602853658836925, 0.040060268147643276, 0.08932727413558937, 0.8925880026691401, 0.0001867469145691764, 0.015593367366526228, 3.11244857615294e-05, 0.0022098384890685873, 0.01626764833000882, 1.0302500525654732e-05, 0.8267756671837923, 0.0017102150872586855, 8.242000420523786e-05, 0.0007623850388984502, 0.15432115537378222, 8.242000420523786e-05, 0.08845281001986834, 0.019433862483008008, 0.21515605912184552, 2.1285720134729474e-05, 0.16800818902341974, 0.003288643760815704, 0.04866979908805894, 0.45288562444657166, 0.004065572545733329, 0.2261789085129113, 8.005928193721578e-05, 0.009549928631082167, 0.0667808781759147, 4.574816110698044e-05, 0.6973506567939796, 0.4344773018756593, 0.11909301751692129, 0.3634270087295812, 1.303914353937935e-05, 0.0009648966219140719, 0.07914760128403266, 3.911743061813805e-05, 0.0028360137198150085, 4.7130351727563895e-05, 0.5075467577541355, 0.23337379163765387, 0.1353819353374273, 2.3565175863781947e-05, 0.037712136440672374, 0.03332115867138767, 0.05073582363472253, 0.001853793834617513, 0.8631257088454335, 0.1368382266802702, 5.018639576038664e-06, 3.0111837456231983e-05, 0.0001861699896539218, 0.20528344192505776, 0.1144945436371619, 0.00015514165804493484, 3.102833160898696e-05, 0.6797997172212954, 0.9508966377923997, 0.04908775022371958, 0.6882563733214276, 0.31096196767294065, 0.0007785226001429529, 0.4767512205146962, 0.47670940075625207, 0.04653941689715021, 4.264147563283011e-05, 0.5030898918777017, 0.0006223350497764395, 0.4076605743560567, 9.796014672406918e-05, 0.08848451935506568, 0.9991143343001028, 0.0008642857563149678, 0.022813960738483227, 0.055442090409042216, 0.39419632590720777, 2.4504791341013135e-05, 0.5274901384066487, 1.2252395670506568e-05, 0.32069402943560976, 0.11957062342422484, 0.5597224264926566, 0.9637704809440889, 0.0285231560559753, 2.83812498069406e-05, 0.007662937447873962, 0.7400894058603259, 0.25989629039165424, 0.7995647987217164, 0.0016009188596983897, 3.139056587643901e-05, 1.5695282938219506e-05, 0.1987964536954883, 0.0005943536165832645, 0.9993668440923733, 0.9999840256370643, 0.6066016148838849, 0.3933857757205355, 0.9999936272941651], \"Term\": [\"account\", \"account\", \"account\", \"account\", \"account\", \"activity\", \"actually\", \"actually\", \"actually\", \"ada\", \"address\", \"address\", \"address\", \"address\", \"address\", \"address\", \"address\", \"address\", \"adoption\", \"adoption\", \"adoption\", \"ago\", \"ago\", \"ago\", \"ago\", \"ai\", \"ai\", \"ai\", \"airdrop\", \"airdrop\", \"airdrop\", \"airdrop\", \"airdrops\", \"airdrops\", \"alert\", \"alert\", \"altcoin\", \"altcoin\", \"altcoin\", \"altcoin\", \"altcoin\", \"altcoin\", \"altcoin\", \"altcoin\", \"altcoins\", \"altcoins\", \"altcoins\", \"altcoins\", \"altcoins\", \"altcoins\", \"altcoins\", \"alts\", \"alts\", \"alts\", \"alts\", \"alts\", \"alts\", \"amazing\", \"amazing\", \"amazing\", \"amazing\", \"amazing\", \"amazon\", \"amazon\", \"amp\", \"amp\", \"amp\", \"amp\", \"amp\", \"amp\", \"amp\", \"amp\", \"amp\", \"ask\", \"ask\", \"ask\", \"ask\", \"ask\", \"ask\", \"asset\", \"asset\", \"asset\", \"automatically\", \"automatically\", \"automatically\", \"average\", \"b\", \"b\", \"bad\", \"bad\", \"bad\", \"bad\", \"bad\", \"bad\", \"bakkt\", \"bakkt\", \"bakkt\", \"bat\", \"bch\", \"bch\", \"bch\", \"best\", \"best\", \"best\", \"best\", \"best\", \"bet\", \"better\", \"better\", \"better\", \"better\", \"better\", \"better\", \"big\", \"big\", \"big\", \"big\", \"big\", \"big\", \"big\", \"big\", \"bigdata\", \"bigdata\", \"bigdata\", \"bigdata\", \"bigdata\", \"binance\", \"binance\", \"binance\", \"binance\", \"binance\", \"binance\", \"binance\", \"binance\", \"binance\", \"binary\", \"bitcoin\", \"bitcoin\", \"bitcoin\", \"bitcoin\", \"bitcoin\", \"bitcoin\", \"bitcoin\", \"bitcoin\", \"bitcoin\", \"bitcoin\", \"bitcoincash\", \"bitcoincash\", \"bitcoinnews\", \"bitfinex\", \"bitfinex\", \"bitfinex\", \"bitfinex\", \"bitfinex\", \"bitstamp\", \"block\", \"block\", \"block\", \"blockchain\", \"blockchain\", \"blockchain\", \"blockchain\", \"blockchain\", \"blockchain\", \"blockchain\", \"blockchain\", \"blockchain\", \"bnb\", \"bnb\", \"bonus\", \"bonus\", \"bonus\", \"bonus\", \"bot\", \"bot\", \"bot\", \"bot\", \"bot\", \"bot\", \"bought\", \"bought\", \"bought\", \"bought\", \"bounty\", \"bounty\", \"bounty\", \"break\", \"break\", \"break\", \"break\", \"break\", \"break\", \"btc\", \"btc\", \"btc\", \"btc\", \"btc\", \"btc\", \"btc\", \"btc\", \"btc\", \"btc\", \"btch\", \"btcusd\", \"btcusd\", \"btcusd\", \"btcusd\", \"btcusd\", \"btcusd\", \"btcusd\", \"btg\", \"btg\", \"btt\", \"btt\", \"btt\", \"bull\", \"bull\", \"bull\", \"bull\", \"bull\", \"bull\", \"bull\", \"business\", \"business\", \"business\", \"buy\", \"buy\", \"buy\", \"buy\", \"buy\", \"buy\", \"buy\", \"buy\", \"buying\", \"buying\", \"buying\", \"buying\", \"bytes\", \"c\", \"c\", \"c\", \"c\", \"c\", \"c\", \"cann\", \"cannabis\", \"cap\", \"cap\", \"cap\", \"cap\", \"cap\", \"cardano\", \"cardano\", \"cardano\", \"careers\", \"case\", \"case\", \"case\", \"case\", \"case\", \"case\", \"cash\", \"cash\", \"cash\", \"cash\", \"cash\", \"cash\", \"cash\", \"cash\", \"cash\", \"ceo\", \"ceo\", \"chance\", \"chance\", \"chance\", \"change\", \"change\", \"change\", \"change\", \"change\", \"change\", \"change\", \"change\", \"chart\", \"chart\", \"chart\", \"chart\", \"chart\", \"chart\", \"chart\", \"chart\", \"check\", \"check\", \"check\", \"check\", \"check\", \"check\", \"check\", \"check\", \"check\", \"china\", \"china\", \"china\", \"china\", \"china\", \"claim\", \"claim\", \"claim\", \"claim\", \"claim\", \"claim\", \"claim\", \"cny\", \"cny\", \"cny\", \"cny\", \"code\", \"code\", \"code\", \"code\", \"coin\", \"coin\", \"coin\", \"coin\", \"coin\", \"coin\", \"coin\", \"coin\", \"coin\", \"coin\", \"coinbase\", \"coinbase\", \"coinbase\", \"coinbase\", \"coinbase\", \"coinbase\", \"coinbase\", \"coinbase\", \"com\", \"com\", \"come\", \"come\", \"come\", \"come\", \"come\", \"come\", \"come\", \"come\", \"coming\", \"coming\", \"coming\", \"coming\", \"coming\", \"coming\", \"coming\", \"coming\", \"coming\", \"crypto\", \"crypto\", \"crypto\", \"crypto\", \"crypto\", \"crypto\", \"crypto\", \"crypto\", \"crypto\", \"crypto\", \"cryptocurrencies\", \"cryptocurrencies\", \"cryptocurrencies\", \"cryptocurrencies\", \"cryptocurrencies\", \"cryptocurrencies\", \"cryptocurrencies\", \"cryptocurrencies\", \"cryptocurrency\", \"cryptocurrency\", \"cryptocurrency\", \"cryptocurrency\", \"cryptocurrency\", \"cryptocurrency\", \"cryptocurrency\", \"cryptocurrency\", \"cryptocurrency\", \"cryptonews\", \"cryptonews\", \"cryptonews\", \"cryptos\", \"cryptos\", \"cryptos\", \"cryptos\", \"cryptos\", \"cryptotrading\", \"cryptotrading\", \"cryptotrading\", \"cryptotrading\", \"cryptotrading\", \"cryptotrading\", \"currency\", \"currency\", \"currency\", \"currency\", \"currency\", \"current\", \"current\", \"current\", \"daily\", \"daily\", \"daily\", \"daily\", \"daily\", \"daily\", \"daily\", \"daily\", \"daily\", \"dapp\", \"dapp\", \"dapp\", \"dash\", \"dash\", \"dash\", \"dash\", \"dash\", \"dash\", \"days\", \"days\", \"days\", \"days\", \"days\", \"days\", \"days\", \"decentralized\", \"decentralized\", \"decentralized\", \"decentralized\", \"decentralized\", \"decentralized\", \"decentralized\", \"deposit\", \"deposit\", \"deposit\", \"deposit\", \"deposit\", \"deposit\", \"deposit\", \"deposit\", \"developer\", \"dgb\", \"digital\", \"digital\", \"digital\", \"digital\", \"dm\", \"doge\", \"doge\", \"doge\", \"doge\", \"dominance\", \"dominance\", \"dominance\", \"drop\", \"drop\", \"drop\", \"drop\", \"drop\", \"drop\", \"earn\", \"earn\", \"earn\", \"earn\", \"earn\", \"earn\", \"earn\", \"emc\", \"emc\", \"emc\", \"enj\", \"enj\", \"entrepreneur\", \"eos\", \"eos\", \"eos\", \"eth\", \"eth\", \"eth\", \"eth\", \"eth\", \"eth\", \"eth\", \"eth\", \"eth\", \"ether\", \"ether\", \"ethereum\", \"ethereum\", \"ethereum\", \"ethereum\", \"ethereum\", \"ethereum\", \"ethereum\", \"ethereum\", \"eur\", \"eur\", \"eur\", \"eur\", \"euro\", \"euro\", \"euro\", \"euro\", \"euro\", \"euro\", \"euro\", \"euro\", \"exchange\", \"exchange\", \"exchange\", \"exchange\", \"exchange\", \"exchange\", \"exchange\", \"exchange\", \"exchange\", \"exchange\", \"exchanges\", \"exchanges\", \"exchanges\", \"exchanges\", \"exchanges\", \"exchanges\", \"facebook\", \"facebook\", \"facebook\", \"fees\", \"fees\", \"fees\", \"fees\", \"fiat\", \"fiat\", \"fiat\", \"fiat\", \"fiat\", \"fiat\", \"fiat\", \"financial\", \"financial\", \"financial\", \"financial\", \"fintech\", \"fintech\", \"fintech\", \"fintech\", \"follow\", \"follow\", \"follow\", \"follow\", \"follow\", \"follow\", \"forecast\", \"forecast\", \"forecast\", \"forecast\", \"forex\", \"forex\", \"forex\", \"forex\", \"free\", \"free\", \"free\", \"free\", \"free\", \"free\", \"free\", \"free\", \"free\", \"friends\", \"friends\", \"friends\", \"friends\", \"friends\", \"friends\", \"future\", \"future\", \"future\", \"future\", \"future\", \"futures\", \"futures\", \"futures\", \"futures\", \"futures\", \"futures\", \"futures\", \"gbp\", \"gbp\", \"gbp\", \"giveaway\", \"giveaway\", \"giveaway\", \"global\", \"global\", \"global\", \"global\", \"global\", \"global\", \"global\", \"gmt\", \"gmt\", \"going\", \"going\", \"going\", \"going\", \"going\", \"going\", \"going\", \"gold\", \"gold\", \"gold\", \"gold\", \"good\", \"good\", \"good\", \"good\", \"good\", \"good\", \"good\", \"good\", \"got\", \"got\", \"got\", \"got\", \"got\", \"got\", \"great\", \"great\", \"great\", \"great\", \"great\", \"gt\", \"gt\", \"gt\", \"gt\", \"h\", \"h\", \"h\", \"hard\", \"hard\", \"hard\", \"hard\", \"hard\", \"hard\", \"hard\", \"help\", \"help\", \"help\", \"high\", \"high\", \"high\", \"high\", \"high\", \"high\", \"higher\", \"higher\", \"higher\", \"higher\", \"higher\", \"higher\", \"higher\", \"hiring\", \"hitbtc\", \"hitbtc\", \"hot\", \"hot\", \"hot\", \"hot\", \"hot\", \"hot\", \"hot\", \"hot\", \"hot\", \"hour\", \"hour\", \"hour\", \"hour\", \"hour\", \"hour\", \"hour\", \"hour\", \"hr\", \"hr\", \"hr\", \"hr\", \"huge\", \"huge\", \"huge\", \"huge\", \"huge\", \"huge\", \"huge\", \"huge\", \"huge\", \"ico\", \"ico\", \"ico\", \"ico\", \"ico\", \"ico\", \"icx\", \"icx\", \"id\", \"idea\", \"idea\", \"idea\", \"idea\", \"idea\", \"idea\", \"idol\", \"ieo\", \"ieo\", \"info\", \"info\", \"interested\", \"interested\", \"interested\", \"interesting\", \"interesting\", \"interesting\", \"interesting\", \"interesting\", \"internet\", \"internet\", \"internet\", \"internet\", \"internet\", \"invest\", \"invest\", \"invest\", \"invest\", \"invest\", \"investment\", \"investment\", \"investment\", \"investment\", \"investment\", \"investment\", \"investors\", \"investors\", \"investors\", \"investors\", \"iost\", \"iota\", \"iota\", \"iota\", \"iota\", \"issued\", \"jobs\", \"join\", \"join\", \"join\", \"join\", \"join\", \"join\", \"join\", \"jpy\", \"jpy\", \"jul\", \"jul\", \"jun\", \"jun\", \"june\", \"june\", \"june\", \"june\", \"june\", \"june\", \"june\", \"june\", \"k\", \"k\", \"k\", \"k\", \"k\", \"k\", \"kingdom\", \"know\", \"know\", \"know\", \"know\", \"kraken\", \"kraken\", \"latest\", \"latest\", \"latest\", \"latest\", \"latest\", \"latest\", \"latest\", \"latest\", \"launch\", \"launch\", \"launch\", \"launch\", \"launch\", \"launch\", \"level\", \"level\", \"level\", \"level\", \"level\", \"level\", \"level\", \"leverage\", \"libra\", \"libra\", \"libra\", \"life\", \"life\", \"life\", \"life\", \"life\", \"like\", \"like\", \"like\", \"like\", \"like\", \"like\", \"like\", \"link\", \"link\", \"link\", \"link\", \"link\", \"link\", \"link\", \"link\", \"liquidation\", \"list\", \"list\", \"list\", \"list\", \"litecoin\", \"litecoin\", \"litecoin\", \"litecoin\", \"litecoin\", \"live\", \"live\", \"live\", \"live\", \"live\", \"live\", \"livecoin\", \"livecoin\", \"lol\", \"lol\", \"lol\", \"london\", \"long\", \"long\", \"long\", \"long\", \"long\", \"long\", \"look\", \"look\", \"look\", \"look\", \"look\", \"look\", \"looks\", \"looks\", \"looks\", \"looks\", \"looks\", \"loss\", \"lot\", \"lot\", \"lot\", \"lot\", \"lot\", \"lot\", \"love\", \"love\", \"love\", \"love\", \"lower\", \"lower\", \"lower\", \"lower\", \"lower\", \"lsk\", \"ltc\", \"ltc\", \"ltc\", \"ltc\", \"ltc\", \"make\", \"make\", \"make\", \"make\", \"make\", \"make\", \"make\", \"makes\", \"makes\", \"makes\", \"makes\", \"market\", \"market\", \"market\", \"market\", \"market\", \"market\", \"market\", \"market\", \"market\", \"markets\", \"markets\", \"markets\", \"markets\", \"markets\", \"markets\", \"markets\", \"maybe\", \"maybe\", \"maybe\", \"mb\", \"mempool\", \"million\", \"million\", \"million\", \"million\", \"million\", \"million\", \"min\", \"min\", \"min\", \"min\", \"miner\", \"miner\", \"mining\", \"mining\", \"mining\", \"mining\", \"mining\", \"mining\", \"mining\", \"mining\", \"mining\", \"monero\", \"monero\", \"monero\", \"monero\", \"money\", \"money\", \"money\", \"money\", \"money\", \"money\", \"money\", \"money\", \"money\", \"month\", \"month\", \"month\", \"month\", \"month\", \"month\", \"month\", \"month\", \"months\", \"months\", \"months\", \"months\", \"months\", \"months\", \"moves\", \"moves\", \"moves\", \"moves\", \"moves\", \"moves\", \"nano\", \"nano\", \"nano\", \"nano\", \"need\", \"need\", \"need\", \"need\", \"need\", \"need\", \"need\", \"neo\", \"neo\", \"neo\", \"neo\", \"network\", \"network\", \"network\", \"network\", \"network\", \"network\", \"network\", \"network\", \"new\", \"new\", \"new\", \"new\", \"new\", \"new\", \"new\", \"new\", \"new\", \"new\", \"news\", \"news\", \"news\", \"news\", \"news\", \"news\", \"newyork\", \"newyork\", \"noticias\", \"number\", \"number\", \"number\", \"nytimes\", \"nytimes\", \"okex\", \"okex\", \"okex\", \"okex\", \"omg\", \"ont\", \"ont\", \"order\", \"order\", \"order\", \"pair\", \"pair\", \"pair\", \"pair\", \"past\", \"past\", \"past\", \"past\", \"past\", \"past\", \"pay\", \"pay\", \"pay\", \"pay\", \"pay\", \"pay\", \"pay\", \"pay\", \"payments\", \"payments\", \"payments\", \"people\", \"people\", \"people\", \"people\", \"people\", \"perpetual\", \"pic\", \"pm\", \"pm\", \"pm\", \"pm\", \"pm\", \"pm\", \"pm\", \"pm\", \"poloniex\", \"poloniex\", \"poloniex\", \"pool\", \"pool\", \"post\", \"post\", \"post\", \"post\", \"post\", \"post\", \"post\", \"powered\", \"powered\", \"powered\", \"powr\", \"price\", \"price\", \"price\", \"price\", \"price\", \"price\", \"price\", \"price\", \"price\", \"prices\", \"prices\", \"primexbt\", \"private\", \"private\", \"private\", \"private\", \"profit\", \"profit\", \"profit\", \"profit\", \"profit\", \"profit\", \"profit\", \"profit\", \"profits\", \"profits\", \"profits\", \"profits\", \"profits\", \"profits\", \"profits\", \"profits\", \"project\", \"project\", \"project\", \"project\", \"r\", \"r\", \"rally\", \"rally\", \"rally\", \"rally\", \"rally\", \"rally\", \"rally\", \"ratio\", \"read\", \"read\", \"read\", \"read\", \"read\", \"read\", \"real\", \"real\", \"real\", \"real\", \"real\", \"real\", \"real\", \"really\", \"really\", \"really\", \"report\", \"report\", \"report\", \"report\", \"report\", \"report\", \"report\", \"report\", \"resistance\", \"resistance\", \"resistance\", \"resistance\", \"return\", \"return\", \"reward\", \"reward\", \"reward\", \"reward\", \"reward\", \"reward\", \"rewards\", \"rewards\", \"rewards\", \"rewards\", \"right\", \"right\", \"right\", \"right\", \"right\", \"right\", \"right\", \"ripple\", \"ripple\", \"ripple\", \"ripple\", \"ripple\", \"ripple\", \"rise\", \"rise\", \"rise\", \"rise\", \"rise\", \"rise\", \"rise\", \"rise\", \"rise\", \"risk\", \"risk\", \"risk\", \"risk\", \"risk\", \"risk\", \"risk\", \"rt\", \"rt\", \"rt\", \"rt\", \"rt\", \"rt\", \"rt\", \"rt\", \"rt\", \"rt\", \"said\", \"said\", \"said\", \"said\", \"said\", \"sale\", \"sale\", \"sale\", \"sale\", \"sale\", \"sale\", \"sale\", \"sale\", \"sale\", \"sat\", \"satoshi\", \"satoshi\", \"satoshi\", \"satoshi\", \"satoshi\", \"sats\", \"sats\", \"sats\", \"say\", \"say\", \"say\", \"says\", \"says\", \"says\", \"says\", \"sc\", \"sell\", \"sell\", \"sell\", \"sell\", \"sell\", \"sell\", \"sell\", \"selling\", \"selling\", \"selling\", \"selling\", \"selling\", \"selling\", \"service\", \"service\", \"service\", \"service\", \"setup\", \"short\", \"short\", \"short\", \"short\", \"short\", \"short\", \"signal\", \"signal\", \"signal\", \"size\", \"size\", \"sleep\", \"smart\", \"smart\", \"smart\", \"smart\", \"smart\", \"software\", \"software\", \"software\", \"software\", \"sold\", \"sold\", \"sold\", \"start\", \"start\", \"start\", \"start\", \"start\", \"start\", \"start\", \"start\", \"start\", \"startup\", \"startup\", \"startup\", \"states\", \"stellar\", \"stellar\", \"stellar\", \"stop\", \"stop\", \"stop\", \"stop\", \"stripped\", \"strong\", \"strong\", \"strong\", \"strong\", \"strong\", \"supply\", \"supply\", \"supply\", \"support\", \"support\", \"support\", \"support\", \"support\", \"support\", \"support\", \"support\", \"target\", \"target\", \"target\", \"target\", \"target\", \"team\", \"team\", \"team\", \"technicalanalysis\", \"technology\", \"technology\", \"technology\", \"technology\", \"technology\", \"tether\", \"tether\", \"tether\", \"tether\", \"tether\", \"tether\", \"th\", \"th\", \"th\", \"th\", \"th\", \"th\", \"th\", \"thank\", \"thank\", \"thing\", \"thing\", \"thing\", \"thing\", \"thing\", \"think\", \"think\", \"think\", \"think\", \"time\", \"time\", \"time\", \"time\", \"time\", \"time\", \"time\", \"time\", \"time\", \"times\", \"times\", \"today\", \"today\", \"today\", \"today\", \"today\", \"today\", \"today\", \"today\", \"today\", \"token\", \"token\", \"token\", \"token\", \"token\", \"tokens\", \"tokens\", \"tokens\", \"tokens\", \"tokens\", \"tokens\", \"tokens\", \"tokensale\", \"tokensale\", \"tokensale\", \"total\", \"total\", \"total\", \"trade\", \"trade\", \"trade\", \"trade\", \"trade\", \"trade\", \"trade\", \"trade\", \"trading\", \"trading\", \"trading\", \"trading\", \"trading\", \"trading\", \"trading\", \"trading\", \"trading\", \"trading\", \"transaction\", \"transaction\", \"transaction\", \"transaction\", \"transaction\", \"transaction\", \"transaction\", \"transaction\", \"transactions\", \"transactions\", \"transactions\", \"transactions\", \"trend\", \"trend\", \"trend\", \"trend\", \"trend\", \"trend\", \"trend\", \"trend\", \"tron\", \"tron\", \"tron\", \"tron\", \"tron\", \"trump\", \"trump\", \"trump\", \"trump\", \"trump\", \"trx\", \"trx\", \"trx\", \"trx\", \"tweet\", \"tweet\", \"tweet\", \"tweet\", \"tweet\", \"tweet\", \"twitter\", \"twitter\", \"twitter\", \"txs\", \"u\", \"u\", \"u\", \"u\", \"u\", \"u\", \"u\", \"uk\", \"understand\", \"understand\", \"united\", \"unknown\", \"unknown\", \"unknown\", \"update\", \"update\", \"update\", \"update\", \"update\", \"usa\", \"usa\", \"usa\", \"usd\", \"usd\", \"usd\", \"usdt\", \"usdt\", \"usdt\", \"usdt\", \"usdt\", \"usdt\", \"usdt\", \"usdt\", \"usdt\", \"use\", \"use\", \"use\", \"use\", \"use\", \"used\", \"used\", \"used\", \"used\", \"using\", \"using\", \"using\", \"using\", \"using\", \"utc\", \"utc\", \"value\", \"value\", \"value\", \"value\", \"value\", \"vet\", \"vet\", \"view\", \"view\", \"view\", \"view\", \"view\", \"view\", \"view\", \"view\", \"vol\", \"volume\", \"volume\", \"volume\", \"volume\", \"vs\", \"vs\", \"vs\", \"vs\", \"vs\", \"vs\", \"wallet\", \"wallet\", \"wallet\", \"wallet\", \"wallet\", \"wallet\", \"wallet\", \"wallet\", \"wallet\", \"want\", \"want\", \"want\", \"want\", \"want\", \"want\", \"want\", \"want\", \"waves\", \"waves\", \"waves\", \"waves\", \"waves\", \"waves\", \"way\", \"way\", \"way\", \"way\", \"way\", \"way\", \"way\", \"way\", \"week\", \"week\", \"week\", \"week\", \"week\", \"week\", \"week\", \"week\", \"week\", \"win\", \"win\", \"win\", \"win\", \"win\", \"win\", \"world\", \"world\", \"world\", \"world\", \"world\", \"world\", \"world\", \"world\", \"worth\", \"worth\", \"worth\", \"worth\", \"worth\", \"worth\", \"worth\", \"worth\", \"worth\", \"x\", \"x\", \"x\", \"x\", \"xbt\", \"xbt\", \"xbt\", \"xbt\", \"xbt\", \"xbt\", \"xem\", \"xem\", \"xlm\", \"xlm\", \"xlm\", \"xmr\", \"xmr\", \"xmr\", \"xrp\", \"xrp\", \"xrp\", \"xrp\", \"xrp\", \"xrp\", \"xvg\", \"xvg\", \"year\", \"year\", \"year\", \"year\", \"year\", \"year\", \"years\", \"years\", \"years\", \"yes\", \"yes\", \"yes\", \"yes\", \"yobit\", \"yobit\", \"zec\", \"zec\", \"zec\", \"zec\", \"zec\", \"\\u30d3\\u30c3\\u30c8\\u30b3\\u30a4\\u30f3\", \"\\u30d3\\u30c3\\u30c8\\u30b3\\u30a4\\u30f3\", \"\\u30d7\\u30ec\\u30bc\\u30f3\\u30c8\", \"\\u4eee\\u60f3\\u901a\\u8ca8\", \"\\u4eee\\u60f3\\u901a\\u8ca8\", \"\\u5186\"]}, \"R\": 30, \"lambda.step\": 0.01, \"plot.opts\": {\"xlab\": \"PC1\", \"ylab\": \"PC2\"}, \"topic.order\": [6, 2, 10, 3, 7, 1, 5, 9, 4, 8]};\n",
       "\n",
       "function LDAvis_load_lib(url, callback){\n",
       "  var s = document.createElement('script');\n",
       "  s.src = url;\n",
       "  s.async = true;\n",
       "  s.onreadystatechange = s.onload = callback;\n",
       "  s.onerror = function(){console.warn(\"failed to load library \" + url);};\n",
       "  document.getElementsByTagName(\"head\")[0].appendChild(s);\n",
       "}\n",
       "\n",
       "if(typeof(LDAvis) !== \"undefined\"){\n",
       "   // already loaded: just create the visualization\n",
       "   !function(LDAvis){\n",
       "       new LDAvis(\"#\" + \"ldavis_el21001398029150455688169850911\", ldavis_el21001398029150455688169850911_data);\n",
       "   }(LDAvis);\n",
       "}else if(typeof define === \"function\" && define.amd){\n",
       "   // require.js is available: use it to load d3/LDAvis\n",
       "   require.config({paths: {d3: \"https://cdnjs.cloudflare.com/ajax/libs/d3/3.5.5/d3.min\"}});\n",
       "   require([\"d3\"], function(d3){\n",
       "      window.d3 = d3;\n",
       "      LDAvis_load_lib(\"https://cdn.rawgit.com/bmabey/pyLDAvis/files/ldavis.v1.0.0.js\", function(){\n",
       "        new LDAvis(\"#\" + \"ldavis_el21001398029150455688169850911\", ldavis_el21001398029150455688169850911_data);\n",
       "      });\n",
       "    });\n",
       "}else{\n",
       "    // require.js not available: dynamically load d3 & LDAvis\n",
       "    LDAvis_load_lib(\"https://cdnjs.cloudflare.com/ajax/libs/d3/3.5.5/d3.min.js\", function(){\n",
       "         LDAvis_load_lib(\"https://cdn.rawgit.com/bmabey/pyLDAvis/files/ldavis.v1.0.0.js\", function(){\n",
       "                 new LDAvis(\"#\" + \"ldavis_el21001398029150455688169850911\", ldavis_el21001398029150455688169850911_data);\n",
       "            })\n",
       "         });\n",
       "}\n",
       "</script>"
      ],
      "text/plain": [
       "PreparedData(topic_coordinates=              x         y  topics  cluster       Freq\n",
       "topic                                                \n",
       "5     -0.170793  0.124102       1        1  14.608334\n",
       "1      0.189936  0.095202       2        1  13.971966\n",
       "9     -0.203670 -0.102003       3        1  13.528849\n",
       "2      0.146944  0.239111       4        1  10.186243\n",
       "6      0.062806 -0.249478       5        1   9.199130\n",
       "0      0.144888 -0.199844       6        1   9.176014\n",
       "4     -0.177654  0.089790       7        1   8.621166\n",
       "8     -0.236192 -0.023471       8        1   7.961532\n",
       "3     -0.005332  0.017252       9        1   7.179442\n",
       "7      0.249066  0.009340      10        1   5.567324, topic_info=        Term          Freq         Total Category  logprob  loglift\n",
       "455      usd  1.322500e+06  1.322500e+06  Default  30.0000  30.0000\n",
       "64       btc  5.054583e+06  5.054583e+06  Default  29.0000  29.0000\n",
       "330    price  9.400290e+05  9.400290e+05  Default  28.0000  28.0000\n",
       "184       gt  4.134640e+05  4.134640e+05  Default  27.0000  27.0000\n",
       "489      xrp  8.676990e+05  8.676990e+05  Default  26.0000  26.0000\n",
       "..       ...           ...           ...      ...      ...      ...\n",
       "489      xrp  7.677850e+04  8.676998e+05  Topic10  -3.7364   0.4633\n",
       "423     time  4.637860e+04  3.806575e+05  Topic10  -4.2405   0.7832\n",
       "330    price  5.402077e+04  9.400296e+05  Topic10  -4.0880   0.0317\n",
       "461      utc  3.861583e+04  1.668613e+05  Topic10  -4.4237   1.4248\n",
       "8    airdrop  3.758322e+04  2.649172e+05  Topic10  -4.4508   0.9354\n",
       "\n",
       "[480 rows x 6 columns], token_table=      Topic      Freq     Term\n",
       "term                          \n",
       "0         1  0.000448  account\n",
       "0         2  0.457494  account\n",
       "0         3  0.106609  account\n",
       "0         5  0.000009  account\n",
       "0         7  0.435435  account\n",
       "...     ...       ...      ...\n",
       "496      10  0.999367   ビットコイン\n",
       "497       6  0.999984    プレゼント\n",
       "498       6  0.606602     仮想通貨\n",
       "498      10  0.393386     仮想通貨\n",
       "499      10  0.999994        円\n",
       "\n",
       "[1654 rows x 3 columns], R=30, lambda_step=0.01, plot_opts={'xlab': 'PC1', 'ylab': 'PC2'}, topic_order=[6, 2, 10, 3, 7, 1, 5, 9, 4, 8])"
      ]
     },
     "execution_count": 17,
     "metadata": {
      "tags": []
     },
     "output_type": "execute_result"
    }
   ],
   "source": [
    "pyLDAvis.sklearn.prepare(lda, X, bow_vectorizer)"
   ]
  },
  {
   "cell_type": "code",
   "execution_count": 18,
   "metadata": {
    "colab": {
     "base_uri": "https://localhost:8080/"
    },
    "id": "6mH6qEIh51uR",
    "outputId": "603bca6d-d581-4f6d-8752-8a848ca5bfb4"
   },
   "outputs": [
    {
     "name": "stdout",
     "output_type": "stream",
     "text": [
      "bytes\n",
      "volume\n",
      "rewards\n",
      "emc\n",
      "close\n",
      "yobit\n",
      "available\n",
      "latest\n",
      "users\n",
      "investing\n"
     ]
    }
   ],
   "source": [
    "import random\n",
    "\n",
    "#fetches 10 words from our vocabulary\n",
    "for i in range(10):\n",
    "    random_id = random.randint(0,len(bow_vectorizer.get_feature_names()))\n",
    "    print(bow_vectorizer.get_feature_names()[random_id])"
   ]
  },
  {
   "cell_type": "code",
   "execution_count": 19,
   "metadata": {
    "colab": {
     "base_uri": "https://localhost:8080/"
    },
    "id": "uA3H7e0Y6JGS",
    "outputId": "9d3462f3-174a-42f6-8561-edf6bdb83f64"
   },
   "outputs": [
    {
     "name": "stdout",
     "output_type": "stream",
     "text": [
      "update\n",
      "change\n",
      "alert\n",
      "プレゼント\n",
      "average\n",
      "current\n",
      "volume\n",
      "bitcoin\n",
      "price\n",
      "btc\n"
     ]
    }
   ],
   "source": [
    "#find 10 words with the highest probability for the first topic\n",
    "first_topic = lda.components_[0]\n",
    "#sort the indexes according to probability values,\n",
    "top_topic_words = first_topic.argsort()[-10:]\n",
    "for i in top_topic_words:\n",
    "    print(bow_vectorizer.get_feature_names()[i])"
   ]
  },
  {
   "cell_type": "code",
   "execution_count": 20,
   "metadata": {
    "colab": {
     "base_uri": "https://localhost:8080/"
    },
    "id": "pE2LeCee6MYN",
    "outputId": "f96225e3-eeca-473c-f4b8-7dfeddfd0c0d"
   },
   "outputs": [
    {
     "name": "stdout",
     "output_type": "stream",
     "text": [
      "Top 10 words for topic #0:\n",
      "['update', 'change', 'alert', 'プレゼント', 'average', 'current', 'volume', 'bitcoin', 'price', 'btc']\n",
      "\n",
      "\n",
      "Top 10 words for topic #1:\n",
      "['x', 'xlm', 'ada', 'bch', 'eos', 'trx', 'ltc', 'xrp', 'eth', 'btc']\n",
      "\n",
      "\n",
      "Top 10 words for topic #2:\n",
      "['eur', 'prices', 'ethereum', 'ltc', 'eth', 'bch', 'btc', 'xrp', 'bitcoin', 'usd']\n",
      "\n",
      "\n",
      "Top 10 words for topic #3:\n",
      "['crypto', 'free', 'utc', 'join', 'pic', 'airdrop', 'com', 'bitcoin', 'twitter', 'btc']\n",
      "\n",
      "\n",
      "Top 10 words for topic #4:\n",
      "['info', 'jobs', 'trade', 'blockchain', 'crypto', 'amp', 'trading', 'cryptocurrency', 'btc', 'bitcoin']\n",
      "\n",
      "\n",
      "Top 10 words for topic #5:\n",
      "['trading', 'ico', 'news', 'exchange', 'btc', 'ethereum', 'blockchain', 'cryptocurrency', 'crypto', 'bitcoin']\n",
      "\n",
      "\n",
      "Top 10 words for topic #6:\n",
      "['txs', 'sell', 'h', 'binance', 'price', 'k', 'buy', 'market', 'bitcoin', 'btc']\n",
      "\n",
      "\n",
      "Top 10 words for topic #7:\n",
      "['ltc', 'xrp', 'volume', 'transactions', '円', 'jpy', 'block', 'eth', 'btc', 'gt']\n",
      "\n",
      "\n",
      "Top 10 words for topic #8:\n",
      "['great', 'time', 'blockchain', 'business', 'best', 'good', 'project', 'btc', 'crypto', 'bitcoin']\n",
      "\n",
      "\n",
      "Top 10 words for topic #9:\n",
      "['currency', 'think', 'know', 'gold', 'use', 'money', 'people', 'like', 'btc', 'bitcoin']\n",
      "\n",
      "\n"
     ]
    }
   ],
   "source": [
    "#print the 10 words with highest probabilities for all the five topics\n",
    "for i,topic in enumerate(lda.components_):\n",
    "    print(f'Top 10 words for topic #{i}:')\n",
    "    print([bow_vectorizer.get_feature_names()[i] for i in topic.argsort()[-10:]])\n",
    "    print('\\n')"
   ]
  },
  {
   "cell_type": "code",
   "execution_count": 21,
   "metadata": {
    "colab": {
     "base_uri": "https://localhost:8080/",
     "height": 297
    },
    "id": "GZ4TpcOS615Y",
    "outputId": "99f4af4d-8076-453d-ba06-a0d692346e61"
   },
   "outputs": [
    {
     "data": {
      "text/html": [
       "<div>\n",
       "<style scoped>\n",
       "    .dataframe tbody tr th:only-of-type {\n",
       "        vertical-align: middle;\n",
       "    }\n",
       "\n",
       "    .dataframe tbody tr th {\n",
       "        vertical-align: top;\n",
       "    }\n",
       "\n",
       "    .dataframe thead th {\n",
       "        text-align: right;\n",
       "    }\n",
       "</style>\n",
       "<table border=\"1\" class=\"dataframe\">\n",
       "  <thead>\n",
       "    <tr style=\"text-align: right;\">\n",
       "      <th></th>\n",
       "      <th>Unnamed: 0</th>\n",
       "      <th>date</th>\n",
       "      <th>year</th>\n",
       "      <th>clean</th>\n",
       "      <th>url</th>\n",
       "      <th>tags</th>\n",
       "      <th>promote</th>\n",
       "      <th>Topic</th>\n",
       "    </tr>\n",
       "  </thead>\n",
       "  <tbody>\n",
       "    <tr>\n",
       "      <th>3520694</th>\n",
       "      <td>3520694</td>\n",
       "      <td>2019-07-23</td>\n",
       "      <td>2019</td>\n",
       "      <td>choose random followers win eth please follow ...</td>\n",
       "      <td></td>\n",
       "      <td>freetoken freecoin Ethereum airdrop giveaway t...</td>\n",
       "      <td></td>\n",
       "      <td>3</td>\n",
       "    </tr>\n",
       "    <tr>\n",
       "      <th>3883457</th>\n",
       "      <td>3883457</td>\n",
       "      <td>2019-08-03</td>\n",
       "      <td>2019</td>\n",
       "      <td>’ seen threads</td>\n",
       "      <td>https://t.co/SQALL3heTV</td>\n",
       "      <td></td>\n",
       "      <td></td>\n",
       "      <td>0</td>\n",
       "    </tr>\n",
       "    <tr>\n",
       "      <th>2489287</th>\n",
       "      <td>2489287</td>\n",
       "      <td>2019-06-24</td>\n",
       "      <td>2019</td>\n",
       "      <td>ae rapid long period increase h v users notifi...</td>\n",
       "      <td>https://t.co/yect2ma8nX https://t.co/mfcT6cyBb...</td>\n",
       "      <td>AE crypto coinalert blockchain altcoins binanc...</td>\n",
       "      <td></td>\n",
       "      <td>1</td>\n",
       "    </tr>\n",
       "    <tr>\n",
       "      <th>4270152</th>\n",
       "      <td>4270152</td>\n",
       "      <td>2019-08-15</td>\n",
       "      <td>2019</td>\n",
       "      <td>august btc usd 😄 😋 investing fire ira k money ...</td>\n",
       "      <td>https://t.co/ksCOqyBwFU</td>\n",
       "      <td>money Savings crypto CapitalGain btc stock eth...</td>\n",
       "      <td></td>\n",
       "      <td>4</td>\n",
       "    </tr>\n",
       "    <tr>\n",
       "      <th>5826809</th>\n",
       "      <td>5826809</td>\n",
       "      <td>2019-10-07</td>\n",
       "      <td>2019</td>\n",
       "      <td>btc この保ち合いの後 プレ企画 企画 仮想通貨 貰える プレゼント イーサリアム プレゼ...</td>\n",
       "      <td></td>\n",
       "      <td>貰える 仮想通貨 airdrop プレ企画 BTC プレゼント イーサリアム 企画</td>\n",
       "      <td></td>\n",
       "      <td>0</td>\n",
       "    </tr>\n",
       "  </tbody>\n",
       "</table>\n",
       "</div>"
      ],
      "text/plain": [
       "         Unnamed: 0        date  ...  promote Topic\n",
       "3520694     3520694  2019-07-23  ...              3\n",
       "3883457     3883457  2019-08-03  ...              0\n",
       "2489287     2489287  2019-06-24  ...              1\n",
       "4270152     4270152  2019-08-15  ...              4\n",
       "5826809     5826809  2019-10-07  ...              0\n",
       "\n",
       "[5 rows x 8 columns]"
      ]
     },
     "execution_count": 21,
     "metadata": {
      "tags": []
     },
     "output_type": "execute_result"
    }
   ],
   "source": [
    "#add a column to the original data frame that will store the topic for the text\n",
    "#This method will assign the probability of all the topics to each document\n",
    "topic_values = lda.transform(X)\n",
    "df['Topic'] = topic_values.argmax(axis=1)\n",
    "df.sample(5)"
   ]
  },
  {
   "cell_type": "code",
   "execution_count": 22,
   "metadata": {
    "id": "stqyLfG7Srhv"
   },
   "outputs": [],
   "source": [
    "df.to_csv('/content/drive/MyDrive/Colab Notebooks/NLP/tweetsTopic.csv')"
   ]
  }
 ],
 "metadata": {
  "colab": {
   "collapsed_sections": [],
   "machine_shape": "hm",
   "name": "NLP5 Unsupervised find clusters",
   "provenance": []
  },
  "kernelspec": {
   "display_name": "Python 3",
   "language": "python",
   "name": "python3"
  },
  "language_info": {
   "codemirror_mode": {
    "name": "ipython",
    "version": 3
   },
   "file_extension": ".py",
   "mimetype": "text/x-python",
   "name": "python",
   "nbconvert_exporter": "python",
   "pygments_lexer": "ipython3",
   "version": "3.7.7"
  }
 },
 "nbformat": 4,
 "nbformat_minor": 1
}
