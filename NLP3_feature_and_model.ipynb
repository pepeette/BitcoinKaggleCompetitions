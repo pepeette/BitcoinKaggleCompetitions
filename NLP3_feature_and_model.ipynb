{
 "cells": [
  {
   "cell_type": "code",
   "execution_count": null,
   "metadata": {
    "id": "tZRSiDYNQLSr"
   },
   "outputs": [],
   "source": [
    "# "
   ]
  },
  {
   "cell_type": "markdown",
   "metadata": {
    "id": "tvTemFCOPqr4"
   },
   "source": [
    "applying deep learning on twitter’s sentiment analysis\n",
    "\n",
    "*   Train Model - use keras to build and train a deep neural network model\n",
    "\n",
    "*   Evaluate Model - measure the accuracy of the predictive model, and suggest further improvements\n"
   ]
  },
  {
   "cell_type": "markdown",
   "metadata": {
    "id": "83bZgjYjwUZk"
   },
   "source": [
    "IMPORTING DATASET\n"
   ]
  },
  {
   "cell_type": "code",
   "execution_count": null,
   "metadata": {
    "id": "87T5BetZQYQv"
   },
   "outputs": [],
   "source": [
    "from time import time\n",
    "import pandas as pd\n",
    "import numpy as np\n",
    "import re\n",
    "import csv\n",
    "import matplotlib.pyplot as plt\n",
    "import seaborn as sns\n",
    "\n",
    "import itertools\n",
    "import datetime\n",
    "\n",
    "from sklearn.feature_extraction.text import CountVectorizer\n",
    "from sklearn.naive_bayes import MultinomialNB\n",
    "from sklearn.feature_extraction.text import TfidfTransformer\n",
    "from sklearn.ensemble import RandomForestClassifier, ExtraTreesClassifier,AdaBoostClassifier\n",
    "from sklearn.tree import DecisionTreeClassifier"
   ]
  },
  {
   "cell_type": "code",
   "execution_count": null,
   "metadata": {
    "colab": {
     "base_uri": "https://localhost:8080/"
    },
    "id": "vGgPw6lXwgIK",
    "outputId": "1fe756a2-968d-46ff-8689-3047f2b8c0c6"
   },
   "outputs": [
    {
     "name": "stdout",
     "output_type": "stream",
     "text": [
      "Mounted at /content/drive\n"
     ]
    }
   ],
   "source": [
    "#being able to read csv stored in google drive \n",
    "from google.colab import drive\n",
    "drive.mount(\"/content/drive\")"
   ]
  },
  {
   "cell_type": "code",
   "execution_count": null,
   "metadata": {
    "colab": {
     "base_uri": "https://localhost:8080/",
     "height": 137
    },
    "id": "fMujS02_wcVJ",
    "outputId": "c0b6099a-2c41-4fee-950e-80e81876e8f2"
   },
   "outputs": [
    {
     "data": {
      "text/html": [
       "<div>\n",
       "<style scoped>\n",
       "    .dataframe tbody tr th:only-of-type {\n",
       "        vertical-align: middle;\n",
       "    }\n",
       "\n",
       "    .dataframe tbody tr th {\n",
       "        vertical-align: top;\n",
       "    }\n",
       "\n",
       "    .dataframe thead th {\n",
       "        text-align: right;\n",
       "    }\n",
       "</style>\n",
       "<table border=\"1\" class=\"dataframe\">\n",
       "  <thead>\n",
       "    <tr style=\"text-align: right;\">\n",
       "      <th></th>\n",
       "      <th>Unnamed: 0</th>\n",
       "      <th>date</th>\n",
       "      <th>year</th>\n",
       "      <th>clean</th>\n",
       "      <th>url</th>\n",
       "      <th>tags</th>\n",
       "      <th>promote</th>\n",
       "    </tr>\n",
       "  </thead>\n",
       "  <tbody>\n",
       "    <tr>\n",
       "      <th>1095120</th>\n",
       "      <td>1095120</td>\n",
       "      <td>2019-05-13</td>\n",
       "      <td>2019</td>\n",
       "      <td>lack price uniformity market via icos investor...</td>\n",
       "      <td></td>\n",
       "      <td>crypto blockchain toqqn ooobtc ethereum obx bi...</td>\n",
       "      <td></td>\n",
       "    </tr>\n",
       "    <tr>\n",
       "      <th>4585477</th>\n",
       "      <td>4585477</td>\n",
       "      <td>2019-08-26</td>\n",
       "      <td>2019</td>\n",
       "      <td>new episode cnbc ’ crypto trader head global c...</td>\n",
       "      <td>https://t.co/kEILCVV97t</td>\n",
       "      <td>Money global Crypto analytics Bitcoin’s custom...</td>\n",
       "      <td></td>\n",
       "    </tr>\n",
       "    <tr>\n",
       "      <th>1280441</th>\n",
       "      <td>1280441</td>\n",
       "      <td>2019-05-17</td>\n",
       "      <td>2019</td>\n",
       "      <td>bitcoin btc price analysis danger ahead ’ look...</td>\n",
       "      <td>https://t.co/hNNOAC5yl3 https://t.co/lHMOLyy38O</td>\n",
       "      <td>cryptocurrencynews eth ethereum bitcoin liteco...</td>\n",
       "      <td></td>\n",
       "    </tr>\n",
       "  </tbody>\n",
       "</table>\n",
       "</div>"
      ],
      "text/plain": [
       "         Unnamed: 0  ... promote\n",
       "1095120     1095120  ...        \n",
       "4585477     4585477  ...        \n",
       "1280441     1280441  ...        \n",
       "\n",
       "[3 rows x 7 columns]"
      ]
     },
     "execution_count": 5,
     "metadata": {
      "tags": []
     },
     "output_type": "execute_result"
    }
   ],
   "source": [
    "# Reading the dataset with no columns titles and with latin encoding \n",
    "df = pd.read_csv('/content/drive/MyDrive/Colab Notebooks/NLP/tweetsClean.csv')\n",
    "df.sample(3)\n",
    "\n"
   ]
  },
  {
   "cell_type": "code",
   "execution_count": null,
   "metadata": {
    "colab": {
     "base_uri": "https://localhost:8080/"
    },
    "id": "YOckP_sYQcda",
    "outputId": "6cb9946c-f7d8-400b-b6cf-a53106f5cd69"
   },
   "outputs": [
    {
     "name": "stdout",
     "output_type": "stream",
     "text": [
      "<class 'pandas.core.frame.DataFrame'>\n",
      "RangeIndex: 7080772 entries, 0 to 7080771\n",
      "Data columns (total 7 columns):\n",
      " #   Column      Dtype \n",
      "---  ------      ----- \n",
      " 0   Unnamed: 0  int64 \n",
      " 1   date        object\n",
      " 2   year        int64 \n",
      " 3   clean       object\n",
      " 4   url         object\n",
      " 5   tags        object\n",
      " 6   promote     object\n",
      "dtypes: int64(2), object(5)\n",
      "memory usage: 378.2+ MB\n"
     ]
    }
   ],
   "source": [
    "# Checking if there is any missing value and datatype \n",
    "df.info()"
   ]
  },
  {
   "cell_type": "code",
   "execution_count": null,
   "metadata": {
    "colab": {
     "base_uri": "https://localhost:8080/"
    },
    "id": "_F9FfyFSQl_5",
    "outputId": "9f3d2d24-a935-47a0-9574-86d2889c4e34"
   },
   "outputs": [
    {
     "data": {
      "text/plain": [
       "Unnamed: 0        0\n",
       "date              0\n",
       "year              0\n",
       "clean         15390\n",
       "url               0\n",
       "tags           9289\n",
       "promote           0\n",
       "dtype: int64"
      ]
     },
     "execution_count": 7,
     "metadata": {
      "tags": []
     },
     "output_type": "execute_result"
    }
   ],
   "source": [
    "\n",
    "# checking for null values, if any\n",
    "df.isnull().sum()"
   ]
  },
  {
   "cell_type": "code",
   "execution_count": null,
   "metadata": {
    "id": "xalsFDNyQp66"
   },
   "outputs": [],
   "source": [
    "#ditching all row when text is null, as need text for analysis\n",
    "df.dropna(how='any', inplace=True)"
   ]
  },
  {
   "cell_type": "code",
   "execution_count": null,
   "metadata": {
    "colab": {
     "base_uri": "https://localhost:8080/",
     "height": 137
    },
    "id": "XryjXIYhQ_gM",
    "outputId": "88033311-e98a-4b24-d5a7-3098e3860698"
   },
   "outputs": [
    {
     "data": {
      "text/html": [
       "<div>\n",
       "<style scoped>\n",
       "    .dataframe tbody tr th:only-of-type {\n",
       "        vertical-align: middle;\n",
       "    }\n",
       "\n",
       "    .dataframe tbody tr th {\n",
       "        vertical-align: top;\n",
       "    }\n",
       "\n",
       "    .dataframe thead th {\n",
       "        text-align: right;\n",
       "    }\n",
       "</style>\n",
       "<table border=\"1\" class=\"dataframe\">\n",
       "  <thead>\n",
       "    <tr style=\"text-align: right;\">\n",
       "      <th></th>\n",
       "      <th>Unnamed: 0</th>\n",
       "      <th>date</th>\n",
       "      <th>year</th>\n",
       "      <th>clean</th>\n",
       "      <th>url</th>\n",
       "      <th>tags</th>\n",
       "      <th>promote</th>\n",
       "    </tr>\n",
       "  </thead>\n",
       "  <tbody>\n",
       "    <tr>\n",
       "      <th>1615388</th>\n",
       "      <td>1615388</td>\n",
       "      <td>2019-05-27</td>\n",
       "      <td>2019</td>\n",
       "      <td>nice sunday funday skeet skeet finally burp re...</td>\n",
       "      <td>https://t.co/2Rp2iSq8Tk</td>\n",
       "      <td></td>\n",
       "      <td></td>\n",
       "    </tr>\n",
       "    <tr>\n",
       "      <th>3547929</th>\n",
       "      <td>3547929</td>\n",
       "      <td>2019-07-23</td>\n",
       "      <td>2019</td>\n",
       "      <td>picking baskets going balls deep next years le...</td>\n",
       "      <td></td>\n",
       "      <td></td>\n",
       "      <td></td>\n",
       "    </tr>\n",
       "    <tr>\n",
       "      <th>219531</th>\n",
       "      <td>219531</td>\n",
       "      <td>2017-12-09</td>\n",
       "      <td>2017</td>\n",
       "      <td>buy gold silver bitcoin panama gold silver pan...</td>\n",
       "      <td>https://panamagoldbullion.com/</td>\n",
       "      <td>Gold Silver Bitcoin Panama</td>\n",
       "      <td></td>\n",
       "    </tr>\n",
       "  </tbody>\n",
       "</table>\n",
       "</div>"
      ],
      "text/plain": [
       "         Unnamed: 0        date  ...                        tags promote\n",
       "1615388     1615388  2019-05-27  ...                                    \n",
       "3547929     3547929  2019-07-23  ...                                    \n",
       "219531       219531  2017-12-09  ...  Gold Silver Bitcoin Panama        \n",
       "\n",
       "[3 rows x 7 columns]"
      ]
     },
     "execution_count": 9,
     "metadata": {
      "tags": []
     },
     "output_type": "execute_result"
    }
   ],
   "source": [
    "df.sample(3)"
   ]
  },
  {
   "cell_type": "markdown",
   "metadata": {
    "id": "bBjUmI-Gtt_H"
   },
   "source": [
    "EXTRACTING FEATURES FROM CLEANED TWEETS 10 min"
   ]
  },
  {
   "cell_type": "code",
   "execution_count": null,
   "metadata": {
    "id": "HNJz_AVvtyqu"
   },
   "outputs": [],
   "source": [
    "from sklearn.feature_extraction.text import TfidfVectorizer, CountVectorizer"
   ]
  },
  {
   "cell_type": "code",
   "execution_count": null,
   "metadata": {
    "colab": {
     "base_uri": "https://localhost:8080/"
    },
    "id": "NJ1nCxQJts15",
    "outputId": "ff3077b8-7838-4c37-b186-8a3ee072b91b"
   },
   "outputs": [
    {
     "data": {
      "text/plain": [
       "(7056094, 1000)"
      ]
     },
     "execution_count": 10,
     "metadata": {
      "tags": []
     },
     "output_type": "execute_result"
    }
   ],
   "source": [
    "#bag of words = OPTION A\n",
    "bow_vectorizer = CountVectorizer(max_df=0.90, min_df=2, max_features=1000, stop_words='english')\n",
    "bow = bow_vectorizer.fit_transform(df['clean'])\n",
    "bow.shape"
   ]
  },
  {
   "cell_type": "code",
   "execution_count": null,
   "metadata": {
    "colab": {
     "base_uri": "https://localhost:8080/"
    },
    "id": "hJ6aZevKt4T0",
    "outputId": "62603802-695c-47e7-f1e4-9f8aec4d5ac4"
   },
   "outputs": [
    {
     "data": {
      "text/plain": [
       "(7056094, 1000)"
      ]
     },
     "execution_count": 11,
     "metadata": {
      "tags": []
     },
     "output_type": "execute_result"
    }
   ],
   "source": [
    "#TfIdf = OPTION B \n",
    "\n",
    "tfidf_vectorizer = TfidfVectorizer(max_df=0.90, min_df=2, max_features=1000, stop_words='english')\n",
    "tfidf = tfidf_vectorizer.fit_transform(df['clean'])\n",
    "tfidf.shape"
   ]
  },
  {
   "cell_type": "markdown",
   "metadata": {
    "id": "KA26z4laQyYm"
   },
   "source": [
    "Word 2 Vec : KeyError: \"word 'eth vs btc relative vol spread interesting junction esp given btc dominance v alt season sentiment participants cryptooptions releativevalue' not in vocabulary\"\n",
    "or  \"word 'bizpaye trading platform system unique never done history modern day trade exchanges bizpaye marketplace hodl bartercredit crypto cryptotrading btc onlineshopping merchants ecommerce bb bc retail' not in vocabulary\""
   ]
  },
  {
   "cell_type": "markdown",
   "metadata": {
    "id": "zu-jU0iUk0T0"
   },
   "source": [
    "PREPARE FOR MODELING\n",
    "\n",
    "\n",
    "\n",
    "\n",
    "\n",
    "\n",
    "---\n",
    "\n"
   ]
  },
  {
   "cell_type": "markdown",
   "metadata": {
    "id": "zCpmVRAQ6Z1u"
   },
   "source": [
    "DEFINING X and Y"
   ]
  },
  {
   "cell_type": "code",
   "execution_count": null,
   "metadata": {
    "id": "Q6H3n3zEnMVB"
   },
   "outputs": [],
   "source": [
    "from sklearn.feature_extraction.text import TfidfVectorizer\n",
    "from sklearn.model_selection import train_test_split\n",
    "from nltk.stem import PorterStemmer\n",
    "from nltk.stem import WordNetLemmatizer\n",
    "# ML Libraries\n",
    "from sklearn.metrics import accuracy_score\n",
    "from sklearn.naive_bayes import MultinomialNB\n",
    "from sklearn.linear_model import LogisticRegression\n",
    "from sklearn.svm import SVC"
   ]
  },
  {
   "cell_type": "code",
   "execution_count": null,
   "metadata": {
    "id": "8X57bQvLlLdM"
   },
   "outputs": [],
   "source": [
    "#1- vectoring data\n",
    "def get_feature_vector(train_fit):\n",
    "    vector = TfidfVectorizer(sublinear_tf=True)\n",
    "    vector.fit(train_fit)\n",
    "    return vector\n"
   ]
  },
  {
   "cell_type": "code",
   "execution_count": null,
   "metadata": {
    "colab": {
     "base_uri": "https://localhost:8080/",
     "height": 221
    },
    "id": "jQTMk4whbMEH",
    "outputId": "f332af9d-d4ec-4bae-f0be-bd4ad4ae600a"
   },
   "outputs": [
    {
     "data": {
      "text/html": [
       "<div>\n",
       "<style scoped>\n",
       "    .dataframe tbody tr th:only-of-type {\n",
       "        vertical-align: middle;\n",
       "    }\n",
       "\n",
       "    .dataframe tbody tr th {\n",
       "        vertical-align: top;\n",
       "    }\n",
       "\n",
       "    .dataframe thead th {\n",
       "        text-align: right;\n",
       "    }\n",
       "</style>\n",
       "<table border=\"1\" class=\"dataframe\">\n",
       "  <thead>\n",
       "    <tr style=\"text-align: right;\">\n",
       "      <th></th>\n",
       "      <th>Unnamed: 0</th>\n",
       "      <th>date</th>\n",
       "      <th>text</th>\n",
       "      <th>year</th>\n",
       "      <th>month</th>\n",
       "      <th>day</th>\n",
       "      <th>text1</th>\n",
       "      <th>url</th>\n",
       "      <th>tags</th>\n",
       "      <th>promote</th>\n",
       "      <th>clean</th>\n",
       "      <th>sent</th>\n",
       "    </tr>\n",
       "  </thead>\n",
       "  <tbody>\n",
       "    <tr>\n",
       "      <th>7080769</th>\n",
       "      <td>21513683</td>\n",
       "      <td>2019-11-23</td>\n",
       "      <td>@ABC Setup your FREE account Now : https://t.c...</td>\n",
       "      <td>2019</td>\n",
       "      <td>11</td>\n",
       "      <td>23</td>\n",
       "      <td>@ABC Setup your FREE account Now : https://t.c...</td>\n",
       "      <td>https://t.co/J2f8AlXFqZ https://t.co/J2f8AlXFqZ</td>\n",
       "      <td>Crypto Bitcoin btc Cryptocurrency BTC</td>\n",
       "      <td></td>\n",
       "      <td>setup free account automatic bitcome get paid ...</td>\n",
       "      <td>BULL2</td>\n",
       "    </tr>\n",
       "    <tr>\n",
       "      <th>7080770</th>\n",
       "      <td>21513685</td>\n",
       "      <td>2019-11-23</td>\n",
       "      <td>@OJRenick So you don't need bitcoin, aye? http...</td>\n",
       "      <td>2019</td>\n",
       "      <td>11</td>\n",
       "      <td>23</td>\n",
       "      <td>@OJRenick So you don't need bitcoin, aye? http...</td>\n",
       "      <td>https://t.co/F8QCKgKM8Y</td>\n",
       "      <td></td>\n",
       "      <td></td>\n",
       "      <td>need bitcoin aye</td>\n",
       "      <td>BULL2</td>\n",
       "    </tr>\n",
       "    <tr>\n",
       "      <th>7080771</th>\n",
       "      <td>21540059</td>\n",
       "      <td>2019-11-23</td>\n",
       "      <td>$BTC - an update on the longer term view for B...</td>\n",
       "      <td>2019</td>\n",
       "      <td>11</td>\n",
       "      <td>23</td>\n",
       "      <td>$BTC - an update on the longer term view for B...</td>\n",
       "      <td>https://t.co/yBEMdy9pwp</td>\n",
       "      <td></td>\n",
       "      <td></td>\n",
       "      <td>btc update longer term view btc price action s...</td>\n",
       "      <td>BULL2</td>\n",
       "    </tr>\n",
       "  </tbody>\n",
       "</table>\n",
       "</div>"
      ],
      "text/plain": [
       "         Unnamed: 0  ...   sent\n",
       "7080769    21513683  ...  BULL2\n",
       "7080770    21513685  ...  BULL2\n",
       "7080771    21540059  ...  BULL2\n",
       "\n",
       "[3 rows x 12 columns]"
      ]
     },
     "execution_count": 14,
     "metadata": {
      "tags": []
     },
     "output_type": "execute_result"
    }
   ],
   "source": [
    "#2- CREATING a FAKE Y\n",
    "#ate 11 dec 2017\n",
    "#ate 10 dec 2018\n",
    "#ate end\n",
    "\n",
    "def senti(x):\n",
    "  if x < 2018:\n",
    "    return 'BULL'\n",
    "  elif x > 2018:\n",
    "    return 'BULL2'\n",
    "  else:\n",
    "    return 'BEAR'\n",
    "\n",
    "df['sent'] = df['year'].apply(lambda x: senti(x) )\n",
    "df.tail(3)"
   ]
  },
  {
   "cell_type": "code",
   "execution_count": null,
   "metadata": {
    "colab": {
     "base_uri": "https://localhost:8080/"
    },
    "id": "HAVHqoGPn36j",
    "outputId": "b4a4ca7c-6bc1-477d-8c21-734daea759ca"
   },
   "outputs": [
    {
     "data": {
      "text/plain": [
       "BULL2    6310080\n",
       "BEAR      507078\n",
       "BULL      238936\n",
       "Name: sent, dtype: int64"
      ]
     },
     "execution_count": 15,
     "metadata": {
      "tags": []
     },
     "output_type": "execute_result"
    }
   ],
   "source": [
    "df['sent'].value_counts()"
   ]
  },
  {
   "cell_type": "code",
   "execution_count": null,
   "metadata": {
    "id": "8GVBlrYOmRME"
   },
   "outputs": [],
   "source": [
    "#splitting - takes 5 minutes\n",
    "tf_vector = get_feature_vector(np.array(df['clean']).ravel())\n",
    "X = tf_vector.transform(np.array(df['clean']).ravel())"
   ]
  },
  {
   "cell_type": "code",
   "execution_count": null,
   "metadata": {
    "colab": {
     "base_uri": "https://localhost:8080/"
    },
    "id": "FE75AKBckPOL",
    "outputId": "bb25c0fd-176f-4b13-ce37-c331145ac127"
   },
   "outputs": [
    {
     "data": {
      "text/plain": [
       "<1x950508 sparse matrix of type '<class 'numpy.float64'>'\n",
       "\twith 6 stored elements in Compressed Sparse Row format>"
      ]
     },
     "execution_count": 22,
     "metadata": {
      "tags": []
     },
     "output_type": "execute_result"
    }
   ],
   "source": [
    "X[0]"
   ]
  },
  {
   "cell_type": "code",
   "execution_count": null,
   "metadata": {
    "id": "vnPHr_h3sOFU"
   },
   "outputs": [],
   "source": [
    "y = np.array(df['sent']).ravel()\n",
    "X_train, X_test, y_train, y_test = train_test_split(X, y, test_size=0.3, random_state=30)"
   ]
  },
  {
   "cell_type": "markdown",
   "metadata": {
    "id": "Nq5eSFg4PURa"
   },
   "source": [
    "LAUNCHING MODEL BASES after 1 hour of running the preproc\n",
    "\n"
   ]
  },
  {
   "cell_type": "code",
   "execution_count": null,
   "metadata": {
    "colab": {
     "base_uri": "https://localhost:8080/"
    },
    "id": "UplF8soinXXS",
    "outputId": "2f2f9c44-3779-4be6-98a8-5029ea18013a"
   },
   "outputs": [
    {
     "name": "stdout",
     "output_type": "stream",
     "text": [
      "0.9115918196509969\n"
     ]
    }
   ],
   "source": [
    "# Training Naive Bayes model\n",
    "NB_model = MultinomialNB()\n",
    "NB_model.fit(X_train, y_train)\n",
    "y_predict_nb = NB_model.predict(X_test)\n",
    "print(accuracy_score(y_test, y_predict_nb))"
   ]
  },
  {
   "cell_type": "code",
   "execution_count": null,
   "metadata": {
    "colab": {
     "base_uri": "https://localhost:8080/"
    },
    "id": "UFggilGzndGa",
    "outputId": "86a44d7c-b32d-4238-b742-4cdb49244843"
   },
   "outputs": [
    {
     "name": "stderr",
     "output_type": "stream",
     "text": [
      "/usr/local/lib/python3.6/dist-packages/sklearn/linear_model/_logistic.py:940: ConvergenceWarning: lbfgs failed to converge (status=1):\n",
      "STOP: TOTAL NO. of ITERATIONS REACHED LIMIT.\n",
      "\n",
      "Increase the number of iterations (max_iter) or scale the data as shown in:\n",
      "    https://scikit-learn.org/stable/modules/preprocessing.html\n",
      "Please also refer to the documentation for alternative solver options:\n",
      "    https://scikit-learn.org/stable/modules/linear_model.html#logistic-regression\n",
      "  extra_warning_msg=_LOGISTIC_SOLVER_CONVERGENCE_MSG)\n"
     ]
    },
    {
     "name": "stdout",
     "output_type": "stream",
     "text": [
      "0.9313789635346077\n"
     ]
    }
   ],
   "source": [
    "# Training Logistics Regression model - reducing to solver lbfgs for 5 min cause libelinear or newton_cg are to expansive and take 12 good minutes\n",
    "LR_model = LogisticRegression(solver='lbfgs', max_iter=100)\n",
    "LR_model.fit(X_train, y_train)\n",
    "y_predict_lr = LR_model.predict(X_test)\n",
    "print(accuracy_score(y_test, y_predict_lr))"
   ]
  },
  {
   "cell_type": "code",
   "execution_count": null,
   "metadata": {
    "id": "oZTm8_TPP4gF"
   },
   "outputs": [],
   "source": [
    "#SVM - takes 15 min\n",
    "from sklearn import svm\n",
    "svc = svm.SVC(kernel='linear')\n",
    "svc.fit(X_train, y_train)\n",
    "y_predict_svm =  svc.predict_proba(X_test)\n"
   ]
  },
  {
   "cell_type": "code",
   "execution_count": null,
   "metadata": {
    "id": "slYEjO-4g6mn"
   },
   "outputs": [],
   "source": [
    "from sklearn import metrics\n",
    "\n",
    "# Model Accuracy: how often is the classifier correct?\n",
    "print(\"Accuracy:\",metrics.accuracy_score(y_test, y_predict_svm))\n",
    "# Model Precision: what percentage of positive tuples are labeled as such?\n",
    "print(\"Precision:\",metrics.precision_score(y_test, y_predict_svm))\n",
    "# Model Recall: what percentage of positive tuples are labelled as such?\n",
    "print(\"Recall:\",metrics.recall_score(y_test, y_predict_svm))"
   ]
  },
  {
   "cell_type": "code",
   "execution_count": null,
   "metadata": {
    "id": "HkdGcJn6RJZq"
   },
   "outputs": [],
   "source": [
    "#Training Random Forest still nothing after 37 mn\n",
    "\n",
    "from sklearn.ensemble import RandomForestClassifier\n",
    "rf = RandomForestClassifier(n_estimators=1000, random_state=0)\n",
    "rf.fit(X_train, y_train) \n",
    "y_predict_rf = rf.predict_proba(X_test)"
   ]
  },
  {
   "cell_type": "code",
   "execution_count": null,
   "metadata": {
    "id": "eRorSS7DS9P3"
   },
   "outputs": [],
   "source": [
    "from sklearn.metrics import classification_report, confusion_matrix, accuracy_score\n",
    "print(accuracy_score(y_test, y_predict_rf))\n",
    "print(confusion_matrix(y_test,y_predict_rf))\n",
    "print(classification_report(y_test,y_predict_rf))\n",
    "print(accuracy_score(y_test, y_predict_rf))"
   ]
  },
  {
   "cell_type": "code",
   "execution_count": null,
   "metadata": {
    "id": "DMl_nu3-Rjfy"
   },
   "outputs": [],
   "source": [
    "# TRaining XGB\n",
    "from xgboost import XGBClassifier\n",
    "xgb = XGBClassifier(max_depth=6, n_estimators=1000).fit(X_train, y_train)\n",
    "y_predict_xgb = xgb.predict(X_test)\n",
    "print(accuracy_score(yvalid, y_predict_xgb))"
   ]
  },
  {
   "cell_type": "markdown",
   "metadata": {
    "id": "5wBlgh4KRn9j"
   },
   "source": [
    "GO FURTHER\n",
    "score pour chaque column / mot - lesquels ont ete le plus utilise pour predire\n",
    "carac du model ou PCA (mix de col qui marchent le mieux, qu est ce qui max la variance et apporte le plus d info) => qu est ce qui a ete utilise le plus par le modele"
   ]
  },
  {
   "cell_type": "markdown",
   "metadata": {
    "id": "BXuGlHvCFjKo"
   },
   "source": [
    "ajouter d autres colonnes avec  ou essayer d autres modeles comme RF ou classifier plus finement les Y ou faire un clustering non supervise, si pas de Y, patterns par time, plusieurs clusters, can it work"
   ]
  },
  {
   "cell_type": "markdown",
   "metadata": {
    "id": "t1_bBfisL0D8"
   },
   "source": [
    "FINE TUNING\n",
    "\n",
    "\n",
    "\n",
    "\n",
    "\n"
   ]
  },
  {
   "cell_type": "markdown",
   "metadata": {
    "id": "SJqa02aRSFE5"
   },
   "source": [
    "Feature importance :\n",
    "\n",
    "*   from model coefficients.\n",
    "*   from decision trees\n",
    "*   from permutation testing.\n"
   ]
  },
  {
   "cell_type": "code",
   "execution_count": null,
   "metadata": {
    "id": "R2sX_EpnSGJS"
   },
   "outputs": [],
   "source": []
  }
 ],
 "metadata": {
  "colab": {
   "collapsed_sections": [],
   "machine_shape": "hm",
   "name": "NLP3 feature and model",
   "provenance": []
  },
  "kernelspec": {
   "display_name": "Python 3",
   "language": "python",
   "name": "python3"
  },
  "language_info": {
   "codemirror_mode": {
    "name": "ipython",
    "version": 3
   },
   "file_extension": ".py",
   "mimetype": "text/x-python",
   "name": "python",
   "nbconvert_exporter": "python",
   "pygments_lexer": "ipython3",
   "version": "3.7.7"
  }
 },
 "nbformat": 4,
 "nbformat_minor": 1
}
